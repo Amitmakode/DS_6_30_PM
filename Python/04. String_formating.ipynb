{
 "cells": [
  {
   "cell_type": "markdown",
   "id": "0fbcfe17-fba4-47cf-a5ca-c68dd3c5256f",
   "metadata": {},
   "source": [
    "### Special Character "
   ]
  },
  {
   "cell_type": "code",
   "execution_count": 1,
   "id": "a8b4a43c-8397-47d4-8c7a-d272875ca158",
   "metadata": {},
   "outputs": [
    {
     "name": "stdout",
     "output_type": "stream",
     "text": [
      "Hello\n",
      "World\n"
     ]
    }
   ],
   "source": [
    "# \\n new line\n",
    "print(\"Hello\\nWorld\")"
   ]
  },
  {
   "cell_type": "code",
   "execution_count": 2,
   "id": "e9ac0072-dd3b-4bdf-b3be-71e8f01b4777",
   "metadata": {},
   "outputs": [
    {
     "name": "stdout",
     "output_type": "stream",
     "text": [
      "Name:\tAlice\n"
     ]
    }
   ],
   "source": [
    "# \\t tab space\n",
    "print(\"Name:\\tAlice\")"
   ]
  },
  {
   "cell_type": "code",
   "execution_count": null,
   "id": "fec34d1e-01f1-43e4-818c-c79e2c94dc33",
   "metadata": {},
   "outputs": [],
   "source": [
    "# \\\\ (Backslash)\n",
    "\n",
    "path = \"C:\\\\Users\\\\John\\\\Documents\"\n",
    "print(path)"
   ]
  },
  {
   "cell_type": "code",
   "execution_count": null,
   "id": "30e9a5e1-682e-4710-a719-eae11c220195",
   "metadata": {},
   "outputs": [],
   "source": [
    "path = \"C:/Users/John/Documents\"\n",
    "print(path)"
   ]
  },
  {
   "cell_type": "code",
   "execution_count": null,
   "id": "a95956dd-410a-4517-97e6-e690c2292b8f",
   "metadata": {},
   "outputs": [],
   "source": [
    "\"F:\\0. The Data Psychology\\1. Python\\04. Special Character & String Formating.ipynb\""
   ]
  },
  {
   "cell_type": "code",
   "execution_count": 3,
   "id": "64f9e883-2478-437b-af14-bf3eb8e46dc1",
   "metadata": {},
   "outputs": [
    {
     "name": "stdout",
     "output_type": "stream",
     "text": [
      "He said, 'Hello!'\n"
     ]
    }
   ],
   "source": [
    "message = 'He said, \\'Hello!\\''\n",
    "print(message)"
   ]
  },
  {
   "cell_type": "code",
   "execution_count": 4,
   "id": "63386fc6-555b-4530-b99d-3924b24d1962",
   "metadata": {},
   "outputs": [
    {
     "name": "stdout",
     "output_type": "stream",
     "text": [
      "He said, 'Hello!'\n"
     ]
    }
   ],
   "source": [
    "message = \"He said, 'Hello!'\"\n",
    "print(message)"
   ]
  },
  {
   "cell_type": "code",
   "execution_count": 6,
   "id": "91d2de6b-3527-45d9-8846-92e31e0ba861",
   "metadata": {},
   "outputs": [
    {
     "name": "stdout",
     "output_type": "stream",
     "text": [
      " World python\n"
     ]
    }
   ],
   "source": [
    "# \\r (Carriage Return)\n",
    "\n",
    "print(\"Hello \\r World python\")"
   ]
  },
  {
   "cell_type": "raw",
   "id": "d2767ab9-5d11-4143-8c58-d5e2ded35ec6",
   "metadata": {},
   "source": [
    "### String Formating:-\n",
    "\t\n",
    "Old-Style String Formatting (% Formatting)\n",
    "Old-style formatting uses the % operator to insert values into a string template. It's less recommended for new code due to its limitations compared to str.format() and f-strings."
   ]
  },
  {
   "cell_type": "code",
   "execution_count": 12,
   "id": "58664e1a-258d-42ab-a5e0-bb672f84fb7a",
   "metadata": {},
   "outputs": [],
   "source": [
    "# 1.Basic Syntax: Use % followed by a tuple of values or a single value (if only one placeholder) to substitute into the string.\n",
    "name = \"Alice\"\n",
    "lastname = \"david\"\n",
    "age = 30\n",
    "formatted_string = \"My name is %s %s and I am %d years old.\" % (lastname, name, age)"
   ]
  },
  {
   "cell_type": "code",
   "execution_count": 13,
   "id": "509c9b42-a1d7-4e34-84f8-153f5da3acda",
   "metadata": {},
   "outputs": [
    {
     "data": {
      "text/plain": [
       "'My name is david Alice and I am 30 years old.'"
      ]
     },
     "execution_count": 13,
     "metadata": {},
     "output_type": "execute_result"
    }
   ],
   "source": [
    "formatted_string"
   ]
  },
  {
   "cell_type": "code",
   "execution_count": null,
   "id": "8a63efaf-bd92-46fd-8325-c207e694e379",
   "metadata": {},
   "outputs": [],
   "source": [
    "#Formatting Options:\n",
    "# %s for strings\n",
    "# %d for integers\n",
    "# %.f for floating-point numbers"
   ]
  },
  {
   "cell_type": "code",
   "execution_count": 15,
   "id": "d7b327c9-7a1d-415f-8255-3cee1925de74",
   "metadata": {},
   "outputs": [
    {
     "name": "stdout",
     "output_type": "stream",
     "text": [
      "The value of pi is approximately 3.142\n"
     ]
    }
   ],
   "source": [
    "number = 3.14159\n",
    "formatted_number = \"The value of pi is approximately %.3f\" % number\n",
    "print(formatted_number)"
   ]
  },
  {
   "cell_type": "code",
   "execution_count": 18,
   "id": "28583332-67ba-4cf2-9794-7ce5bb9ddac8",
   "metadata": {},
   "outputs": [
    {
     "name": "stdout",
     "output_type": "stream",
     "text": [
      "My name is Bob and I am 25 years Bob old.\n"
     ]
    }
   ],
   "source": [
    "name = \"Bob\"\n",
    "age = 25\n",
    "formatted_string = \"My name is {} and I am {} years old.\".format(name, age, name)\n",
    "print(formatted_string)"
   ]
  },
  {
   "cell_type": "code",
   "execution_count": null,
   "id": "48903545-679e-4ca4-8998-7679c6eb6f80",
   "metadata": {},
   "outputs": [],
   "source": [
    "\"My name is {} and I am {} years old.\""
   ]
  },
  {
   "cell_type": "code",
   "execution_count": 20,
   "id": "7b336d6d-3a92-4ab2-a8af-2567ad586220",
   "metadata": {},
   "outputs": [
    {
     "ename": "SyntaxError",
     "evalue": "invalid syntax (3844516766.py, line 1)",
     "output_type": "error",
     "traceback": [
      "\u001b[1;36m  Cell \u001b[1;32mIn[20], line 1\u001b[1;36m\u001b[0m\n\u001b[1;33m    \"my name is\"name, \"and I am \" age \"years old\"\u001b[0m\n\u001b[1;37m                ^\u001b[0m\n\u001b[1;31mSyntaxError\u001b[0m\u001b[1;31m:\u001b[0m invalid syntax\n"
     ]
    }
   ],
   "source": [
    "\"my name is\"name, \"and I am \" age \"years old\""
   ]
  },
  {
   "cell_type": "code",
   "execution_count": 21,
   "id": "0a157f04-3351-4449-bcaf-fb3ec8432b05",
   "metadata": {},
   "outputs": [
    {
     "name": "stdout",
     "output_type": "stream",
     "text": [
      "My name is Alice, I am 30 years old, and I work as an engineer.\n"
     ]
    }
   ],
   "source": [
    "# f-string\n",
    "\n",
    "name = \"Alice\"\n",
    "age = 30\n",
    "occupation = \"engineer\"\n",
    "\n",
    "# Using f-string to format the output\n",
    "\n",
    "sentence = f\"My name is {name}, I am {age} years old, and I work as an {occupation}.\"\n",
    "print(sentence)"
   ]
  },
  {
   "cell_type": "code",
   "execution_count": 22,
   "id": "3805bb77-b41b-4128-a5d0-363460053076",
   "metadata": {},
   "outputs": [
    {
     "ename": "SyntaxError",
     "evalue": "unterminated string literal (detected at line 1) (4182730891.py, line 1)",
     "output_type": "error",
     "traceback": [
      "\u001b[1;36m  Cell \u001b[1;32mIn[22], line 1\u001b[1;36m\u001b[0m\n\u001b[1;33m    \"Readability: F-strings offer the most readable syntax. #Flexibility:\u001b[0m\n\u001b[1;37m    ^\u001b[0m\n\u001b[1;31mSyntaxError\u001b[0m\u001b[1;31m:\u001b[0m unterminated string literal (detected at line 1)\n"
     ]
    }
   ],
   "source": [
    "\"Readability: F-strings offer the most readable syntax. #Flexibility: \n",
    "F-strings support complex expressions and function calls directly inside {}.\n",
    "Performance: F-strings are generally faster than both % formatting and str.format()\""
   ]
  },
  {
   "cell_type": "code",
   "execution_count": 23,
   "id": "dcfce5f3-9b0a-479a-ae46-e9d5cf2a9938",
   "metadata": {},
   "outputs": [
    {
     "data": {
      "text/plain": [
       "'Readability: F-strings offer the most readable syntax. #Flexibility: \\nF-strings support complex expressions and function calls directly inside {}.\\nPerformance: F-strings are generally faster than both % formatting and str.format()'"
      ]
     },
     "execution_count": 23,
     "metadata": {},
     "output_type": "execute_result"
    }
   ],
   "source": [
    "\"\"\"Readability: F-strings offer the most readable syntax. #Flexibility: \n",
    "F-strings support complex expressions and function calls directly inside {}.\n",
    "Performance: F-strings are generally faster than both % formatting and str.format()\"\"\""
   ]
  },
  {
   "cell_type": "code",
   "execution_count": 24,
   "id": "169cde7b-222d-42f1-9ce8-3c0d19bc9468",
   "metadata": {},
   "outputs": [
    {
     "name": "stdout",
     "output_type": "stream",
     "text": [
      "Readability: F-strings offer the most readable syntax. #Flexibility: \n",
      "F-strings support complex expressions and function calls directly inside {}.\n",
      "Performance: F-strings are generally faster than both % formatting and str.format()\n"
     ]
    }
   ],
   "source": [
    "print(\"\"\"Readability: F-strings offer the most readable syntax. #Flexibility: \n",
    "F-strings support complex expressions and function calls directly inside {}.\n",
    "Performance: F-strings are generally faster than both % formatting and str.format()\"\"\")"
   ]
  },
  {
   "cell_type": "code",
   "execution_count": 25,
   "id": "fe55d15a-1231-4998-b986-38d580e3f2cf",
   "metadata": {},
   "outputs": [],
   "source": [
    "def squre(num):\n",
    "    \"\"\"this square function\n",
    "    used to square number\"\"\"\n",
    "    return num**2"
   ]
  },
  {
   "cell_type": "code",
   "execution_count": 26,
   "id": "b796375a-1e98-443c-a7b3-efb97a4e92e0",
   "metadata": {},
   "outputs": [
    {
     "data": {
      "text/plain": [
       "36"
      ]
     },
     "execution_count": 26,
     "metadata": {},
     "output_type": "execute_result"
    }
   ],
   "source": [
    "squre(6)"
   ]
  },
  {
   "cell_type": "code",
   "execution_count": null,
   "id": "b03f9ff9-cfbd-4e53-a06b-c9e6634c5fca",
   "metadata": {},
   "outputs": [],
   "source": []
  }
 ],
 "metadata": {
  "kernelspec": {
   "display_name": "Python 3 (ipykernel)",
   "language": "python",
   "name": "python3"
  },
  "language_info": {
   "codemirror_mode": {
    "name": "ipython",
    "version": 3
   },
   "file_extension": ".py",
   "mimetype": "text/x-python",
   "name": "python",
   "nbconvert_exporter": "python",
   "pygments_lexer": "ipython3",
   "version": "3.11.7"
  }
 },
 "nbformat": 4,
 "nbformat_minor": 5
}
