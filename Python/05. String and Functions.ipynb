{
 "cells": [
  {
   "cell_type": "markdown",
   "id": "1e2bb46f-4f1a-4a95-ae32-93bda5dac953",
   "metadata": {},
   "source": [
    "## String"
   ]
  },
  {
   "cell_type": "markdown",
   "id": "8d751a78-aca9-46ad-bee9-fac690de1695",
   "metadata": {},
   "source": [
    "##### Mutation"
   ]
  },
  {
   "cell_type": "code",
   "execution_count": 1,
   "id": "5f4f2a9f-69cf-4adb-9565-7420de2c88b4",
   "metadata": {},
   "outputs": [],
   "source": [
    "s = \"hello\""
   ]
  },
  {
   "cell_type": "code",
   "execution_count": 2,
   "id": "60f9946c-3fdd-4e4b-9631-c886f89fce42",
   "metadata": {},
   "outputs": [
    {
     "ename": "TypeError",
     "evalue": "'str' object does not support item assignment",
     "output_type": "error",
     "traceback": [
      "\u001b[1;31m---------------------------------------------------------------------------\u001b[0m",
      "\u001b[1;31mTypeError\u001b[0m                                 Traceback (most recent call last)",
      "Cell \u001b[1;32mIn[2], line 1\u001b[0m\n\u001b[1;32m----> 1\u001b[0m s[\u001b[38;5;241m2\u001b[39m]\u001b[38;5;241m=\u001b[39m \u001b[38;5;124m\"\u001b[39m\u001b[38;5;124mL\u001b[39m\u001b[38;5;124m\"\u001b[39m\n",
      "\u001b[1;31mTypeError\u001b[0m: 'str' object does not support item assignment"
     ]
    }
   ],
   "source": [
    "s[2]= \"L\""
   ]
  },
  {
   "cell_type": "markdown",
   "id": "cc6d3c6a-07bd-499f-8789-38b5d0ce4746",
   "metadata": {},
   "source": [
    "#### Indexing"
   ]
  },
  {
   "cell_type": "code",
   "execution_count": 3,
   "id": "dbcdccbe-c51f-407e-8efe-0eb2b7a8deff",
   "metadata": {},
   "outputs": [],
   "source": [
    "s = \"hello python\""
   ]
  },
  {
   "cell_type": "code",
   "execution_count": 4,
   "id": "cf86af84-35ec-4202-b372-f6bb88fe1010",
   "metadata": {},
   "outputs": [
    {
     "data": {
      "text/plain": [
       "'h'"
      ]
     },
     "execution_count": 4,
     "metadata": {},
     "output_type": "execute_result"
    }
   ],
   "source": [
    "s[0]"
   ]
  },
  {
   "cell_type": "code",
   "execution_count": 5,
   "id": "7f1a3644-62b3-4095-ba4e-0addb4d881c8",
   "metadata": {},
   "outputs": [
    {
     "data": {
      "text/plain": [
       "'n'"
      ]
     },
     "execution_count": 5,
     "metadata": {},
     "output_type": "execute_result"
    }
   ],
   "source": [
    "s[-1]"
   ]
  },
  {
   "cell_type": "code",
   "execution_count": 6,
   "id": "8621c1a3-c405-4535-a259-2a2cc6728cdf",
   "metadata": {},
   "outputs": [
    {
     "data": {
      "text/plain": [
       "'o'"
      ]
     },
     "execution_count": 6,
     "metadata": {},
     "output_type": "execute_result"
    }
   ],
   "source": [
    "s[4]"
   ]
  },
  {
   "cell_type": "markdown",
   "id": "a06cd776-7465-4d1c-96b9-3e48d20df9d0",
   "metadata": {},
   "source": [
    "#### Slicing"
   ]
  },
  {
   "cell_type": "code",
   "execution_count": 7,
   "id": "7e7049e7-b9a4-40d6-ae8a-f6a07cfe1300",
   "metadata": {},
   "outputs": [
    {
     "data": {
      "text/plain": [
       "'hello python'"
      ]
     },
     "execution_count": 7,
     "metadata": {},
     "output_type": "execute_result"
    }
   ],
   "source": [
    "s[:]"
   ]
  },
  {
   "cell_type": "code",
   "execution_count": 8,
   "id": "c676d97e-42c9-4148-aae2-cbdeb305870f",
   "metadata": {},
   "outputs": [
    {
     "data": {
      "text/plain": [
       "'llo pyt'"
      ]
     },
     "execution_count": 8,
     "metadata": {},
     "output_type": "execute_result"
    }
   ],
   "source": [
    "s[2:9]"
   ]
  },
  {
   "cell_type": "code",
   "execution_count": 9,
   "id": "f730c485-f799-485c-beb2-2179b66c36a4",
   "metadata": {},
   "outputs": [],
   "source": [
    "s_var = \"object does@ not support item assignment\""
   ]
  },
  {
   "cell_type": "code",
   "execution_count": 10,
   "id": "9a7d3a71-ebfd-4636-8c37-4dceb478fd2d",
   "metadata": {},
   "outputs": [
    {
     "data": {
      "text/plain": [
       "'tnemngissa meti troppus ton @seod tcejbo'"
      ]
     },
     "execution_count": 10,
     "metadata": {},
     "output_type": "execute_result"
    }
   ],
   "source": [
    "s_var[::-1]"
   ]
  },
  {
   "cell_type": "code",
   "execution_count": 11,
   "id": "ca276905-afb0-4d9d-9d51-8cb7dba5a96b",
   "metadata": {},
   "outputs": [
    {
     "data": {
      "text/plain": [
       "'tenis eitopstn@edteb'"
      ]
     },
     "execution_count": 11,
     "metadata": {},
     "output_type": "execute_result"
    }
   ],
   "source": [
    "s_var[::-2]"
   ]
  },
  {
   "cell_type": "code",
   "execution_count": 13,
   "id": "f14f2cee-f046-49bf-bc0c-bf8c266ab1b2",
   "metadata": {},
   "outputs": [
    {
     "data": {
      "text/plain": [
       "'jc os o u'"
      ]
     },
     "execution_count": 13,
     "metadata": {},
     "output_type": "execute_result"
    }
   ],
   "source": [
    "s_var[2:20:2]"
   ]
  },
  {
   "cell_type": "code",
   "execution_count": 14,
   "id": "f034cd7d-9433-4aab-b027-2f68e73042d0",
   "metadata": {},
   "outputs": [
    {
     "data": {
      "text/plain": [
       "'pu o so cj'"
      ]
     },
     "execution_count": 14,
     "metadata": {},
     "output_type": "execute_result"
    }
   ],
   "source": [
    "s_var[20:1:-2]"
   ]
  },
  {
   "cell_type": "markdown",
   "id": "830df636-642f-46dd-a049-e3d5d7d69539",
   "metadata": {},
   "source": [
    "### String Methods"
   ]
  },
  {
   "cell_type": "code",
   "execution_count": 17,
   "id": "7e7799f1-cd0a-4a96-bc20-f774f3639150",
   "metadata": {},
   "outputs": [
    {
     "data": {
      "text/plain": [
       "2"
      ]
     },
     "execution_count": 17,
     "metadata": {},
     "output_type": "execute_result"
    }
   ],
   "source": [
    "s.count(\"o\")"
   ]
  },
  {
   "cell_type": "code",
   "execution_count": 16,
   "id": "bae7f0c6-d6b5-40a0-a13c-8fc2972c0d1c",
   "metadata": {},
   "outputs": [
    {
     "data": {
      "text/plain": [
       "'hello python'"
      ]
     },
     "execution_count": 16,
     "metadata": {},
     "output_type": "execute_result"
    }
   ],
   "source": [
    "s"
   ]
  },
  {
   "cell_type": "code",
   "execution_count": 18,
   "id": "87f79931-91af-45ad-a201-1a60892cb9c4",
   "metadata": {},
   "outputs": [
    {
     "data": {
      "text/plain": [
       "False"
      ]
     },
     "execution_count": 18,
     "metadata": {},
     "output_type": "execute_result"
    }
   ],
   "source": [
    "s.endswith(\"s\")"
   ]
  },
  {
   "cell_type": "code",
   "execution_count": 19,
   "id": "7f632bb9-1907-4c63-8de5-2df33205bb43",
   "metadata": {},
   "outputs": [
    {
     "data": {
      "text/plain": [
       "4"
      ]
     },
     "execution_count": 19,
     "metadata": {},
     "output_type": "execute_result"
    }
   ],
   "source": [
    "s.find(\"o\")"
   ]
  },
  {
   "cell_type": "code",
   "execution_count": 20,
   "id": "1b04b3bf-f5d6-467f-85bc-192ddc6bcefb",
   "metadata": {},
   "outputs": [
    {
     "data": {
      "text/plain": [
       "10"
      ]
     },
     "execution_count": 20,
     "metadata": {},
     "output_type": "execute_result"
    }
   ],
   "source": [
    "s.rfind(\"o\")"
   ]
  },
  {
   "cell_type": "code",
   "execution_count": 21,
   "id": "d9916941-3dc0-41c3-a590-5c9822813c05",
   "metadata": {},
   "outputs": [
    {
     "data": {
      "text/plain": [
       "6"
      ]
     },
     "execution_count": 21,
     "metadata": {},
     "output_type": "execute_result"
    }
   ],
   "source": [
    "s.index(\"p\")"
   ]
  },
  {
   "cell_type": "code",
   "execution_count": 22,
   "id": "d5b78d1c-d477-4dcb-b192-a768f4ffb35e",
   "metadata": {},
   "outputs": [
    {
     "data": {
      "text/plain": [
       "6"
      ]
     },
     "execution_count": 22,
     "metadata": {},
     "output_type": "execute_result"
    }
   ],
   "source": [
    "s.rindex(\"p\")"
   ]
  },
  {
   "cell_type": "code",
   "execution_count": 24,
   "id": "9c07402e-1eed-4a65-91d1-5450cf0bf9ee",
   "metadata": {},
   "outputs": [
    {
     "data": {
      "text/plain": [
       "'hello python'"
      ]
     },
     "execution_count": 24,
     "metadata": {},
     "output_type": "execute_result"
    }
   ],
   "source": [
    "s"
   ]
  },
  {
   "cell_type": "code",
   "execution_count": 25,
   "id": "7fdb84af-d0f0-4a93-ba12-a52a0a781353",
   "metadata": {},
   "outputs": [
    {
     "data": {
      "text/plain": [
       "False"
      ]
     },
     "execution_count": 25,
     "metadata": {},
     "output_type": "execute_result"
    }
   ],
   "source": [
    "s.isalnum()"
   ]
  },
  {
   "cell_type": "code",
   "execution_count": 26,
   "id": "65690456-64d3-4cb4-9976-7fce77a1ff0f",
   "metadata": {},
   "outputs": [
    {
     "data": {
      "text/plain": [
       "False"
      ]
     },
     "execution_count": 26,
     "metadata": {},
     "output_type": "execute_result"
    }
   ],
   "source": [
    "s.isalpha()"
   ]
  },
  {
   "cell_type": "code",
   "execution_count": 27,
   "id": "d278f552-52f6-4146-a473-d856cb417c9d",
   "metadata": {},
   "outputs": [
    {
     "data": {
      "text/plain": [
       "False"
      ]
     },
     "execution_count": 27,
     "metadata": {},
     "output_type": "execute_result"
    }
   ],
   "source": [
    "s.isdecimal()"
   ]
  },
  {
   "cell_type": "code",
   "execution_count": 28,
   "id": "74bf4e07-aedf-4ce0-a37c-d7bdfac67438",
   "metadata": {},
   "outputs": [
    {
     "data": {
      "text/plain": [
       "False"
      ]
     },
     "execution_count": 28,
     "metadata": {},
     "output_type": "execute_result"
    }
   ],
   "source": [
    "s.isspace()"
   ]
  },
  {
   "cell_type": "code",
   "execution_count": 29,
   "id": "775ad07a-5e64-4d95-96c1-54047f09aa39",
   "metadata": {},
   "outputs": [
    {
     "data": {
      "text/plain": [
       "True"
      ]
     },
     "execution_count": 29,
     "metadata": {},
     "output_type": "execute_result"
    }
   ],
   "source": [
    "\"   \".isspace()"
   ]
  },
  {
   "cell_type": "code",
   "execution_count": 30,
   "id": "0b5530a3-fcb7-4fa1-9506-021eec86dd73",
   "metadata": {},
   "outputs": [
    {
     "data": {
      "text/plain": [
       "False"
      ]
     },
     "execution_count": 30,
     "metadata": {},
     "output_type": "execute_result"
    }
   ],
   "source": [
    "s.istitle()"
   ]
  },
  {
   "cell_type": "code",
   "execution_count": 31,
   "id": "71cbd657-1e9b-4cf9-96e3-54cca774dc60",
   "metadata": {},
   "outputs": [
    {
     "data": {
      "text/plain": [
       "'hello python'"
      ]
     },
     "execution_count": 31,
     "metadata": {},
     "output_type": "execute_result"
    }
   ],
   "source": [
    "s"
   ]
  },
  {
   "cell_type": "code",
   "execution_count": 33,
   "id": "4bc52216-7b27-4283-9347-08375628f0d9",
   "metadata": {},
   "outputs": [
    {
     "data": {
      "text/plain": [
       "'6hello python5hello python4hello python5hello python6'"
      ]
     },
     "execution_count": 33,
     "metadata": {},
     "output_type": "execute_result"
    }
   ],
   "source": [
    "s.join(\"65456\")"
   ]
  },
  {
   "cell_type": "code",
   "execution_count": 34,
   "id": "7b2ef679-b53c-4cb6-8801-e742903f8d1b",
   "metadata": {},
   "outputs": [
    {
     "data": {
      "text/plain": [
       "'3 7 2 5 6 3 5'"
      ]
     },
     "execution_count": 34,
     "metadata": {},
     "output_type": "execute_result"
    }
   ],
   "source": [
    "\" \".join(\"3725635\")"
   ]
  },
  {
   "cell_type": "code",
   "execution_count": 35,
   "id": "6527947f-88ac-4431-8b4b-659220de122a",
   "metadata": {},
   "outputs": [
    {
     "data": {
      "text/plain": [
       "'hello python'"
      ]
     },
     "execution_count": 35,
     "metadata": {},
     "output_type": "execute_result"
    }
   ],
   "source": [
    "s.lower()"
   ]
  },
  {
   "cell_type": "code",
   "execution_count": 36,
   "id": "e9cd34f8-c7c5-4f5e-b2aa-4f7e22ee8eca",
   "metadata": {},
   "outputs": [
    {
     "data": {
      "text/plain": [
       "'HELLO PYTHON'"
      ]
     },
     "execution_count": 36,
     "metadata": {},
     "output_type": "execute_result"
    }
   ],
   "source": [
    "s.upper()"
   ]
  },
  {
   "cell_type": "code",
   "execution_count": 38,
   "id": "a8491874-c2f2-4fcb-bc8f-9996ab5bd609",
   "metadata": {},
   "outputs": [],
   "source": [
    "var = \"    java      \""
   ]
  },
  {
   "cell_type": "code",
   "execution_count": 39,
   "id": "d9a12fd5-9c32-467a-91eb-6843637b7ce8",
   "metadata": {},
   "outputs": [
    {
     "data": {
      "text/plain": [
       "'java      '"
      ]
     },
     "execution_count": 39,
     "metadata": {},
     "output_type": "execute_result"
    }
   ],
   "source": [
    "var.lstrip()"
   ]
  },
  {
   "cell_type": "code",
   "execution_count": 40,
   "id": "fd5f35e7-24d2-40b9-9e65-083abb8b1615",
   "metadata": {},
   "outputs": [
    {
     "data": {
      "text/plain": [
       "'    java'"
      ]
     },
     "execution_count": 40,
     "metadata": {},
     "output_type": "execute_result"
    }
   ],
   "source": [
    "var.rstrip()"
   ]
  },
  {
   "cell_type": "code",
   "execution_count": 41,
   "id": "96951780-96e9-46fd-894c-dda15773eef2",
   "metadata": {},
   "outputs": [
    {
     "data": {
      "text/plain": [
       "'java'"
      ]
     },
     "execution_count": 41,
     "metadata": {},
     "output_type": "execute_result"
    }
   ],
   "source": [
    "var.strip()"
   ]
  },
  {
   "cell_type": "code",
   "execution_count": 42,
   "id": "caa6a26c-e617-4a7f-bf84-c0db2681c3f8",
   "metadata": {},
   "outputs": [],
   "source": [
    "var1 = \"java@@@&&&\""
   ]
  },
  {
   "cell_type": "code",
   "execution_count": 43,
   "id": "c632e1a2-f094-4cbc-99b2-db9af598a54a",
   "metadata": {},
   "outputs": [
    {
     "data": {
      "text/plain": [
       "'java@@@&&&'"
      ]
     },
     "execution_count": 43,
     "metadata": {},
     "output_type": "execute_result"
    }
   ],
   "source": [
    "var1.rstrip(\"@\")"
   ]
  },
  {
   "cell_type": "code",
   "execution_count": 44,
   "id": "7bcc87f0-fcc0-4431-b3f7-594233800028",
   "metadata": {},
   "outputs": [
    {
     "data": {
      "text/plain": [
       "'java&&&'"
      ]
     },
     "execution_count": 44,
     "metadata": {},
     "output_type": "execute_result"
    }
   ],
   "source": [
    "var1.replace(\"@\", \"\")"
   ]
  },
  {
   "cell_type": "code",
   "execution_count": 48,
   "id": "2cb6c6e1-4ca8-4050-b49e-9af8f642a446",
   "metadata": {},
   "outputs": [
    {
     "data": {
      "text/plain": [
       "'java'"
      ]
     },
     "execution_count": 48,
     "metadata": {},
     "output_type": "execute_result"
    }
   ],
   "source": [
    "var1.removesuffix(\"@@@&&&\")"
   ]
  },
  {
   "cell_type": "code",
   "execution_count": 50,
   "id": "3a96f4ee-c8e4-4ab9-91b8-2e7fac59a5ad",
   "metadata": {},
   "outputs": [
    {
     "data": {
      "text/plain": [
       "('hello', ' ', 'python')"
      ]
     },
     "execution_count": 50,
     "metadata": {},
     "output_type": "execute_result"
    }
   ],
   "source": [
    "s.partition(\" \")"
   ]
  },
  {
   "cell_type": "code",
   "execution_count": 51,
   "id": "89c70e11-5a4e-47cc-a9f8-b1edc7427664",
   "metadata": {},
   "outputs": [
    {
     "data": {
      "text/plain": [
       "('hell', 'o', ' python')"
      ]
     },
     "execution_count": 51,
     "metadata": {},
     "output_type": "execute_result"
    }
   ],
   "source": [
    "s.partition(\"o\")"
   ]
  },
  {
   "cell_type": "code",
   "execution_count": 52,
   "id": "7c4dcd36-a00e-4d65-8ecc-ae0e99e5070e",
   "metadata": {},
   "outputs": [
    {
     "data": {
      "text/plain": [
       "('hello pyth', 'o', 'n')"
      ]
     },
     "execution_count": 52,
     "metadata": {},
     "output_type": "execute_result"
    }
   ],
   "source": [
    "s.rpartition(\"o\")"
   ]
  },
  {
   "cell_type": "code",
   "execution_count": 58,
   "id": "68b85d0a-f18c-4ec7-b59e-53222b225381",
   "metadata": {},
   "outputs": [
    {
     "data": {
      "text/plain": [
       "'hello python********'"
      ]
     },
     "execution_count": 58,
     "metadata": {},
     "output_type": "execute_result"
    }
   ],
   "source": [
    "s.ljust(20,\"*\" )"
   ]
  },
  {
   "cell_type": "code",
   "execution_count": 59,
   "id": "2059a2a9-11d0-4f85-b5c3-b2a7f238b3e5",
   "metadata": {},
   "outputs": [
    {
     "data": {
      "text/plain": [
       "'********hello python'"
      ]
     },
     "execution_count": 59,
     "metadata": {},
     "output_type": "execute_result"
    }
   ],
   "source": [
    "s.rjust(20,\"*\" )"
   ]
  },
  {
   "cell_type": "code",
   "execution_count": 62,
   "id": "9af9075a-d889-4f9a-a406-2721b92e4776",
   "metadata": {},
   "outputs": [
    {
     "data": {
      "text/plain": [
       "'===================hello python==================='"
      ]
     },
     "execution_count": 62,
     "metadata": {},
     "output_type": "execute_result"
    }
   ],
   "source": [
    "s.center(50, \"=\")"
   ]
  },
  {
   "cell_type": "code",
   "execution_count": 64,
   "id": "51afd295-a395-42cd-80d6-e22a0972b4a0",
   "metadata": {},
   "outputs": [
    {
     "data": {
      "text/plain": [
       "['hell', ' pyth', 'n']"
      ]
     },
     "execution_count": 64,
     "metadata": {},
     "output_type": "execute_result"
    }
   ],
   "source": [
    "s.split(\"o\")"
   ]
  },
  {
   "cell_type": "code",
   "execution_count": 65,
   "id": "fe34fee8-1073-4ca6-8802-a9d6b4ca02e4",
   "metadata": {},
   "outputs": [],
   "source": [
    "csv = \"Category,Product,Region,Shipping_Mode,Order_Date,Ship_Date,Quantity,Profit,Discount,Stock_Quantity,Season,Seller,Ship_Cost\""
   ]
  },
  {
   "cell_type": "code",
   "execution_count": 67,
   "id": "2e8caca8-f661-43db-92b0-11305a06e75e",
   "metadata": {},
   "outputs": [
    {
     "data": {
      "text/plain": [
       "['Category',\n",
       " 'Product',\n",
       " 'Region',\n",
       " 'Shipping_Mode',\n",
       " 'Order_Date',\n",
       " 'Ship_Date',\n",
       " 'Quantity',\n",
       " 'Profit',\n",
       " 'Discount',\n",
       " 'Stock_Quantity',\n",
       " 'Season',\n",
       " 'Seller',\n",
       " 'Ship_Cost']"
      ]
     },
     "execution_count": 67,
     "metadata": {},
     "output_type": "execute_result"
    }
   ],
   "source": [
    "csv.split(\",\")"
   ]
  },
  {
   "cell_type": "code",
   "execution_count": 71,
   "id": "334f5424-12db-4255-a7bd-4bdb24034425",
   "metadata": {},
   "outputs": [],
   "source": [
    "doc = \"\"\"Readability: F-strings offer the most readable syntax. #Flexibility: \n",
    "F-strings support complex expressions and function calls directly inside {}.\n",
    "Performance: F-strings are generally faster than both % formatting and str.format()\"\"\""
   ]
  },
  {
   "cell_type": "code",
   "execution_count": 72,
   "id": "3236932b-e31a-4660-bc92-0c70e1314760",
   "metadata": {},
   "outputs": [
    {
     "data": {
      "text/plain": [
       "['Readability: F-strings offer the most readable syntax. #Flexibility: ',\n",
       " 'F-strings support complex expressions and function calls directly inside {}.',\n",
       " 'Performance: F-strings are generally faster than both % formatting and str.format()']"
      ]
     },
     "execution_count": 72,
     "metadata": {},
     "output_type": "execute_result"
    }
   ],
   "source": [
    "doc.splitlines()"
   ]
  },
  {
   "cell_type": "code",
   "execution_count": 73,
   "id": "e0104ef3-4f5d-4388-aad2-78be313791b9",
   "metadata": {},
   "outputs": [],
   "source": [
    "var2 = \"PythoN\""
   ]
  },
  {
   "cell_type": "code",
   "execution_count": 74,
   "id": "af74697f-9357-4a5a-a817-92e591fc2778",
   "metadata": {},
   "outputs": [
    {
     "data": {
      "text/plain": [
       "'pYTHOn'"
      ]
     },
     "execution_count": 74,
     "metadata": {},
     "output_type": "execute_result"
    }
   ],
   "source": [
    "var2.swapcase()"
   ]
  },
  {
   "cell_type": "code",
   "execution_count": 75,
   "id": "7007d462-bcd4-4856-9453-e5495f8d72f4",
   "metadata": {},
   "outputs": [
    {
     "data": {
      "text/plain": [
       "'    Java      '"
      ]
     },
     "execution_count": 75,
     "metadata": {},
     "output_type": "execute_result"
    }
   ],
   "source": [
    "var.title()"
   ]
  },
  {
   "cell_type": "code",
   "execution_count": 76,
   "id": "b9908b82-a574-42d5-93b4-0aafc3947bca",
   "metadata": {},
   "outputs": [
    {
     "data": {
      "text/plain": [
       "'    java      '"
      ]
     },
     "execution_count": 76,
     "metadata": {},
     "output_type": "execute_result"
    }
   ],
   "source": [
    "var"
   ]
  },
  {
   "cell_type": "code",
   "execution_count": 77,
   "id": "ad68403a-58a4-4ecd-b73b-93379ec5c814",
   "metadata": {},
   "outputs": [
    {
     "data": {
      "text/plain": [
       "True"
      ]
     },
     "execution_count": 77,
     "metadata": {},
     "output_type": "execute_result"
    }
   ],
   "source": [
    "\"a\" in var"
   ]
  },
  {
   "cell_type": "code",
   "execution_count": 78,
   "id": "03d8c619-54a6-458f-be05-34c2815a0d9c",
   "metadata": {},
   "outputs": [
    {
     "name": "stderr",
     "output_type": "stream",
     "text": [
      "<>:1: SyntaxWarning: \"is\" with a literal. Did you mean \"==\"?\n",
      "<>:1: SyntaxWarning: \"is\" with a literal. Did you mean \"==\"?\n",
      "C:\\Users\\amitm\\AppData\\Local\\Temp\\ipykernel_12368\\3529874849.py:1: SyntaxWarning: \"is\" with a literal. Did you mean \"==\"?\n",
      "  \"a\" is var\n"
     ]
    },
    {
     "data": {
      "text/plain": [
       "False"
      ]
     },
     "execution_count": 78,
     "metadata": {},
     "output_type": "execute_result"
    }
   ],
   "source": [
    "\"a\" is var"
   ]
  },
  {
   "cell_type": "code",
   "execution_count": 79,
   "id": "e8d78b4f-c764-47a5-92c1-d1f743091c36",
   "metadata": {},
   "outputs": [
    {
     "data": {
      "text/plain": [
       "False"
      ]
     },
     "execution_count": 79,
     "metadata": {},
     "output_type": "execute_result"
    }
   ],
   "source": [
    "\"A\" == var"
   ]
  },
  {
   "cell_type": "code",
   "execution_count": null,
   "id": "274512f3-24da-44a0-bedc-6100edd76574",
   "metadata": {},
   "outputs": [],
   "source": []
  }
 ],
 "metadata": {
  "kernelspec": {
   "display_name": "Python 3 (ipykernel)",
   "language": "python",
   "name": "python3"
  },
  "language_info": {
   "codemirror_mode": {
    "name": "ipython",
    "version": 3
   },
   "file_extension": ".py",
   "mimetype": "text/x-python",
   "name": "python",
   "nbconvert_exporter": "python",
   "pygments_lexer": "ipython3",
   "version": "3.11.7"
  }
 },
 "nbformat": 4,
 "nbformat_minor": 5
}
