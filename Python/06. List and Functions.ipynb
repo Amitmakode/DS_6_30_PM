{
 "cells": [
  {
   "cell_type": "code",
   "execution_count": 1,
   "id": "28f62e9f-949d-467c-8851-a5c6d7e47efe",
   "metadata": {},
   "outputs": [],
   "source": [
    "# Creating a list of integers\n",
    "my_list = [1, 2, 3, 4, 5]"
   ]
  },
  {
   "cell_type": "code",
   "execution_count": 2,
   "id": "f3b48e4b-fd3a-445c-a9f2-ca3e0cade421",
   "metadata": {},
   "outputs": [],
   "source": [
    "# Creating a list of mixed data types\n",
    "mixed_list = [1, 'two', 3.0, True]"
   ]
  },
  {
   "cell_type": "code",
   "execution_count": 4,
   "id": "eb4325f1-95c0-4892-97f3-7a3334f9a00c",
   "metadata": {},
   "outputs": [
    {
     "data": {
      "text/plain": [
       "5"
      ]
     },
     "execution_count": 4,
     "metadata": {},
     "output_type": "execute_result"
    }
   ],
   "source": [
    "my_list[4]"
   ]
  },
  {
   "cell_type": "code",
   "execution_count": 5,
   "id": "6527ba03-929c-484e-8fad-369e481183fc",
   "metadata": {},
   "outputs": [
    {
     "data": {
      "text/plain": [
       "[1, 2, 3, 4, 5]"
      ]
     },
     "execution_count": 5,
     "metadata": {},
     "output_type": "execute_result"
    }
   ],
   "source": [
    "my_list[:]"
   ]
  },
  {
   "cell_type": "code",
   "execution_count": 6,
   "id": "39709385-b2a2-4aee-9b64-ee67d0522855",
   "metadata": {},
   "outputs": [
    {
     "data": {
      "text/plain": [
       "[1, 'two', 3.0, True]"
      ]
     },
     "execution_count": 6,
     "metadata": {},
     "output_type": "execute_result"
    }
   ],
   "source": [
    "mixed_list"
   ]
  },
  {
   "cell_type": "code",
   "execution_count": 7,
   "id": "8c8a55d9-5fc7-459a-8c84-9731f192dda2",
   "metadata": {},
   "outputs": [],
   "source": [
    "mixed_list[1] = 2"
   ]
  },
  {
   "cell_type": "code",
   "execution_count": 8,
   "id": "89af20b2-bc90-48d1-ae2f-69046162dc6d",
   "metadata": {},
   "outputs": [
    {
     "data": {
      "text/plain": [
       "[1, 2, 3.0, True]"
      ]
     },
     "execution_count": 8,
     "metadata": {},
     "output_type": "execute_result"
    }
   ],
   "source": [
    "mixed_list"
   ]
  },
  {
   "cell_type": "code",
   "execution_count": 9,
   "id": "69c85c13-779a-4427-bb81-d316d3a6ae0c",
   "metadata": {},
   "outputs": [],
   "source": [
    "my_list.append(65)"
   ]
  },
  {
   "cell_type": "code",
   "execution_count": 10,
   "id": "be0db5fa-7017-4ffe-bf7c-f81a7f79e4c5",
   "metadata": {},
   "outputs": [
    {
     "data": {
      "text/plain": [
       "[1, 2, 3, 4, 5, 65]"
      ]
     },
     "execution_count": 10,
     "metadata": {},
     "output_type": "execute_result"
    }
   ],
   "source": [
    "my_list"
   ]
  },
  {
   "cell_type": "code",
   "execution_count": 12,
   "id": "d03fe314-3fb0-4e04-9b2d-2c584f63abd2",
   "metadata": {},
   "outputs": [],
   "source": [
    "my_list.extend(\"767\")"
   ]
  },
  {
   "cell_type": "code",
   "execution_count": 13,
   "id": "1570ae27-e3a1-48da-b246-b1549c79217b",
   "metadata": {},
   "outputs": [
    {
     "data": {
      "text/plain": [
       "[1, 2, 3, 4, 5, 65, '7', '6', '7']"
      ]
     },
     "execution_count": 13,
     "metadata": {},
     "output_type": "execute_result"
    }
   ],
   "source": [
    "my_list"
   ]
  },
  {
   "cell_type": "code",
   "execution_count": 14,
   "id": "c8e2dd7d-b6d9-4278-bd7c-02c66d0861da",
   "metadata": {},
   "outputs": [],
   "source": [
    "my_list.extend((11,22,33,44))"
   ]
  },
  {
   "cell_type": "code",
   "execution_count": 15,
   "id": "46ad617c-fb4f-416b-abea-014012e29f2f",
   "metadata": {},
   "outputs": [
    {
     "data": {
      "text/plain": [
       "[1, 2, 3, 4, 5, 65, '7', '6', '7', 11, 22, 33, 44]"
      ]
     },
     "execution_count": 15,
     "metadata": {},
     "output_type": "execute_result"
    }
   ],
   "source": [
    "my_list"
   ]
  },
  {
   "cell_type": "code",
   "execution_count": 17,
   "id": "e6057d38-6e3d-4b52-b3ef-ca77000229d4",
   "metadata": {},
   "outputs": [],
   "source": [
    "my_list.insert(2, \"abc\")"
   ]
  },
  {
   "cell_type": "code",
   "execution_count": 18,
   "id": "aba93226-574b-4786-8548-793c112cf49c",
   "metadata": {},
   "outputs": [
    {
     "data": {
      "text/plain": [
       "[1, 2, 'abc', 3, 4, 5, 65, '7', '6', '7', 11, 22, 33, 44]"
      ]
     },
     "execution_count": 18,
     "metadata": {},
     "output_type": "execute_result"
    }
   ],
   "source": [
    "my_list"
   ]
  },
  {
   "cell_type": "code",
   "execution_count": 19,
   "id": "7d6eb61a-73d1-4c4b-b6a1-ebd85ba5bfc7",
   "metadata": {},
   "outputs": [
    {
     "data": {
      "text/plain": [
       "44"
      ]
     },
     "execution_count": 19,
     "metadata": {},
     "output_type": "execute_result"
    }
   ],
   "source": [
    "my_list.pop()"
   ]
  },
  {
   "cell_type": "code",
   "execution_count": 20,
   "id": "302fe347-d2ff-492f-b2ef-b77340278dde",
   "metadata": {},
   "outputs": [
    {
     "data": {
      "text/plain": [
       "[1, 2, 'abc', 3, 4, 5, 65, '7', '6', '7', 11, 22, 33]"
      ]
     },
     "execution_count": 20,
     "metadata": {},
     "output_type": "execute_result"
    }
   ],
   "source": [
    "my_list"
   ]
  },
  {
   "cell_type": "code",
   "execution_count": 21,
   "id": "f12363d0-5f87-4c2f-885b-79a1dde83e3f",
   "metadata": {},
   "outputs": [
    {
     "data": {
      "text/plain": [
       "'abc'"
      ]
     },
     "execution_count": 21,
     "metadata": {},
     "output_type": "execute_result"
    }
   ],
   "source": [
    "my_list.pop(2)"
   ]
  },
  {
   "cell_type": "code",
   "execution_count": 22,
   "id": "40e49641-0999-498c-8b8c-47664201f70e",
   "metadata": {},
   "outputs": [
    {
     "data": {
      "text/plain": [
       "[1, 2, 3, 4, 5, 65, '7', '6', '7', 11, 22, 33]"
      ]
     },
     "execution_count": 22,
     "metadata": {},
     "output_type": "execute_result"
    }
   ],
   "source": [
    "my_list"
   ]
  },
  {
   "cell_type": "code",
   "execution_count": 27,
   "id": "d073a42c-e774-496d-bb90-afd6c0f733af",
   "metadata": {},
   "outputs": [],
   "source": [
    "my_list.remove(22)"
   ]
  },
  {
   "cell_type": "code",
   "execution_count": 28,
   "id": "de89d16c-4dc8-4cd8-b40a-5cc5fd48a91a",
   "metadata": {},
   "outputs": [
    {
     "data": {
      "text/plain": [
       "[1, 2, 3, 4, 5, 65, '7', '6', '7', 33]"
      ]
     },
     "execution_count": 28,
     "metadata": {},
     "output_type": "execute_result"
    }
   ],
   "source": [
    "my_list"
   ]
  },
  {
   "cell_type": "code",
   "execution_count": 30,
   "id": "a540a888-cb83-4f33-8bd6-0552421bfff7",
   "metadata": {},
   "outputs": [],
   "source": [
    "my_list.reverse()"
   ]
  },
  {
   "cell_type": "code",
   "execution_count": 31,
   "id": "6d5d31e4-62b4-4d8b-b216-2ec3ada76b07",
   "metadata": {},
   "outputs": [
    {
     "data": {
      "text/plain": [
       "[1, 2, 3, 4, 5, 65, '7', '6', '7', 33]"
      ]
     },
     "execution_count": 31,
     "metadata": {},
     "output_type": "execute_result"
    }
   ],
   "source": [
    "my_list"
   ]
  },
  {
   "cell_type": "code",
   "execution_count": 32,
   "id": "d08cc113-2a90-498d-b2ae-98ea465f5314",
   "metadata": {},
   "outputs": [
    {
     "ename": "TypeError",
     "evalue": "'<' not supported between instances of 'str' and 'int'",
     "output_type": "error",
     "traceback": [
      "\u001b[1;31m---------------------------------------------------------------------------\u001b[0m",
      "\u001b[1;31mTypeError\u001b[0m                                 Traceback (most recent call last)",
      "Cell \u001b[1;32mIn[32], line 1\u001b[0m\n\u001b[1;32m----> 1\u001b[0m my_list\u001b[38;5;241m.\u001b[39msort()\n",
      "\u001b[1;31mTypeError\u001b[0m: '<' not supported between instances of 'str' and 'int'"
     ]
    }
   ],
   "source": [
    "my_list.sort()"
   ]
  },
  {
   "cell_type": "code",
   "execution_count": null,
   "id": "667c5fe6-e41f-40e8-ac90-62d13148787d",
   "metadata": {},
   "outputs": [],
   "source": []
  }
 ],
 "metadata": {
  "kernelspec": {
   "display_name": "Python 3 (ipykernel)",
   "language": "python",
   "name": "python3"
  },
  "language_info": {
   "codemirror_mode": {
    "name": "ipython",
    "version": 3
   },
   "file_extension": ".py",
   "mimetype": "text/x-python",
   "name": "python",
   "nbconvert_exporter": "python",
   "pygments_lexer": "ipython3",
   "version": "3.11.7"
  }
 },
 "nbformat": 4,
 "nbformat_minor": 5
}
