{
 "cells": [
  {
   "cell_type": "markdown",
   "id": "2941c41d-3a8e-4cdb-aeee-3fcb48a6df89",
   "metadata": {},
   "source": [
    "## Dictionary"
   ]
  },
  {
   "cell_type": "code",
   "execution_count": 2,
   "id": "19f07c4d-5957-4472-8939-95494eafd545",
   "metadata": {},
   "outputs": [
    {
     "data": {
      "text/plain": [
       "{}"
      ]
     },
     "execution_count": 2,
     "metadata": {},
     "output_type": "execute_result"
    }
   ],
   "source": [
    "{}"
   ]
  },
  {
   "cell_type": "code",
   "execution_count": 3,
   "id": "dd5d6b7e-bf82-44f3-b843-4169cf7fe2cd",
   "metadata": {},
   "outputs": [],
   "source": [
    "d1 = {\"jan\":31, \"feb\": 28, \"march\":31, \"april\":30}"
   ]
  },
  {
   "cell_type": "code",
   "execution_count": 4,
   "id": "01bacc91-72f3-4800-8270-f2dd1a1d19dc",
   "metadata": {},
   "outputs": [
    {
     "data": {
      "text/plain": [
       "{'jan': 31, 'feb': 28, 'march': 31, 'april': 30}"
      ]
     },
     "execution_count": 4,
     "metadata": {},
     "output_type": "execute_result"
    }
   ],
   "source": [
    "d1"
   ]
  },
  {
   "cell_type": "code",
   "execution_count": 5,
   "id": "28d3fb3a-2b91-4f6e-b309-464b1cb2c68e",
   "metadata": {},
   "outputs": [
    {
     "data": {
      "text/plain": [
       "4"
      ]
     },
     "execution_count": 5,
     "metadata": {},
     "output_type": "execute_result"
    }
   ],
   "source": [
    "len(d1)"
   ]
  },
  {
   "cell_type": "code",
   "execution_count": 6,
   "id": "5441d865-f446-41b7-9c45-e1627656f461",
   "metadata": {},
   "outputs": [],
   "source": [
    "d = {1:\"jan\"}"
   ]
  },
  {
   "cell_type": "code",
   "execution_count": 7,
   "id": "90187b63-8d16-4d04-809c-6ff8b6d19eb3",
   "metadata": {},
   "outputs": [
    {
     "data": {
      "text/plain": [
       "{1: 'jan'}"
      ]
     },
     "execution_count": 7,
     "metadata": {},
     "output_type": "execute_result"
    }
   ],
   "source": [
    "d"
   ]
  },
  {
   "cell_type": "code",
   "execution_count": 8,
   "id": "67180eac-9757-4d8d-bf19-7a0d22901ed7",
   "metadata": {},
   "outputs": [],
   "source": [
    "d = {1.0:\"jan\"}"
   ]
  },
  {
   "cell_type": "code",
   "execution_count": 9,
   "id": "ad65c915-bfd4-41d7-88b8-097cced76b3d",
   "metadata": {},
   "outputs": [],
   "source": [
    "d = {True:\"jan\"}"
   ]
  },
  {
   "cell_type": "code",
   "execution_count": 10,
   "id": "6ff334f2-dea9-424a-9b31-ef4c94f59f84",
   "metadata": {},
   "outputs": [],
   "source": [
    "d = {(1,2):\"jan\"}"
   ]
  },
  {
   "cell_type": "code",
   "execution_count": 11,
   "id": "6e21130a-d0ed-4bcb-b19b-ccf2607c7df7",
   "metadata": {},
   "outputs": [
    {
     "ename": "TypeError",
     "evalue": "unhashable type: 'set'",
     "output_type": "error",
     "traceback": [
      "\u001b[1;31m---------------------------------------------------------------------------\u001b[0m",
      "\u001b[1;31mTypeError\u001b[0m                                 Traceback (most recent call last)",
      "Cell \u001b[1;32mIn[11], line 1\u001b[0m\n\u001b[1;32m----> 1\u001b[0m d \u001b[38;5;241m=\u001b[39m {{\u001b[38;5;241m1\u001b[39m,\u001b[38;5;241m2\u001b[39m}:\u001b[38;5;124m\"\u001b[39m\u001b[38;5;124mjan\u001b[39m\u001b[38;5;124m\"\u001b[39m}\n",
      "\u001b[1;31mTypeError\u001b[0m: unhashable type: 'set'"
     ]
    }
   ],
   "source": [
    "d = {{1,2}:\"jan\"}"
   ]
  },
  {
   "cell_type": "code",
   "execution_count": 12,
   "id": "5fdeacaa-b1fb-4d38-96a2-d355fc15c26c",
   "metadata": {},
   "outputs": [
    {
     "ename": "TypeError",
     "evalue": "unhashable type: 'list'",
     "output_type": "error",
     "traceback": [
      "\u001b[1;31m---------------------------------------------------------------------------\u001b[0m",
      "\u001b[1;31mTypeError\u001b[0m                                 Traceback (most recent call last)",
      "Cell \u001b[1;32mIn[12], line 1\u001b[0m\n\u001b[1;32m----> 1\u001b[0m d \u001b[38;5;241m=\u001b[39m {[\u001b[38;5;241m1\u001b[39m,\u001b[38;5;241m2\u001b[39m]:\u001b[38;5;124m\"\u001b[39m\u001b[38;5;124mjan\u001b[39m\u001b[38;5;124m\"\u001b[39m}\n",
      "\u001b[1;31mTypeError\u001b[0m: unhashable type: 'list'"
     ]
    }
   ],
   "source": [
    "d = {[1,2]:\"jan\"}"
   ]
  },
  {
   "cell_type": "code",
   "execution_count": 13,
   "id": "7b390beb-06d4-4b2c-915c-25122b3c0b5d",
   "metadata": {},
   "outputs": [
    {
     "ename": "TypeError",
     "evalue": "unhashable type: 'dict'",
     "output_type": "error",
     "traceback": [
      "\u001b[1;31m---------------------------------------------------------------------------\u001b[0m",
      "\u001b[1;31mTypeError\u001b[0m                                 Traceback (most recent call last)",
      "Cell \u001b[1;32mIn[13], line 1\u001b[0m\n\u001b[1;32m----> 1\u001b[0m d \u001b[38;5;241m=\u001b[39m {{\u001b[38;5;241m1\u001b[39m:\u001b[38;5;28;01mTrue\u001b[39;00m}:\u001b[38;5;124m\"\u001b[39m\u001b[38;5;124mjan\u001b[39m\u001b[38;5;124m\"\u001b[39m}\n",
      "\u001b[1;31mTypeError\u001b[0m: unhashable type: 'dict'"
     ]
    }
   ],
   "source": [
    "d = {{1:True}:\"jan\"}"
   ]
  },
  {
   "cell_type": "code",
   "execution_count": 15,
   "id": "06ee1c4b-1e09-463b-adc5-c6a8dff3a5d5",
   "metadata": {},
   "outputs": [
    {
     "ename": "KeyError",
     "evalue": "0",
     "output_type": "error",
     "traceback": [
      "\u001b[1;31m---------------------------------------------------------------------------\u001b[0m",
      "\u001b[1;31mKeyError\u001b[0m                                  Traceback (most recent call last)",
      "Cell \u001b[1;32mIn[15], line 1\u001b[0m\n\u001b[1;32m----> 1\u001b[0m d1[\u001b[38;5;241m0\u001b[39m]\n",
      "\u001b[1;31mKeyError\u001b[0m: 0"
     ]
    }
   ],
   "source": [
    "d1[0]"
   ]
  },
  {
   "cell_type": "code",
   "execution_count": 16,
   "id": "304deb21-f39f-4fee-ae69-451e14b8dda8",
   "metadata": {},
   "outputs": [
    {
     "data": {
      "text/plain": [
       "31"
      ]
     },
     "execution_count": 16,
     "metadata": {},
     "output_type": "execute_result"
    }
   ],
   "source": [
    "d1[\"jan\"]"
   ]
  },
  {
   "cell_type": "code",
   "execution_count": 17,
   "id": "89308ace-89ba-4bcc-9a65-2874ca20de71",
   "metadata": {},
   "outputs": [
    {
     "ename": "KeyError",
     "evalue": "31",
     "output_type": "error",
     "traceback": [
      "\u001b[1;31m---------------------------------------------------------------------------\u001b[0m",
      "\u001b[1;31mKeyError\u001b[0m                                  Traceback (most recent call last)",
      "Cell \u001b[1;32mIn[17], line 1\u001b[0m\n\u001b[1;32m----> 1\u001b[0m d1[\u001b[38;5;241m31\u001b[39m]\n",
      "\u001b[1;31mKeyError\u001b[0m: 31"
     ]
    }
   ],
   "source": [
    "d1[31]"
   ]
  },
  {
   "cell_type": "code",
   "execution_count": 18,
   "id": "edffaf33-14e9-409c-8403-a66c0820cba8",
   "metadata": {},
   "outputs": [
    {
     "ename": "TypeError",
     "evalue": "unhashable type: 'slice'",
     "output_type": "error",
     "traceback": [
      "\u001b[1;31m---------------------------------------------------------------------------\u001b[0m",
      "\u001b[1;31mTypeError\u001b[0m                                 Traceback (most recent call last)",
      "Cell \u001b[1;32mIn[18], line 1\u001b[0m\n\u001b[1;32m----> 1\u001b[0m d1[:]\n",
      "\u001b[1;31mTypeError\u001b[0m: unhashable type: 'slice'"
     ]
    }
   ],
   "source": [
    "d1[:]"
   ]
  },
  {
   "cell_type": "code",
   "execution_count": 19,
   "id": "01ea1a70-10a2-415e-9749-c34396978dcc",
   "metadata": {},
   "outputs": [
    {
     "ename": "TypeError",
     "evalue": "unsupported operand type(s) for +: 'dict' and 'dict'",
     "output_type": "error",
     "traceback": [
      "\u001b[1;31m---------------------------------------------------------------------------\u001b[0m",
      "\u001b[1;31mTypeError\u001b[0m                                 Traceback (most recent call last)",
      "Cell \u001b[1;32mIn[19], line 1\u001b[0m\n\u001b[1;32m----> 1\u001b[0m d1 \u001b[38;5;241m+\u001b[39m d1\n",
      "\u001b[1;31mTypeError\u001b[0m: unsupported operand type(s) for +: 'dict' and 'dict'"
     ]
    }
   ],
   "source": [
    "d1 + d1"
   ]
  },
  {
   "cell_type": "code",
   "execution_count": 20,
   "id": "560159b5-26b6-4bda-a0d7-f0b966360447",
   "metadata": {},
   "outputs": [
    {
     "ename": "TypeError",
     "evalue": "unsupported operand type(s) for *: 'dict' and 'int'",
     "output_type": "error",
     "traceback": [
      "\u001b[1;31m---------------------------------------------------------------------------\u001b[0m",
      "\u001b[1;31mTypeError\u001b[0m                                 Traceback (most recent call last)",
      "Cell \u001b[1;32mIn[20], line 1\u001b[0m\n\u001b[1;32m----> 1\u001b[0m d1 \u001b[38;5;241m*\u001b[39m \u001b[38;5;241m3\u001b[39m\n",
      "\u001b[1;31mTypeError\u001b[0m: unsupported operand type(s) for *: 'dict' and 'int'"
     ]
    }
   ],
   "source": [
    "d1 * 3"
   ]
  },
  {
   "cell_type": "code",
   "execution_count": 21,
   "id": "e0b11612-1c0f-4681-8f45-827818b6eed4",
   "metadata": {},
   "outputs": [
    {
     "data": {
      "text/plain": [
       "{'jan': 31, 'feb': 28, 'march': 31, 'april': 30}"
      ]
     },
     "execution_count": 21,
     "metadata": {},
     "output_type": "execute_result"
    }
   ],
   "source": [
    "d1"
   ]
  },
  {
   "cell_type": "code",
   "execution_count": 22,
   "id": "0e791a58-8b11-4350-9791-f8490900eba9",
   "metadata": {},
   "outputs": [
    {
     "ename": "KeyError",
     "evalue": "'may'",
     "output_type": "error",
     "traceback": [
      "\u001b[1;31m---------------------------------------------------------------------------\u001b[0m",
      "\u001b[1;31mKeyError\u001b[0m                                  Traceback (most recent call last)",
      "Cell \u001b[1;32mIn[22], line 1\u001b[0m\n\u001b[1;32m----> 1\u001b[0m d1[\u001b[38;5;124m\"\u001b[39m\u001b[38;5;124mmay\u001b[39m\u001b[38;5;124m\"\u001b[39m]\n",
      "\u001b[1;31mKeyError\u001b[0m: 'may'"
     ]
    }
   ],
   "source": [
    "d1[\"may\"]"
   ]
  },
  {
   "cell_type": "code",
   "execution_count": 24,
   "id": "006d0974-fe89-4e64-a18e-eb3b7d53748f",
   "metadata": {},
   "outputs": [],
   "source": [
    "d1[\"april\"] = 31"
   ]
  },
  {
   "cell_type": "code",
   "execution_count": 25,
   "id": "5313b8ee-a7d1-4cb8-8353-275ce30a772f",
   "metadata": {},
   "outputs": [
    {
     "data": {
      "text/plain": [
       "{'jan': 31, 'feb': 28, 'march': 31, 'april': 31}"
      ]
     },
     "execution_count": 25,
     "metadata": {},
     "output_type": "execute_result"
    }
   ],
   "source": [
    "d1"
   ]
  },
  {
   "cell_type": "code",
   "execution_count": 26,
   "id": "2c73eef7-cfc0-4789-b9de-e497315bc99f",
   "metadata": {},
   "outputs": [
    {
     "data": {
      "text/plain": [
       "False"
      ]
     },
     "execution_count": 26,
     "metadata": {},
     "output_type": "execute_result"
    }
   ],
   "source": [
    "31 in d1"
   ]
  },
  {
   "cell_type": "code",
   "execution_count": 27,
   "id": "026c5205-71dc-40a1-aa4d-a6a32d5b3da7",
   "metadata": {},
   "outputs": [
    {
     "data": {
      "text/plain": [
       "True"
      ]
     },
     "execution_count": 27,
     "metadata": {},
     "output_type": "execute_result"
    }
   ],
   "source": [
    "\"jan\" in d1"
   ]
  },
  {
   "cell_type": "markdown",
   "id": "de0076a0-296f-447b-bea7-13f8509345a5",
   "metadata": {},
   "source": [
    "### function"
   ]
  },
  {
   "cell_type": "code",
   "execution_count": 28,
   "id": "cffd8762-cfd1-489e-84bb-fb239138e91e",
   "metadata": {},
   "outputs": [
    {
     "data": {
      "text/plain": [
       "dict_values([31, 28, 31, 31])"
      ]
     },
     "execution_count": 28,
     "metadata": {},
     "output_type": "execute_result"
    }
   ],
   "source": [
    "d1.values()"
   ]
  },
  {
   "cell_type": "code",
   "execution_count": 29,
   "id": "ca4ece61-19d8-4d3b-b92b-7b6ec4ad887f",
   "metadata": {},
   "outputs": [
    {
     "data": {
      "text/plain": [
       "dict_keys(['jan', 'feb', 'march', 'april'])"
      ]
     },
     "execution_count": 29,
     "metadata": {},
     "output_type": "execute_result"
    }
   ],
   "source": [
    "d1.keys()"
   ]
  },
  {
   "cell_type": "code",
   "execution_count": 30,
   "id": "9136e542-9d0e-4715-b527-0d2e7f1874d6",
   "metadata": {},
   "outputs": [
    {
     "data": {
      "text/plain": [
       "dict_items([('jan', 31), ('feb', 28), ('march', 31), ('april', 31)])"
      ]
     },
     "execution_count": 30,
     "metadata": {},
     "output_type": "execute_result"
    }
   ],
   "source": [
    "d1.items()"
   ]
  },
  {
   "cell_type": "code",
   "execution_count": 32,
   "id": "dfa13d5f-58a8-4514-a6b9-793208043f49",
   "metadata": {},
   "outputs": [
    {
     "data": {
      "text/plain": [
       "28"
      ]
     },
     "execution_count": 32,
     "metadata": {},
     "output_type": "execute_result"
    }
   ],
   "source": [
    "d1.get(\"feb\")"
   ]
  },
  {
   "cell_type": "code",
   "execution_count": 33,
   "id": "ecaed352-cb83-4563-a3e0-ece221ee86ac",
   "metadata": {},
   "outputs": [],
   "source": [
    "d1.get(\"june\")"
   ]
  },
  {
   "cell_type": "code",
   "execution_count": 34,
   "id": "bae1db01-1e3e-4413-b6c4-d4a23e7243fb",
   "metadata": {},
   "outputs": [
    {
     "ename": "KeyError",
     "evalue": "'june'",
     "output_type": "error",
     "traceback": [
      "\u001b[1;31m---------------------------------------------------------------------------\u001b[0m",
      "\u001b[1;31mKeyError\u001b[0m                                  Traceback (most recent call last)",
      "Cell \u001b[1;32mIn[34], line 1\u001b[0m\n\u001b[1;32m----> 1\u001b[0m d1[\u001b[38;5;124m\"\u001b[39m\u001b[38;5;124mjune\u001b[39m\u001b[38;5;124m\"\u001b[39m]\n",
      "\u001b[1;31mKeyError\u001b[0m: 'june'"
     ]
    }
   ],
   "source": [
    "d1[\"june\"]"
   ]
  },
  {
   "cell_type": "code",
   "execution_count": 37,
   "id": "bcfaf21c-e8ef-438c-935c-0e7d461045f6",
   "metadata": {},
   "outputs": [],
   "source": [
    "d1.update({\"june\":30})"
   ]
  },
  {
   "cell_type": "code",
   "execution_count": 38,
   "id": "b53561c2-3d92-4ca5-9375-9684d65c29eb",
   "metadata": {},
   "outputs": [
    {
     "data": {
      "text/plain": [
       "{'jan': 31, 'feb': 28, 'march': 31, 'april': 31, 'june': 30}"
      ]
     },
     "execution_count": 38,
     "metadata": {},
     "output_type": "execute_result"
    }
   ],
   "source": [
    "d1"
   ]
  },
  {
   "cell_type": "code",
   "execution_count": 41,
   "id": "cb79c9d4-d314-4f77-ae9f-4549168b592d",
   "metadata": {},
   "outputs": [
    {
     "ename": "ValueError",
     "evalue": "dictionary update sequence element #0 has length 4; 2 is required",
     "output_type": "error",
     "traceback": [
      "\u001b[1;31m---------------------------------------------------------------------------\u001b[0m",
      "\u001b[1;31mValueError\u001b[0m                                Traceback (most recent call last)",
      "Cell \u001b[1;32mIn[41], line 1\u001b[0m\n\u001b[1;32m----> 1\u001b[0m d1\u001b[38;5;241m.\u001b[39mupdate([\u001b[38;5;124m\"\u001b[39m\u001b[38;5;124mjune\u001b[39m\u001b[38;5;124m\"\u001b[39m,\u001b[38;5;241m30\u001b[39m])\n",
      "\u001b[1;31mValueError\u001b[0m: dictionary update sequence element #0 has length 4; 2 is required"
     ]
    }
   ],
   "source": [
    "d1.update([\"june\",30])"
   ]
  },
  {
   "cell_type": "code",
   "execution_count": 42,
   "id": "90c7f018-1d61-4232-8f85-35881380440a",
   "metadata": {},
   "outputs": [
    {
     "data": {
      "text/plain": [
       "{'jan': 31, 'feb': 28, 'march': 31, 'april': 31, 'june': 30}"
      ]
     },
     "execution_count": 42,
     "metadata": {},
     "output_type": "execute_result"
    }
   ],
   "source": [
    "d1"
   ]
  },
  {
   "cell_type": "code",
   "execution_count": 44,
   "id": "17e1b39d-6466-4167-a9f0-501a514e4090",
   "metadata": {},
   "outputs": [
    {
     "data": {
      "text/plain": [
       "31"
      ]
     },
     "execution_count": 44,
     "metadata": {},
     "output_type": "execute_result"
    }
   ],
   "source": [
    "d1.pop(\"april\")"
   ]
  },
  {
   "cell_type": "code",
   "execution_count": 45,
   "id": "2cd091f7-8769-4026-8cb7-412bd4ecb786",
   "metadata": {},
   "outputs": [
    {
     "data": {
      "text/plain": [
       "{'jan': 31, 'feb': 28, 'march': 31, 'june': 30}"
      ]
     },
     "execution_count": 45,
     "metadata": {},
     "output_type": "execute_result"
    }
   ],
   "source": [
    "d1"
   ]
  },
  {
   "cell_type": "code",
   "execution_count": 46,
   "id": "0830ac8b-0c1b-4887-b513-b03eabb98dd3",
   "metadata": {},
   "outputs": [
    {
     "data": {
      "text/plain": [
       "('june', 30)"
      ]
     },
     "execution_count": 46,
     "metadata": {},
     "output_type": "execute_result"
    }
   ],
   "source": [
    "d1.popitem()"
   ]
  },
  {
   "cell_type": "code",
   "execution_count": 47,
   "id": "66b34c89-527e-4161-80f0-be58d9e9a1e5",
   "metadata": {},
   "outputs": [
    {
     "data": {
      "text/plain": [
       "('march', 31)"
      ]
     },
     "execution_count": 47,
     "metadata": {},
     "output_type": "execute_result"
    }
   ],
   "source": [
    "d1.popitem()"
   ]
  },
  {
   "cell_type": "code",
   "execution_count": 48,
   "id": "53896fde-502a-4469-abb2-09452d98f3f2",
   "metadata": {},
   "outputs": [
    {
     "data": {
      "text/plain": [
       "{'jan': 31, 'feb': 28}"
      ]
     },
     "execution_count": 48,
     "metadata": {},
     "output_type": "execute_result"
    }
   ],
   "source": [
    "d1"
   ]
  },
  {
   "cell_type": "code",
   "execution_count": 51,
   "id": "8661a59b-b1cf-4c1a-a68a-6fe91cad7579",
   "metadata": {},
   "outputs": [
    {
     "data": {
      "text/plain": [
       "{'march': None, 'april': None, 'may': None}"
      ]
     },
     "execution_count": 51,
     "metadata": {},
     "output_type": "execute_result"
    }
   ],
   "source": [
    "d1.fromkeys([\"march\", \"april\", \"may\"])"
   ]
  },
  {
   "cell_type": "code",
   "execution_count": 53,
   "id": "bdf04a0c-5538-4b27-b51a-91c0212fc5d4",
   "metadata": {},
   "outputs": [],
   "source": [
    "d1.setdefault(\"march\")"
   ]
  },
  {
   "cell_type": "code",
   "execution_count": 54,
   "id": "ade40053-26de-4271-b26f-7486f6127ac8",
   "metadata": {},
   "outputs": [
    {
     "data": {
      "text/plain": [
       "{'jan': 31, 'feb': 28, 'march': None}"
      ]
     },
     "execution_count": 54,
     "metadata": {},
     "output_type": "execute_result"
    }
   ],
   "source": [
    "d1"
   ]
  },
  {
   "cell_type": "code",
   "execution_count": 56,
   "id": "0740b7fe-45e8-46b9-88ca-b72e01b1e316",
   "metadata": {},
   "outputs": [],
   "source": [
    "d1[\"july\"] = None"
   ]
  },
  {
   "cell_type": "code",
   "execution_count": 57,
   "id": "47eca695-65cf-4ae8-aa23-f1b1f9d7787c",
   "metadata": {},
   "outputs": [
    {
     "data": {
      "text/plain": [
       "{'jan': 31, 'feb': 28, 'march': None, 'july': None}"
      ]
     },
     "execution_count": 57,
     "metadata": {},
     "output_type": "execute_result"
    }
   ],
   "source": [
    "d1"
   ]
  },
  {
   "cell_type": "code",
   "execution_count": 58,
   "id": "e1d60d19-b39a-4ecb-98f3-5dd3e7666837",
   "metadata": {},
   "outputs": [],
   "source": [
    "d2 = {}"
   ]
  },
  {
   "cell_type": "code",
   "execution_count": 59,
   "id": "e2d0dfd5-ecb5-4f87-b575-e648605fe766",
   "metadata": {},
   "outputs": [
    {
     "data": {
      "text/plain": [
       "{'j': None, 'a': None, 'n': None}"
      ]
     },
     "execution_count": 59,
     "metadata": {},
     "output_type": "execute_result"
    }
   ],
   "source": [
    "d2.fromkeys(\"jan\")"
   ]
  },
  {
   "cell_type": "code",
   "execution_count": 60,
   "id": "d2b9e45a-cdf4-4812-a1da-666cb52ae8c7",
   "metadata": {},
   "outputs": [
    {
     "data": {
      "text/plain": [
       "{}"
      ]
     },
     "execution_count": 60,
     "metadata": {},
     "output_type": "execute_result"
    }
   ],
   "source": [
    "d2"
   ]
  },
  {
   "cell_type": "code",
   "execution_count": 61,
   "id": "b315699b-21d2-4ec3-80d5-4523eb14f1c9",
   "metadata": {},
   "outputs": [
    {
     "data": {
      "text/plain": [
       "{'1': None,\n",
       " '2': None,\n",
       " '3': None,\n",
       " '4': None,\n",
       " '5': None,\n",
       " '6': None,\n",
       " '7': None,\n",
       " '8': None,\n",
       " '9': None}"
      ]
     },
     "execution_count": 61,
     "metadata": {},
     "output_type": "execute_result"
    }
   ],
   "source": [
    "d2.fromkeys(\"123456789\")"
   ]
  },
  {
   "cell_type": "code",
   "execution_count": 62,
   "id": "558d74ec-a299-4f2b-8716-0156dafcc81b",
   "metadata": {},
   "outputs": [
    {
     "data": {
      "text/plain": [
       "{0: None,\n",
       " 1: None,\n",
       " 2: None,\n",
       " 3: None,\n",
       " 4: None,\n",
       " 5: None,\n",
       " 6: None,\n",
       " 7: None,\n",
       " 8: None,\n",
       " 9: None,\n",
       " 10: None,\n",
       " 11: None,\n",
       " 12: None,\n",
       " 13: None,\n",
       " 14: None,\n",
       " 15: None,\n",
       " 16: None,\n",
       " 17: None,\n",
       " 18: None,\n",
       " 19: None}"
      ]
     },
     "execution_count": 62,
     "metadata": {},
     "output_type": "execute_result"
    }
   ],
   "source": [
    "d2.fromkeys(range(20))"
   ]
  },
  {
   "cell_type": "code",
   "execution_count": 65,
   "id": "a871f5fe-717e-4b20-a39b-e27afaff5e06",
   "metadata": {},
   "outputs": [],
   "source": [
    "d3 = {\"name\" : \"rahul\", \"age\" : 27, \"subject\": (\"math\", \"phy\", \"chem\"), \"address\": {\"city\": [\"pune\", \"nagpur\"]}, \"score\":{50, 60, 70}}"
   ]
  },
  {
   "cell_type": "code",
   "execution_count": 66,
   "id": "e85621fa-dcb7-4ffe-9563-8b2b167041e4",
   "metadata": {},
   "outputs": [
    {
     "data": {
      "text/plain": [
       "{'name': 'rahul',\n",
       " 'age': 27,\n",
       " 'subject': ('math', 'phy', 'chem'),\n",
       " 'address': {'city': ['pune', 'nagpur']},\n",
       " 'score': {50, 60, 70}}"
      ]
     },
     "execution_count": 66,
     "metadata": {},
     "output_type": "execute_result"
    }
   ],
   "source": [
    "d3"
   ]
  },
  {
   "cell_type": "code",
   "execution_count": 67,
   "id": "ed1e9f33-dbad-445f-86fa-150dc2094ec9",
   "metadata": {},
   "outputs": [
    {
     "data": {
      "text/plain": [
       "'phy'"
      ]
     },
     "execution_count": 67,
     "metadata": {},
     "output_type": "execute_result"
    }
   ],
   "source": [
    "d3[\"subject\"][1]"
   ]
  },
  {
   "cell_type": "code",
   "execution_count": 70,
   "id": "a9a79fed-8b57-422c-a337-e5fc849cdcf8",
   "metadata": {},
   "outputs": [
    {
     "data": {
      "text/plain": [
       "'nagpur'"
      ]
     },
     "execution_count": 70,
     "metadata": {},
     "output_type": "execute_result"
    }
   ],
   "source": [
    "d3[\"address\"][\"city\"][1]"
   ]
  },
  {
   "cell_type": "code",
   "execution_count": 72,
   "id": "3776ea0c-78fd-4757-b287-830d74d1d56b",
   "metadata": {},
   "outputs": [
    {
     "data": {
      "text/plain": [
       "{50, 60, 70}"
      ]
     },
     "execution_count": 72,
     "metadata": {},
     "output_type": "execute_result"
    }
   ],
   "source": [
    "d3[\"score\"]"
   ]
  },
  {
   "cell_type": "code",
   "execution_count": null,
   "id": "065ffad0-695d-450a-b702-2d773104a073",
   "metadata": {},
   "outputs": [],
   "source": [
    "conditions\n",
    "loops\n",
    "try\n",
    "file handling / os"
   ]
  },
  {
   "cell_type": "code",
   "execution_count": null,
   "id": "af6acc58-496e-4c61-8982-34541b253c44",
   "metadata": {},
   "outputs": [],
   "source": []
  },
  {
   "cell_type": "code",
   "execution_count": 74,
   "id": "d4cb90d0-5b8d-4b93-9f6e-569bd9be1bdd",
   "metadata": {},
   "outputs": [
    {
     "name": "stdout",
     "output_type": "stream",
     "text": [
      "Requirement already satisfied: pandas in c:\\users\\amitm\\anaconda3\\lib\\site-packages (2.1.4)\n",
      "Requirement already satisfied: numpy<2,>=1.23.2 in c:\\users\\amitm\\anaconda3\\lib\\site-packages (from pandas) (1.26.4)\n",
      "Requirement already satisfied: python-dateutil>=2.8.2 in c:\\users\\amitm\\anaconda3\\lib\\site-packages (from pandas) (2.8.2)\n",
      "Requirement already satisfied: pytz>=2020.1 in c:\\users\\amitm\\anaconda3\\lib\\site-packages (from pandas) (2023.3.post1)\n",
      "Requirement already satisfied: tzdata>=2022.1 in c:\\users\\amitm\\anaconda3\\lib\\site-packages (from pandas) (2023.3)\n",
      "Requirement already satisfied: six>=1.5 in c:\\users\\amitm\\anaconda3\\lib\\site-packages (from python-dateutil>=2.8.2->pandas) (1.16.0)\n"
     ]
    }
   ],
   "source": [
    "!pip install pandas"
   ]
  },
  {
   "cell_type": "code",
   "execution_count": 75,
   "id": "51158d7d-0661-4bc9-93d0-91f7b64f7d8b",
   "metadata": {},
   "outputs": [],
   "source": [
    "import math"
   ]
  },
  {
   "cell_type": "code",
   "execution_count": 76,
   "id": "5af06233-38cf-4d36-9b30-4f84837ec2fe",
   "metadata": {},
   "outputs": [
    {
     "data": {
      "text/plain": [
       "120"
      ]
     },
     "execution_count": 76,
     "metadata": {},
     "output_type": "execute_result"
    }
   ],
   "source": [
    "math.factorial(5)"
   ]
  },
  {
   "cell_type": "code",
   "execution_count": 77,
   "id": "16f9e1c9-e0b7-41fb-bc4e-c191b226c964",
   "metadata": {},
   "outputs": [
    {
     "data": {
      "text/plain": [
       "3.141592653589793"
      ]
     },
     "execution_count": 77,
     "metadata": {},
     "output_type": "execute_result"
    }
   ],
   "source": [
    "math.pi"
   ]
  },
  {
   "cell_type": "code",
   "execution_count": 79,
   "id": "1fdb2cb6-7a86-4701-ab01-58dfdc7fec7c",
   "metadata": {},
   "outputs": [
    {
     "data": {
      "text/plain": [
       "6"
      ]
     },
     "execution_count": 79,
     "metadata": {},
     "output_type": "execute_result"
    }
   ],
   "source": [
    "math.comb(4, 2)"
   ]
  },
  {
   "cell_type": "code",
   "execution_count": null,
   "id": "1c9b76fa-c6c6-412d-be41-4468681b1e26",
   "metadata": {},
   "outputs": [],
   "source": [
    "A,B,C,D"
   ]
  },
  {
   "cell_type": "code",
   "execution_count": null,
   "id": "e7659396-76bd-4271-a803-0bce054c238c",
   "metadata": {},
   "outputs": [],
   "source": [
    "AB, AC,, AD, BC, BD, CD"
   ]
  },
  {
   "cell_type": "code",
   "execution_count": null,
   "id": "e82ea7fc-6856-4ec7-b694-47c613d4aa78",
   "metadata": {},
   "outputs": [],
   "source": [
    "AB, AC, AD, BC, BD, CD\n",
    "BA, CA, DA, CB, BD, DC"
   ]
  },
  {
   "cell_type": "code",
   "execution_count": 80,
   "id": "a7847a1e-aa52-4134-8645-04fb5e3cd149",
   "metadata": {},
   "outputs": [
    {
     "data": {
      "text/plain": [
       "12"
      ]
     },
     "execution_count": 80,
     "metadata": {},
     "output_type": "execute_result"
    }
   ],
   "source": [
    "math.perm(4, 2)"
   ]
  },
  {
   "cell_type": "code",
   "execution_count": 81,
   "id": "31feb66b-3dbb-485b-b00b-9a5e1d59f0ca",
   "metadata": {},
   "outputs": [
    {
     "data": {
      "text/plain": [
       "120"
      ]
     },
     "execution_count": 81,
     "metadata": {},
     "output_type": "execute_result"
    }
   ],
   "source": [
    "math.lcm(20, 30, 40)"
   ]
  },
  {
   "cell_type": "code",
   "execution_count": 82,
   "id": "5e63f19f-43c3-4a3d-a0f4-784f0ee3f02f",
   "metadata": {},
   "outputs": [
    {
     "data": {
      "text/plain": [
       "4.0"
      ]
     },
     "execution_count": 82,
     "metadata": {},
     "output_type": "execute_result"
    }
   ],
   "source": [
    "math.sqrt(16)"
   ]
  },
  {
   "cell_type": "code",
   "execution_count": 83,
   "id": "677c4eb0-64e9-4b0b-99f1-7208a8d4b9b8",
   "metadata": {},
   "outputs": [
    {
     "data": {
      "text/plain": [
       "11"
      ]
     },
     "execution_count": 83,
     "metadata": {},
     "output_type": "execute_result"
    }
   ],
   "source": [
    "math.ceil(10.46)"
   ]
  },
  {
   "cell_type": "code",
   "execution_count": 84,
   "id": "1835b89b-2153-4b9c-8e25-00811e1ff02b",
   "metadata": {},
   "outputs": [
    {
     "data": {
      "text/plain": [
       "10"
      ]
     },
     "execution_count": 84,
     "metadata": {},
     "output_type": "execute_result"
    }
   ],
   "source": [
    "math.floor(10.46)"
   ]
  },
  {
   "cell_type": "code",
   "execution_count": 87,
   "id": "0dd036a5-a597-48bb-8735-40d9ce060678",
   "metadata": {},
   "outputs": [],
   "source": [
    "import statistics as st"
   ]
  },
  {
   "cell_type": "code",
   "execution_count": 88,
   "id": "1a579b5e-78a3-476d-9ea6-e3b08c054e8e",
   "metadata": {},
   "outputs": [],
   "source": [
    "import sys"
   ]
  },
  {
   "cell_type": "code",
   "execution_count": 91,
   "id": "cec66fe7-f9a2-4673-9b45-10aa0ad9bc9b",
   "metadata": {},
   "outputs": [],
   "source": [
    "import datetime as dt"
   ]
  },
  {
   "cell_type": "code",
   "execution_count": null,
   "id": "8a1808d0-52c2-4191-8cd8-c7851761278b",
   "metadata": {},
   "outputs": [],
   "source": []
  },
  {
   "cell_type": "code",
   "execution_count": null,
   "id": "c541f920-d8d3-4452-9563-1eb33d5979e4",
   "metadata": {},
   "outputs": [],
   "source": []
  }
 ],
 "metadata": {
  "kernelspec": {
   "display_name": "Python 3 (ipykernel)",
   "language": "python",
   "name": "python3"
  },
  "language_info": {
   "codemirror_mode": {
    "name": "ipython",
    "version": 3
   },
   "file_extension": ".py",
   "mimetype": "text/x-python",
   "name": "python",
   "nbconvert_exporter": "python",
   "pygments_lexer": "ipython3",
   "version": "3.11.7"
  }
 },
 "nbformat": 4,
 "nbformat_minor": 5
}
