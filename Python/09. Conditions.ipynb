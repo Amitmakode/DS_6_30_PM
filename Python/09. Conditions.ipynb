{
 "cells": [
  {
   "cell_type": "markdown",
   "id": "9e49fb82-73d2-404a-b7d9-5c70c6731f1e",
   "metadata": {},
   "source": [
    "## Conditions"
   ]
  },
  {
   "cell_type": "code",
   "execution_count": null,
   "id": "f96f103d-2650-42cf-acab-f8d6104facb9",
   "metadata": {},
   "outputs": [],
   "source": [
    "if \n",
    "elif\n",
    "else"
   ]
  },
  {
   "cell_type": "code",
   "execution_count": 8,
   "id": "f25aecf5-1022-4804-8597-141d21fe812b",
   "metadata": {},
   "outputs": [],
   "source": [
    "num = 25"
   ]
  },
  {
   "cell_type": "code",
   "execution_count": 6,
   "id": "d0d9d5e6-7b19-4c83-a7d2-73ea6c17db8d",
   "metadata": {},
   "outputs": [],
   "source": [
    "if num < 21:\n",
    "    print(\"this num is less then 20\")"
   ]
  },
  {
   "cell_type": "code",
   "execution_count": 11,
   "id": "71db57eb-ac38-4949-b329-377caad62c6f",
   "metadata": {},
   "outputs": [
    {
     "name": "stdout",
     "output_type": "stream",
     "text": [
      "num is greater than\n"
     ]
    }
   ],
   "source": [
    "num = 31\n",
    "\n",
    "if num > 30:\n",
    "    print(\"num is greater than\")\n",
    "elif num < 15:\n",
    "    print(\"num is less than\")\n",
    "else:\n",
    "    print(\"this my num\")"
   ]
  },
  {
   "cell_type": "code",
   "execution_count": 12,
   "id": "d3692f3d-b601-4504-88e9-3418693443e7",
   "metadata": {},
   "outputs": [
    {
     "name": "stdout",
     "output_type": "stream",
     "text": [
      "num is greater than\n"
     ]
    }
   ],
   "source": [
    "num = 31\n",
    "\n",
    "if num > 30:\n",
    "    print(\"num is greater than\")\n",
    "elif num > 15:\n",
    "    print(\"num is less than\")\n",
    "else:\n",
    "    print(\"this my num\")"
   ]
  },
  {
   "cell_type": "code",
   "execution_count": 13,
   "id": "081019c1-fb0d-40b3-ad3d-9e603ee8bfd2",
   "metadata": {},
   "outputs": [
    {
     "name": "stdout",
     "output_type": "stream",
     "text": [
      "this my num\n"
     ]
    }
   ],
   "source": [
    "num = 10\n",
    "\n",
    "if num > 30:\n",
    "    print(\"num is greater than\")\n",
    "elif num > 15:\n",
    "    print(\"num is less than\")\n",
    "else:\n",
    "    print(\"this my num\")"
   ]
  },
  {
   "cell_type": "code",
   "execution_count": null,
   "id": "b229c1f2-5394-4b36-bcd0-6d87866e108d",
   "metadata": {},
   "outputs": [],
   "source": []
  },
  {
   "cell_type": "code",
   "execution_count": 14,
   "id": "f4343c7d-fea6-4b96-a633-424f5a542435",
   "metadata": {},
   "outputs": [
    {
     "name": "stdout",
     "output_type": "stream",
     "text": [
      "incorrect logic\n"
     ]
    }
   ],
   "source": [
    "if 20 > 30 and 40 < 20:\n",
    "    print(\"correct logic\")\n",
    "else:\n",
    "    print(\"incorrect logic\")"
   ]
  },
  {
   "cell_type": "code",
   "execution_count": 15,
   "id": "5d0c0418-3130-4dbe-b00b-27a23736d958",
   "metadata": {},
   "outputs": [
    {
     "name": "stdout",
     "output_type": "stream",
     "text": [
      "correct logic\n"
     ]
    }
   ],
   "source": [
    "if 20 < 30 or 40 < 20:\n",
    "    print(\"correct logic\")\n",
    "else:\n",
    "    print(\"incorrect logic\")"
   ]
  },
  {
   "cell_type": "code",
   "execution_count": 17,
   "id": "7593be55-8367-4051-aa24-0b4d0b8b0e4a",
   "metadata": {},
   "outputs": [
    {
     "name": "stdin",
     "output_type": "stream",
     "text": [
      " 35\n"
     ]
    },
    {
     "name": "stdout",
     "output_type": "stream",
     "text": [
      "odd number\n"
     ]
    }
   ],
   "source": [
    "num = int(input())\n",
    "\n",
    "if num %2 == 0 :\n",
    "    print(\"even number\")\n",
    "else:\n",
    "    print(\"odd number\")"
   ]
  },
  {
   "cell_type": "code",
   "execution_count": 19,
   "id": "6febcaa3-fe05-446f-b6b5-8053d378b601",
   "metadata": {},
   "outputs": [
    {
     "name": "stdin",
     "output_type": "stream",
     "text": [
      " 103\n"
     ]
    },
    {
     "name": "stdout",
     "output_type": "stream",
     "text": [
      "any number \n"
     ]
    }
   ],
   "source": [
    "num = int(input())\n",
    "\n",
    "if num%2 == 0:\n",
    "    print(\"even number\")\n",
    "elif num%3== 0:\n",
    "    print(\"divided by 3\")\n",
    "else:\n",
    "    print(\"any number \")"
   ]
  },
  {
   "cell_type": "code",
   "execution_count": 20,
   "id": "37d5d351-2b22-408a-931e-1d83dd92ec4a",
   "metadata": {},
   "outputs": [
    {
     "ename": "SyntaxError",
     "evalue": "invalid syntax (3821098832.py, line 10)",
     "output_type": "error",
     "traceback": [
      "\u001b[1;36m  Cell \u001b[1;32mIn[20], line 10\u001b[1;36m\u001b[0m\n\u001b[1;33m    elif :\u001b[0m\n\u001b[1;37m         ^\u001b[0m\n\u001b[1;31mSyntaxError\u001b[0m\u001b[1;31m:\u001b[0m invalid syntax\n"
     ]
    }
   ],
   "source": [
    "number = 10\n",
    "A = 10\n",
    "B = 20\n",
    "C = 30\n",
    "\n",
    "if number == A:\n",
    "    print(\"python-1\")\n",
    "elif number > B :\n",
    "    print(\"python-2\")\n",
    "elif :\n",
    "    print(\"python-3\")\n",
    "else:\n",
    "    print(\"i don't know\")"
   ]
  },
  {
   "cell_type": "code",
   "execution_count": 23,
   "id": "86ef0ac5-b943-48d0-aeb6-5b9e1f8ed541",
   "metadata": {},
   "outputs": [
    {
     "name": "stdout",
     "output_type": "stream",
     "text": [
      "number is greater than 11\n",
      "number is less than 11\n"
     ]
    }
   ],
   "source": [
    "number  = 15\n",
    "\n",
    "if number == 11:\n",
    "    print(\"number is equal\")\n",
    "elif number > 11:\n",
    "    print(\"number is greater than 11\")\n",
    "    \n",
    "if number > 11:\n",
    "    print(\"number is less than 11\")"
   ]
  },
  {
   "cell_type": "code",
   "execution_count": 24,
   "id": "60d80156-07e6-4c98-ba07-48247e05fbcb",
   "metadata": {},
   "outputs": [
    {
     "name": "stdout",
     "output_type": "stream",
     "text": [
      "number is equal\n",
      "number is less than 11\n",
      "   ---\n"
     ]
    }
   ],
   "source": [
    "number  = 11\n",
    "if number == 11:\n",
    "    print(\"number is equal\")\n",
    "elif number > 11:\n",
    "    print(\"number is greater than 11\")\n",
    "    \n",
    "if number == 11:\n",
    "    print(\"number is less than 11\")\n",
    "\n",
    "if number == 11:\n",
    "    print(\"   ---\")"
   ]
  },
  {
   "cell_type": "markdown",
   "id": "3ff3963f-55a9-4f71-a314-9fda148af39b",
   "metadata": {},
   "source": [
    "### Ternary Operator in Python"
   ]
  },
  {
   "cell_type": "code",
   "execution_count": null,
   "id": "f140d253-426e-4a5b-ab11-daf3479b946e",
   "metadata": {},
   "outputs": [],
   "source": [
    "# The ternary operator in Python is a one-line shorthand for if-else statements.\n",
    "# It’s also known as a conditional expression."
   ]
  },
  {
   "cell_type": "code",
   "execution_count": null,
   "id": "ab4bbd13-7c8d-4dcf-9083-3d6aa97162fc",
   "metadata": {},
   "outputs": [],
   "source": [
    "value_if_true if condition else value_if_false"
   ]
  },
  {
   "cell_type": "code",
   "execution_count": 26,
   "id": "33b954c5-25c5-445a-bccd-dc7e4362a4cb",
   "metadata": {},
   "outputs": [
    {
     "data": {
      "text/plain": [
       "'Minor'"
      ]
     },
     "execution_count": 26,
     "metadata": {},
     "output_type": "execute_result"
    }
   ],
   "source": [
    "age = 16\n",
    "\n",
    "\"Adult\" if age >= 18 else \"Minor\"\n",
    " "
   ]
  },
  {
   "cell_type": "code",
   "execution_count": 28,
   "id": "547770bc-6a63-4bd3-bafe-712819bbd1ab",
   "metadata": {},
   "outputs": [
    {
     "name": "stdout",
     "output_type": "stream",
     "text": [
      "C grade\n"
     ]
    }
   ],
   "source": [
    "score = 57\n",
    "\n",
    "if score >=90:\n",
    "    print(\"A grade\")\n",
    "else:\n",
    "    if score >= 75:\n",
    "        print(\"B Grade\")\n",
    "    else:\n",
    "        print(\"C grade\")"
   ]
  },
  {
   "cell_type": "code",
   "execution_count": 32,
   "id": "ff2770eb-b0af-404d-a34e-0483d8a58ac1",
   "metadata": {},
   "outputs": [
    {
     "data": {
      "text/plain": [
       "'C'"
      ]
     },
     "execution_count": 32,
     "metadata": {},
     "output_type": "execute_result"
    }
   ],
   "source": [
    "score = 60\n",
    "\n",
    "\"A\" if score >= 90 else \"B\" if score >= 75 else \"C\""
   ]
  },
  {
   "cell_type": "code",
   "execution_count": 33,
   "id": "834ee9fa-b890-4b04-a4ca-2a225b37beab",
   "metadata": {},
   "outputs": [],
   "source": [
    "from datetime import datetime"
   ]
  },
  {
   "cell_type": "code",
   "execution_count": 36,
   "id": "c4ee9ddd-94d5-45d0-b76b-3e075600e886",
   "metadata": {},
   "outputs": [
    {
     "data": {
      "text/plain": [
       "19"
      ]
     },
     "execution_count": 36,
     "metadata": {},
     "output_type": "execute_result"
    }
   ],
   "source": [
    "# Get the current hour in IST\n",
    "current_hour = datetime.now().hour\n",
    "current_hour"
   ]
  },
  {
   "cell_type": "code",
   "execution_count": 37,
   "id": "8237fe17-b51a-46a9-a68d-19bbd11bf2bb",
   "metadata": {},
   "outputs": [
    {
     "name": "stdout",
     "output_type": "stream",
     "text": [
      "good evening\n"
     ]
    }
   ],
   "source": [
    "# Define greetings based on the hour\n",
    "greetings = (\n",
    "    \"good morning\" if current_hour < 12 else\n",
    "    \"good afternoon\" if current_hour < 18 else\n",
    "    \"good evening\" if current_hour < 21 else\n",
    "    \"good night\"\n",
    ")\n",
    "\n",
    "print(greetings)"
   ]
  },
  {
   "cell_type": "markdown",
   "id": "61a068c0-3bec-4dfe-80b8-e8b7566d9b02",
   "metadata": {},
   "source": [
    "### Match case"
   ]
  },
  {
   "cell_type": "code",
   "execution_count": 38,
   "id": "6ebf8688-c51c-4d88-a492-1c5867401c32",
   "metadata": {},
   "outputs": [
    {
     "name": "stdout",
     "output_type": "stream",
     "text": [
      "this is start of the week\n"
     ]
    }
   ],
   "source": [
    "day = \"monday\"\n",
    "\n",
    "match day:\n",
    "    case \"monday\":\n",
    "        print(\"this is start of the week\")\n",
    "    case \"tuesday\":\n",
    "        print(\"this is a second day of the week\")\n",
    "    case \"wednesday\":\n",
    "        print(\"this is mid of the week\")\n",
    "    case _ :\n",
    "        print(\"its just a another day\")"
   ]
  },
  {
   "cell_type": "code",
   "execution_count": null,
   "id": "c85144c2-a6dd-4ba2-9220-e53e85666bbe",
   "metadata": {},
   "outputs": [],
   "source": []
  },
  {
   "cell_type": "code",
   "execution_count": null,
   "id": "78a7921f-362e-4e2a-877b-554497859813",
   "metadata": {},
   "outputs": [],
   "source": []
  },
  {
   "cell_type": "code",
   "execution_count": 42,
   "id": "03bc7cd7-0fef-4b02-9733-d8626da297e6",
   "metadata": {},
   "outputs": [
    {
     "name": "stdout",
     "output_type": "stream",
     "text": [
      "A is negative\n"
     ]
    }
   ],
   "source": [
    "a = -4\n",
    "if a > 0 and a % 2 == 0:\n",
    "        print('A is an even and positive integer')\n",
    "elif a > 0 and a % 2 !=  0:\n",
    "     print('A is a positive integer')\n",
    "elif a == 0:\n",
    "    print('A is zero')\n",
    "else:\n",
    "    print('A is negative')"
   ]
  },
  {
   "cell_type": "code",
   "execution_count": 45,
   "id": "3b7d5344-a52a-42d9-97db-6a33b790279a",
   "metadata": {},
   "outputs": [
    {
     "name": "stdin",
     "output_type": "stream",
     "text": [
      "Enter an integer\n",
      " 5\n"
     ]
    },
    {
     "name": "stdout",
     "output_type": "stream",
     "text": [
      "Keep trying\n"
     ]
    }
   ],
   "source": [
    "rand_var = 11\n",
    "\n",
    "guess = int(input(\"Enter an integer\\n\"))\n",
    "\n",
    "if guess == rand_var:\n",
    "    print(\"we guess correct value\")\n",
    "    if guess <= rand_var:\n",
    "        print(\"guess number is smaller than random variable\")\n",
    "elif guess > rand_var:\n",
    "    print(\"guess number is greter than random variable\")\n",
    "else:\n",
    "    print(\"Keep trying\")"
   ]
  },
  {
   "cell_type": "code",
   "execution_count": 46,
   "id": "c1cace17-f7d4-47c5-8c30-f21c3107fff1",
   "metadata": {},
   "outputs": [
    {
     "name": "stdin",
     "output_type": "stream",
     "text": [
      "Enter the mark  48\n"
     ]
    },
    {
     "name": "stdout",
     "output_type": "stream",
     "text": [
      "You passed in second class\n"
     ]
    }
   ],
   "source": [
    "mark = int(input(\"Enter the mark \"))\n",
    "\n",
    "if mark < 0 or mark > 100: \n",
    "    print(\"Invalid marks are entered!\")\n",
    "elif mark >= 0 and mark < 35 :\n",
    "    print(\"Sorry you failed!\")\n",
    "elif mark >= 36 and mark <= 60:\n",
    "    print(\"You passed in second class\")\n",
    "elif mark >= 61 and mark <= 80 :\n",
    "    print(\"You passed in first class\")\n",
    "else :\n",
    "    print(\"You got distinction!\")"
   ]
  },
  {
   "cell_type": "code",
   "execution_count": 47,
   "id": "7c3599b6-ac50-403c-9bbe-d3d12849129a",
   "metadata": {},
   "outputs": [
    {
     "name": "stdin",
     "output_type": "stream",
     "text": [
      "Enter the lenght in centimeter  500\n"
     ]
    },
    {
     "name": "stdout",
     "output_type": "stream",
     "text": [
      "500.0  cm =  196.8503937007874  inches\n"
     ]
    }
   ],
   "source": [
    "length_in_cm = input(\"Enter the lenght in centimeter \")\n",
    "\n",
    "length_in_cm = float(length_in_cm)\n",
    "    \n",
    "if length_in_cm < 0 :\n",
    "    print(\"You have entered negative value. \")\n",
    "else:\n",
    "    length_in_inches = length_in_cm / 2.54\n",
    "    print(length_in_cm, \" cm = \", length_in_inches, \" inches\")"
   ]
  },
  {
   "cell_type": "code",
   "execution_count": null,
   "id": "9faa04c1-9ef6-426f-917f-72003f123ca0",
   "metadata": {},
   "outputs": [],
   "source": []
  },
  {
   "cell_type": "code",
   "execution_count": 51,
   "id": "b8391265-42cf-47a4-bc91-02a25df524dd",
   "metadata": {},
   "outputs": [
    {
     "name": "stdin",
     "output_type": "stream",
     "text": [
      "Enter your username:  Admin\n",
      "Enter your password:  12345\n"
     ]
    },
    {
     "name": "stdout",
     "output_type": "stream",
     "text": [
      "Unknown user. Please try again.\n"
     ]
    }
   ],
   "source": [
    "# Password and Username Checking\n",
    "username = input(\"Enter your username: \")\n",
    "password = input(\"Enter your password: \")\n",
    "\n",
    "\n",
    "if username == \"admin\":\n",
    "    if password == \"password\":\n",
    "        print(\"Login successful! Welcome, admin.\")\n",
    "    elif password == \"12345\":\n",
    "        print(\"Weak password. Please reset your password.\")\n",
    "    else:\n",
    "        print(\"Incorrect password. Please try again.\")\n",
    "else:\n",
    "    if username == \"guest\":\n",
    "        if password == \"guest\":\n",
    "            print(\"Login successful! Welcome, guest.\")\n",
    "        else:\n",
    "            print(\"Incorrect password. Please try again.\")\n",
    "    else:\n",
    "        print(\"Unknown user. Please try again.\")"
   ]
  },
  {
   "cell_type": "code",
   "execution_count": 52,
   "id": "d204ba70-ce7b-4279-b583-24dc0acbc494",
   "metadata": {},
   "outputs": [
    {
     "name": "stdout",
     "output_type": "stream",
     "text": [
      "do not perform this task\n"
     ]
    }
   ],
   "source": [
    "lis = [1,2,3,4,5,6]\n",
    "\n",
    "if 60 in lis :\n",
    "    print(\"try to perform a task \")\n",
    "else :\n",
    "    print(\"do not perform this task\")"
   ]
  },
  {
   "cell_type": "code",
   "execution_count": 53,
   "id": "132ee694-75e1-4cf8-82dd-38abeecf2f0e",
   "metadata": {},
   "outputs": [
    {
     "name": "stdout",
     "output_type": "stream",
     "text": [
      "try to do sub\n",
      "try to do mult\n",
      "this is new statement\n"
     ]
    }
   ],
   "source": [
    "lis = [1,2,3,4,5,6]\n",
    "\n",
    "if 10 in lis :\n",
    "    print(\"thy to do a addition\")\n",
    "elif 2 in lis :\n",
    "    print(\"try to do sub\")\n",
    "    if 3 in lis :\n",
    "        print(\"try to do mult\")\n",
    "if 4 in lis :\n",
    "    print(\"this is new statement\")"
   ]
  },
  {
   "cell_type": "code",
   "execution_count": 56,
   "id": "16c8357a-92bd-410f-88a5-c1e63957a9bf",
   "metadata": {},
   "outputs": [
    {
     "name": "stdin",
     "output_type": "stream",
     "text": [
      " 450\n"
     ]
    },
    {
     "name": "stdout",
     "output_type": "stream",
     "text": [
      "i will be able to buy something\n",
      "\n",
      "i wont be able to buy anyting\n"
     ]
    }
   ],
   "source": [
    "price  = int(input())\n",
    "\n",
    "if price  < 500 :\n",
    "    print(\"i will be able to buy something\")\n",
    "    print()\n",
    "    if price < 400 :\n",
    "        print(\"i will be able to buy a jacket\")\n",
    "    elif price == 300 :\n",
    "        print(\"i will be able to buy a shirt\")\n",
    "        if price < 200 :\n",
    "            print(\"i would like to do sometign\")\n",
    "    else :\n",
    "        print(\"i wont be able to buy anyting\")\n",
    "else :\n",
    "     print(\"i wont be able to buy anything with this price tag\")"
   ]
  },
  {
   "cell_type": "code",
   "execution_count": 59,
   "id": "9eda3817-2520-4b10-ada7-4783c630352d",
   "metadata": {},
   "outputs": [
    {
     "name": "stdin",
     "output_type": "stream",
     "text": [
      " 800\n"
     ]
    },
    {
     "name": "stdout",
     "output_type": "stream",
     "text": [
      "range above 799\n"
     ]
    }
   ],
   "source": [
    "price  = int(input())\n",
    "\n",
    "if price >= 0 and price < 200:\n",
    "    print(\"range between 0-199\")\n",
    "elif price >= 200 and price < 400:\n",
    "    print(\"range between 200-399\")\n",
    "elif price >= 400 and price < 600:\n",
    "    print(\"range between 400-599\")\n",
    "elif price >= 600 and price < 700:\n",
    "    print(\"range between 600-799\")\n",
    "else:\n",
    "    if price < 0:\n",
    "        print(\"rnage belowe 0\")\n",
    "    else:\n",
    "        print(\"range above 799\")"
   ]
  },
  {
   "cell_type": "code",
   "execution_count": 63,
   "id": "86dd64a4-b38e-41e8-85ac-4194836d8670",
   "metadata": {},
   "outputs": [
    {
     "name": "stdin",
     "output_type": "stream",
     "text": [
      " 600\n"
     ]
    },
    {
     "name": "stdout",
     "output_type": "stream",
     "text": [
      "You got GRE congratulations\n"
     ]
    }
   ],
   "source": [
    "marks = int(input())\n",
    "if marks < 600:\n",
    "    print(\"NO GRE\")\n",
    "    if marks < 500:\n",
    "        print(\"TOFEL\")\n",
    "        if marks < 400:\n",
    "            print(\"Try something else\")\n",
    "    else:\n",
    "        print(\"YOU GOT TOFEL\")      \n",
    "elif marks > 600:\n",
    "    print(\"you will get IIT\")\n",
    "    if marks > 700:\n",
    "        print(\"you will get IIM\")\n",
    "    else:\n",
    "        print(\"try next time\")\n",
    "else:\n",
    "    print(\"You got GRE congratulations\")"
   ]
  },
  {
   "cell_type": "code",
   "execution_count": 66,
   "id": "de1cdb6a-df72-4d51-8be6-bbaa8a52f129",
   "metadata": {},
   "outputs": [
    {
     "name": "stdin",
     "output_type": "stream",
     "text": [
      "enter a name of employee  ayush\n",
      "enter gender of employee   m\n",
      "enter basic salary of employee  30000\n",
      "enter experience  16\n",
      "enter incrament rate  0.10\n"
     ]
    },
    {
     "name": "stdout",
     "output_type": "stream",
     "text": [
      "gross_salary - 78000\n",
      "net_salary - 73500\n",
      "Bonus =  13230\n"
     ]
    }
   ],
   "source": [
    "name = input(\"enter a name of employee \")\n",
    "gender = input(\"enter gender of employee  \")\n",
    "first_base_salary = int(input(\"enter basic salary of employee \"))\n",
    "year_of_experience = eval(input(\"enter experience \"))\n",
    "salary_increase_rate = eval(input(\"enter incrament rate \"))\n",
    "\n",
    "gross_salary = first_base_salary * (1 + salary_increase_rate * year_of_experience)\n",
    "gross_salary = int(gross_salary)\n",
    "net_salary = gross_salary - (first_base_salary*0.15)\n",
    "net_salary = int(net_salary)\n",
    "print(\"gross_salary -\", gross_salary)\n",
    "print(\"net_salary -\", net_salary)\n",
    "\n",
    "bonus_thresold = 2\n",
    "\n",
    "if year_of_experience >= 10:\n",
    "    if gender == \"f\":\n",
    "        bonus_rate = 0.2\n",
    "        bonus = net_salary * bonus_rate\n",
    "        print(\"Bonus = \", int(bonus))\n",
    "        if year_of_experience <=15 and gross_salary >= 100000:\n",
    "            aditional_bonus = 11000\n",
    "            total_bonus = bonus + aditional_bonus\n",
    "            print(\"overall_Bonus = \", bonus, \"+\", aditional_bonus,\"=\", int(total_bonus))\n",
    "            if net_salary >= 100000:\n",
    "                print(\"You will get early personal cabin\")\n",
    "        if year_of_experience > 15 and net_salary >= 100000:\n",
    "            aditional_bonus = 11000\n",
    "            total_bonus = bonus + aditional_bonus\n",
    "            print(\"overall_Bonus = \", bonus, \"+\", aditional_bonus,\"=\", int(total_bonus))\n",
    "            print(\"You will get personal cabin\")\n",
    "    elif gender == \"m\":\n",
    "        bonus_rate = 0.18\n",
    "        bonus = net_salary * bonus_rate\n",
    "        print(\"Bonus = \", int(bonus))\n",
    "        if year_of_experience <=15 and gross_salary >= 100000:\n",
    "            aditional_bonus = 10000\n",
    "            total_bonus = bonus + aditional_bonus\n",
    "            print(\"overall_Bonus = \", bonus, \"+\", aditional_bonus,\"=\", int(total_bonus))\n",
    "            if net_salary >= 100000:\n",
    "                print(\"You will get early personal cabin\")\n",
    "        if year_of_experience > 15 and net_salary >= 100000:\n",
    "            aditional_bonus = 10000\n",
    "            total_bonus = bonus + aditional_bonus\n",
    "            print(\"overall_Bonus = \", bonus, \"+\", aditional_bonus,\"=\", int(total_bonus))\n",
    "            print(\"You will get personal cabin\")  \n",
    "elif year_of_experience>= 6 < 10:\n",
    "    if gender == \"f\":\n",
    "        bonus_rate = 0.15\n",
    "        bonus = net_salary * bonus_rate\n",
    "        print(\"Bonus = \", bonus)\n",
    "        if gross_salary >= 75000:\n",
    "            print(\"Get promoted \")\n",
    "            if net_salary>= 70000:\n",
    "                print(\"Early promoted \")\n",
    "        else:\n",
    "            print(\"better luck next year\")\n",
    "    elif gender == \"m\":\n",
    "        bonus_rate = 0.14\n",
    "        bonus = net_salary * bonus_rate\n",
    "        print(\"Bonus = \", bonus)\n",
    "        if gross_salary >= 75000:\n",
    "            print(\"Get promoted \")\n",
    "            if net_salary>= 70000:\n",
    "                print(\"Early promoted \")\n",
    "        else:\n",
    "            print(\"better luck next year\")        \n",
    "elif year_of_experience > 2 <=5:\n",
    "    if gender == \"f\":\n",
    "        bonus_rate = 0.12\n",
    "        bonus = net_salary * bonus_rate\n",
    "        print(\"Bonus = \", bonus)\n",
    "        if gross_salary>= 50000:\n",
    "            print(\"Get regularization \")\n",
    "            if net_salary>= 45000:\n",
    "                print(\"Get early regularization\")\n",
    "    elif gender == \"m\":\n",
    "        bonus_rate = 0.10\n",
    "        bonus = net_salary * bonus_rate\n",
    "        print(\"Bonus = \", bonus)\n",
    "        if gross_salary>= 50000:\n",
    "            print(\"Get regularization \")\n",
    "            if net_salary>= 45000:\n",
    "                print(\"Get early regularization\")\n",
    "else:\n",
    "    print(\"No bonus for employee\")"
   ]
  },
  {
   "cell_type": "code",
   "execution_count": null,
   "id": "ded0d75f-b365-4744-890a-322411a421aa",
   "metadata": {},
   "outputs": [],
   "source": []
  }
 ],
 "metadata": {
  "kernelspec": {
   "display_name": "Python 3 (ipykernel)",
   "language": "python",
   "name": "python3"
  },
  "language_info": {
   "codemirror_mode": {
    "name": "ipython",
    "version": 3
   },
   "file_extension": ".py",
   "mimetype": "text/x-python",
   "name": "python",
   "nbconvert_exporter": "python",
   "pygments_lexer": "ipython3",
   "version": "3.11.7"
  }
 },
 "nbformat": 4,
 "nbformat_minor": 5
}
