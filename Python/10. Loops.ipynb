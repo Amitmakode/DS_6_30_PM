{
 "cells": [
  {
   "cell_type": "markdown",
   "id": "5c18d69e-98bf-4f7d-b8ba-43885224fc29",
   "metadata": {},
   "source": [
    "### Loops"
   ]
  },
  {
   "cell_type": "code",
   "execution_count": null,
   "id": "fd3bdc4b-a99f-46b8-8d78-f59aed899609",
   "metadata": {},
   "outputs": [],
   "source": [
    "iterable\n",
    "iterator\n",
    "iteration"
   ]
  },
  {
   "cell_type": "code",
   "execution_count": null,
   "id": "81b11d52-6941-40eb-8171-16005511b2bb",
   "metadata": {},
   "outputs": [],
   "source": [
    "for \n",
    "while\n",
    "iter"
   ]
  },
  {
   "cell_type": "code",
   "execution_count": 1,
   "id": "8dd058ef-65f4-4dbd-b345-232aae099153",
   "metadata": {},
   "outputs": [],
   "source": [
    "str = \"this is my first loop\""
   ]
  },
  {
   "cell_type": "code",
   "execution_count": 2,
   "id": "0f70590b-fcdc-472a-8bbe-59fefeba13c0",
   "metadata": {},
   "outputs": [
    {
     "name": "stdout",
     "output_type": "stream",
     "text": [
      "t\n",
      "h\n",
      "i\n",
      "s\n",
      " \n",
      "i\n",
      "s\n",
      " \n",
      "m\n",
      "y\n",
      " \n",
      "f\n",
      "i\n",
      "r\n",
      "s\n",
      "t\n",
      " \n",
      "l\n",
      "o\n",
      "o\n",
      "p\n"
     ]
    }
   ],
   "source": [
    "for i in str:\n",
    "    print(i)"
   ]
  },
  {
   "cell_type": "code",
   "execution_count": 3,
   "id": "e14431c5-5d4c-4403-b766-5902b54b6aa9",
   "metadata": {},
   "outputs": [],
   "source": [
    "l1 = [12,3,4,5,54,5,5,]"
   ]
  },
  {
   "cell_type": "code",
   "execution_count": 4,
   "id": "c5ac3933-eddc-4b7e-bc70-ad3093d082de",
   "metadata": {},
   "outputs": [
    {
     "name": "stdout",
     "output_type": "stream",
     "text": [
      "12\n",
      "3\n",
      "4\n",
      "5\n",
      "54\n",
      "5\n",
      "5\n"
     ]
    }
   ],
   "source": [
    "for i in l1:\n",
    "    print(i)"
   ]
  },
  {
   "cell_type": "code",
   "execution_count": 6,
   "id": "b2e4914e-37ad-4af2-894a-b7a043404e22",
   "metadata": {},
   "outputs": [
    {
     "name": "stdin",
     "output_type": "stream",
     "text": [
      " 4\n"
     ]
    },
    {
     "name": "stdout",
     "output_type": "stream",
     "text": [
      "0\n",
      "1\n",
      "2\n",
      "3\n"
     ]
    }
   ],
   "source": [
    "num = int(input())\n",
    "\n",
    "if num%2 == 0:\n",
    "    for i in range(num):\n",
    "        print(i)"
   ]
  },
  {
   "cell_type": "code",
   "execution_count": 7,
   "id": "635d31c6-f540-4bf2-9ccc-32a160ed19ca",
   "metadata": {},
   "outputs": [],
   "source": [
    "d1 = {\"jan\":31, \"feb\":28, \"march\":31}"
   ]
  },
  {
   "cell_type": "code",
   "execution_count": 8,
   "id": "eea0a229-c97a-4847-ba3e-7c5a1ab53e3e",
   "metadata": {},
   "outputs": [
    {
     "name": "stdout",
     "output_type": "stream",
     "text": [
      "jan\n",
      "feb\n",
      "march\n"
     ]
    }
   ],
   "source": [
    "for key in d1:\n",
    "    print(key)"
   ]
  },
  {
   "cell_type": "code",
   "execution_count": 9,
   "id": "eb57c669-6fa2-4433-b957-45760a9755ed",
   "metadata": {},
   "outputs": [
    {
     "name": "stdout",
     "output_type": "stream",
     "text": [
      "31\n",
      "28\n",
      "31\n"
     ]
    }
   ],
   "source": [
    "for key in d1.values():\n",
    "    print(key)"
   ]
  },
  {
   "cell_type": "code",
   "execution_count": 10,
   "id": "de959eeb-8083-41d1-a1e0-a8dfcfdad03e",
   "metadata": {},
   "outputs": [
    {
     "name": "stdout",
     "output_type": "stream",
     "text": [
      "('jan', 31)\n",
      "('feb', 28)\n",
      "('march', 31)\n"
     ]
    }
   ],
   "source": [
    "for key in d1.items():\n",
    "    print(key)"
   ]
  },
  {
   "cell_type": "code",
   "execution_count": 11,
   "id": "8b4a3794-9650-46ec-89e5-ff9f758c19b6",
   "metadata": {},
   "outputs": [
    {
     "name": "stdout",
     "output_type": "stream",
     "text": [
      "jan     31\n",
      "feb     28\n",
      "march     31\n"
     ]
    }
   ],
   "source": [
    "for k, v in d1.items():\n",
    "    print(k, \"   \", v)"
   ]
  },
  {
   "cell_type": "code",
   "execution_count": 19,
   "id": "ede89353-efcd-4d87-91e7-807734864d28",
   "metadata": {},
   "outputs": [
    {
     "name": "stdout",
     "output_type": "stream",
     "text": [
      "1 1\n",
      "2 4\n",
      "3 9\n",
      "4 16\n",
      "5 25\n",
      "6 36\n",
      "7 49\n",
      "8 64\n",
      "9 81\n",
      "10 100\n"
     ]
    }
   ],
   "source": [
    "for i, j in enumerate(range(1,11)):\n",
    "    print(i+1, j**2)"
   ]
  },
  {
   "cell_type": "code",
   "execution_count": 20,
   "id": "b0c5a261-98a6-462d-be59-1fbae76b64cf",
   "metadata": {},
   "outputs": [
    {
     "name": "stdout",
     "output_type": "stream",
     "text": [
      "12\n",
      "3\n",
      "4\n",
      "5\n",
      "54\n",
      "5\n",
      "5\n",
      "will print finally\n"
     ]
    }
   ],
   "source": [
    "for i in l1:\n",
    "    print(i)\n",
    "else:\n",
    "    print(\"will print finally\")"
   ]
  },
  {
   "cell_type": "code",
   "execution_count": 21,
   "id": "7ae6e119-38ac-445e-9e63-97fba0bdefe9",
   "metadata": {},
   "outputs": [
    {
     "name": "stdout",
     "output_type": "stream",
     "text": [
      "5\n",
      "4\n",
      "3\n",
      "2\n",
      "1\n"
     ]
    }
   ],
   "source": [
    "a = 5\n",
    "\n",
    "while a > 0:\n",
    "    print(a)\n",
    "    a=a-1"
   ]
  },
  {
   "cell_type": "code",
   "execution_count": 22,
   "id": "fb93653d-2752-4e46-9b59-7cded2cccdd3",
   "metadata": {},
   "outputs": [
    {
     "name": "stdout",
     "output_type": "stream",
     "text": [
      "0\n",
      "1\n",
      "2\n",
      "0\n",
      "1\n",
      "2\n",
      "0\n",
      "1\n",
      "2\n",
      "0\n",
      "1\n",
      "2\n",
      "0\n",
      "1\n",
      "2\n"
     ]
    }
   ],
   "source": [
    "a= 5\n",
    "while a > 0:\n",
    "    for i in range(3):\n",
    "        print(i)\n",
    "    a-=1    "
   ]
  },
  {
   "cell_type": "code",
   "execution_count": 26,
   "id": "6d67945b-dea6-4a69-9103-145e6ba257f7",
   "metadata": {},
   "outputs": [
    {
     "name": "stdout",
     "output_type": "stream",
     "text": [
      "12 3 4 5 54 5 5 "
     ]
    }
   ],
   "source": [
    "for i in l1:\n",
    "    print(i, end=\" \")"
   ]
  },
  {
   "cell_type": "code",
   "execution_count": 33,
   "id": "88461b68-310a-41de-9197-b08e9e338a20",
   "metadata": {},
   "outputs": [],
   "source": [
    "var = iter(l1)"
   ]
  },
  {
   "cell_type": "code",
   "execution_count": 31,
   "id": "588c7f67-857d-4b4c-8650-e2d207e24548",
   "metadata": {},
   "outputs": [
    {
     "name": "stdout",
     "output_type": "stream",
     "text": [
      "[12, 3, 4, 5, 54, 5, 5]\n"
     ]
    }
   ],
   "source": [
    "print(list(var))"
   ]
  },
  {
   "cell_type": "code",
   "execution_count": 34,
   "id": "7921bcd1-115d-4e1b-be74-7df16bbad58b",
   "metadata": {},
   "outputs": [
    {
     "data": {
      "text/plain": [
       "12"
      ]
     },
     "execution_count": 34,
     "metadata": {},
     "output_type": "execute_result"
    }
   ],
   "source": [
    "next(var)"
   ]
  },
  {
   "cell_type": "code",
   "execution_count": 35,
   "id": "01718fdb-90f0-44b1-ad25-030e922c98d0",
   "metadata": {},
   "outputs": [
    {
     "data": {
      "text/plain": [
       "3"
      ]
     },
     "execution_count": 35,
     "metadata": {},
     "output_type": "execute_result"
    }
   ],
   "source": [
    "next(var)"
   ]
  },
  {
   "cell_type": "code",
   "execution_count": 36,
   "id": "a1d54691-2102-4959-bfef-515d1d060faf",
   "metadata": {},
   "outputs": [
    {
     "data": {
      "text/plain": [
       "4"
      ]
     },
     "execution_count": 36,
     "metadata": {},
     "output_type": "execute_result"
    }
   ],
   "source": [
    "next(var)"
   ]
  },
  {
   "cell_type": "code",
   "execution_count": 37,
   "id": "197cab8d-292d-495a-9c09-94144a0137a2",
   "metadata": {},
   "outputs": [
    {
     "data": {
      "text/plain": [
       "5"
      ]
     },
     "execution_count": 37,
     "metadata": {},
     "output_type": "execute_result"
    }
   ],
   "source": [
    "next(var)"
   ]
  },
  {
   "cell_type": "code",
   "execution_count": 38,
   "id": "79fe4f31-6c94-4d32-b414-d74ff3301cdd",
   "metadata": {},
   "outputs": [
    {
     "data": {
      "text/plain": [
       "54"
      ]
     },
     "execution_count": 38,
     "metadata": {},
     "output_type": "execute_result"
    }
   ],
   "source": [
    "next(var)"
   ]
  },
  {
   "cell_type": "code",
   "execution_count": 39,
   "id": "c4f4e1c9-8cf3-4d37-9b47-2b73fcbc6488",
   "metadata": {},
   "outputs": [
    {
     "data": {
      "text/plain": [
       "5"
      ]
     },
     "execution_count": 39,
     "metadata": {},
     "output_type": "execute_result"
    }
   ],
   "source": [
    "next(var)"
   ]
  },
  {
   "cell_type": "code",
   "execution_count": 40,
   "id": "637c5049-8904-42a2-b9f9-42f673f1c5f3",
   "metadata": {},
   "outputs": [
    {
     "data": {
      "text/plain": [
       "5"
      ]
     },
     "execution_count": 40,
     "metadata": {},
     "output_type": "execute_result"
    }
   ],
   "source": [
    "next(var)"
   ]
  },
  {
   "cell_type": "code",
   "execution_count": 41,
   "id": "803dc9f8-72f9-438a-a31a-a8596a7570d3",
   "metadata": {},
   "outputs": [
    {
     "ename": "StopIteration",
     "evalue": "",
     "output_type": "error",
     "traceback": [
      "\u001b[1;31m---------------------------------------------------------------------------\u001b[0m",
      "\u001b[1;31mStopIteration\u001b[0m                             Traceback (most recent call last)",
      "Cell \u001b[1;32mIn[41], line 1\u001b[0m\n\u001b[1;32m----> 1\u001b[0m \u001b[38;5;28mnext\u001b[39m(var)\n",
      "\u001b[1;31mStopIteration\u001b[0m: "
     ]
    }
   ],
   "source": [
    "next(var)"
   ]
  },
  {
   "cell_type": "code",
   "execution_count": 42,
   "id": "fcd630c7-6875-46dd-a748-58599b64cf62",
   "metadata": {},
   "outputs": [
    {
     "data": {
      "text/plain": [
       "'this is my first loop'"
      ]
     },
     "execution_count": 42,
     "metadata": {},
     "output_type": "execute_result"
    }
   ],
   "source": [
    "str"
   ]
  },
  {
   "cell_type": "code",
   "execution_count": 43,
   "id": "ed7ab2fa-11ff-42cb-9518-eb6f32a3aab4",
   "metadata": {},
   "outputs": [
    {
     "name": "stdout",
     "output_type": "stream",
     "text": [
      "y\n"
     ]
    }
   ],
   "source": [
    "for i in str:\n",
    "    if i == \"y\":\n",
    "        print(i)"
   ]
  },
  {
   "cell_type": "code",
   "execution_count": 48,
   "id": "64352dad-273a-4a24-be56-5f9a1e8faa0b",
   "metadata": {},
   "outputs": [
    {
     "name": "stdout",
     "output_type": "stream",
     "text": [
      "y\n"
     ]
    }
   ],
   "source": [
    "for i in str:\n",
    "    if i == \"y\":\n",
    "        pass\n",
    "        print(i)"
   ]
  },
  {
   "cell_type": "code",
   "execution_count": 49,
   "id": "0fb49aa8-bed1-4f5e-b3f4-9c35d1d57ddd",
   "metadata": {},
   "outputs": [
    {
     "name": "stdout",
     "output_type": "stream",
     "text": [
      "t\n",
      "h\n",
      "i\n",
      "s\n",
      " \n",
      "i\n",
      "s\n",
      " \n",
      "m\n",
      "y\n",
      "y\n",
      " \n",
      "f\n",
      "i\n",
      "r\n",
      "s\n",
      "t\n",
      " \n",
      "l\n",
      "o\n",
      "o\n",
      "p\n"
     ]
    }
   ],
   "source": [
    "for i in str:\n",
    "    if i == \"y\":\n",
    "        pass\n",
    "        print(i)\n",
    "    print(i)    "
   ]
  },
  {
   "cell_type": "code",
   "execution_count": 50,
   "id": "63ebf01f-088e-4dce-9708-59c223eb1373",
   "metadata": {},
   "outputs": [
    {
     "name": "stdout",
     "output_type": "stream",
     "text": [
      "t\n",
      "h\n",
      "i\n",
      "s\n",
      " \n",
      "i\n",
      "s\n",
      " \n",
      "m\n"
     ]
    }
   ],
   "source": [
    "for i in str:\n",
    "    if i == \"y\":\n",
    "        break\n",
    "        print(i)\n",
    "    print(i)  "
   ]
  },
  {
   "cell_type": "code",
   "execution_count": 51,
   "id": "84ba7b34-2dc1-462f-b647-3955ee0ef4d4",
   "metadata": {},
   "outputs": [
    {
     "name": "stdout",
     "output_type": "stream",
     "text": [
      "t\n",
      "h\n",
      "i\n",
      "s\n",
      " \n",
      "i\n",
      "s\n",
      " \n",
      "m\n",
      " \n",
      "f\n",
      "i\n",
      "r\n",
      "s\n",
      "t\n",
      " \n",
      "l\n",
      "o\n",
      "o\n",
      "p\n"
     ]
    }
   ],
   "source": [
    "for i in str:\n",
    "    if i == \"y\":\n",
    "        continue\n",
    "        print(i)\n",
    "    print(i)  "
   ]
  },
  {
   "cell_type": "code",
   "execution_count": 52,
   "id": "d2e8358a-894a-432f-a825-e3d6d1b7387b",
   "metadata": {},
   "outputs": [
    {
     "data": {
      "text/plain": [
       "[12, 3, 4, 5, 54, 5, 5]"
      ]
     },
     "execution_count": 52,
     "metadata": {},
     "output_type": "execute_result"
    }
   ],
   "source": [
    "l1"
   ]
  },
  {
   "cell_type": "code",
   "execution_count": 53,
   "id": "77450fb9-07bd-47c5-b3ea-5e2ae454d24c",
   "metadata": {},
   "outputs": [
    {
     "name": "stdout",
     "output_type": "stream",
     "text": [
      "3\n",
      "4\n",
      "5\n",
      "5\n",
      "5\n"
     ]
    }
   ],
   "source": [
    "for i in l1:\n",
    "    if i < 10:\n",
    "        print(i)"
   ]
  },
  {
   "cell_type": "code",
   "execution_count": 54,
   "id": "00c144a6-3725-424d-aff8-4aa42afd0d20",
   "metadata": {},
   "outputs": [],
   "source": [
    "l2 = {\"jan\", 34, True, (1,2,3), 33}"
   ]
  },
  {
   "cell_type": "code",
   "execution_count": 57,
   "id": "983dda8c-821a-42c1-9097-78262b484f97",
   "metadata": {},
   "outputs": [
    {
     "name": "stdout",
     "output_type": "stream",
     "text": [
      "34\n",
      "33\n",
      "1\n",
      "2\n",
      "3\n"
     ]
    }
   ],
   "source": [
    "for i in l2:\n",
    "    if type(i) == int:\n",
    "        print(i)\n",
    "    if type(i) == tuple:\n",
    "        for j in i:\n",
    "            if type(j)==int:\n",
    "                print(j)"
   ]
  },
  {
   "cell_type": "code",
   "execution_count": 58,
   "id": "bbd1bedd-6375-417e-bc76-36f695a9de28",
   "metadata": {},
   "outputs": [
    {
     "data": {
      "text/plain": [
       "{'jan': 31, 'feb': 28, 'march': 31}"
      ]
     },
     "execution_count": 58,
     "metadata": {},
     "output_type": "execute_result"
    }
   ],
   "source": [
    "d1"
   ]
  },
  {
   "cell_type": "code",
   "execution_count": 59,
   "id": "035bcd28-900e-4337-9b2e-e72406c5ab1e",
   "metadata": {},
   "outputs": [
    {
     "data": {
      "text/plain": [
       "31"
      ]
     },
     "execution_count": 59,
     "metadata": {},
     "output_type": "execute_result"
    }
   ],
   "source": [
    "d1[\"jan\"]"
   ]
  },
  {
   "cell_type": "code",
   "execution_count": 60,
   "id": "f2465a54-0c71-4fb0-88e1-8177673cdeda",
   "metadata": {},
   "outputs": [
    {
     "name": "stdout",
     "output_type": "stream",
     "text": [
      "jan : 31\n",
      "feb : 28\n",
      "march : 31\n"
     ]
    }
   ],
   "source": [
    "for i in d1 :\n",
    "    print(i,\":\" ,  d1[i])"
   ]
  },
  {
   "cell_type": "code",
   "execution_count": 61,
   "id": "30eb59e5-0aaf-49be-99a9-a3310b2a22bd",
   "metadata": {},
   "outputs": [
    {
     "name": "stdout",
     "output_type": "stream",
     "text": [
      "DA \n",
      "\n",
      "DA DA \n",
      "\n",
      "DA DA DA \n",
      "\n",
      "DA DA DA DA \n",
      "\n"
     ]
    }
   ],
   "source": [
    "n = 4\n",
    "\n",
    "for i in range(n) :\n",
    "    for j in range(0, i+1) : \n",
    "        print(\"DA\" , end = \" \")\n",
    "    print(\"\\n\")"
   ]
  },
  {
   "cell_type": "code",
   "execution_count": 63,
   "id": "a1ee31db-ff6d-4c2c-ac89-30b8c214b257",
   "metadata": {},
   "outputs": [
    {
     "name": "stdout",
     "output_type": "stream",
     "text": [
      "DA \n",
      "DA DA \n",
      "DA DA DA \n",
      "DA DA DA DA \n"
     ]
    }
   ],
   "source": [
    "n = 4\n",
    "\n",
    "for i in range(n) :\n",
    "    for j in range(0, i+1) : \n",
    "        print(\"DA\" , end = \" \")\n",
    "    print()"
   ]
  },
  {
   "cell_type": "code",
   "execution_count": 64,
   "id": "4627c09a-f7f5-46a0-b6fa-52bff714e9eb",
   "metadata": {},
   "outputs": [
    {
     "name": "stdin",
     "output_type": "stream",
     "text": [
      "Enter the name :  rahul\n"
     ]
    },
    {
     "name": "stdout",
     "output_type": "stream",
     "text": [
      "\n",
      "You entered  rahul\n"
     ]
    },
    {
     "name": "stdin",
     "output_type": "stream",
     "text": [
      "Enter the name :  vinay\n"
     ]
    },
    {
     "name": "stdout",
     "output_type": "stream",
     "text": [
      "\n",
      "You entered  vinay\n"
     ]
    },
    {
     "name": "stdin",
     "output_type": "stream",
     "text": [
      "Enter the name :  rohit\n"
     ]
    },
    {
     "name": "stdout",
     "output_type": "stream",
     "text": [
      "\n",
      "You entered  rohit\n"
     ]
    }
   ],
   "source": [
    "count = 3\n",
    "\n",
    "for i in range(count):\n",
    "    name = input(\"Enter the name : \")\n",
    "    print()\n",
    "    print('You entered ', name)"
   ]
  },
  {
   "cell_type": "code",
   "execution_count": 65,
   "id": "5a2a74dd-fe11-403f-bb2b-27735b3d6a87",
   "metadata": {},
   "outputs": [
    {
     "name": "stdin",
     "output_type": "stream",
     "text": [
      "Enter the name (use 'Quit' to stop : amit\n"
     ]
    },
    {
     "name": "stdout",
     "output_type": "stream",
     "text": [
      "You entered  amit\n"
     ]
    },
    {
     "name": "stdin",
     "output_type": "stream",
     "text": [
      "Enter the name (use 'Quit' to stop : rahul\n"
     ]
    },
    {
     "name": "stdout",
     "output_type": "stream",
     "text": [
      "You entered  rahul\n"
     ]
    },
    {
     "name": "stdin",
     "output_type": "stream",
     "text": [
      "Enter the name (use 'Quit' to stop : quit\n"
     ]
    },
    {
     "name": "stdout",
     "output_type": "stream",
     "text": [
      "You entered  quit\n"
     ]
    },
    {
     "name": "stdin",
     "output_type": "stream",
     "text": [
      "Enter the name (use 'Quit' to stop : Quit\n"
     ]
    }
   ],
   "source": [
    "name = \"\"\n",
    "\n",
    "while name != \"Quit\":\n",
    "    name = input(\"Enter the name (use 'Quit' to stop :\")\n",
    "    if name != \"Quit\":\n",
    "        print('You entered ', name) "
   ]
  },
  {
   "cell_type": "code",
   "execution_count": 69,
   "id": "e674ae0a-6df0-4b7f-9582-468a3e8ef819",
   "metadata": {},
   "outputs": [
    {
     "name": "stdout",
     "output_type": "stream",
     "text": [
      "1\n",
      "2\n",
      "3\n",
      "4\n",
      "4\n",
      "5\n",
      "5\n",
      "6\n",
      "6\n",
      "7\n"
     ]
    }
   ],
   "source": [
    "# Example\n",
    "i = 0           #iteration variable initialized\n",
    "while i < 7:    # condition is evaluated \n",
    "    if i > 3 :   \n",
    "        print(i)    # block statements are executed until the condition is true and iteration variable is less that 3\n",
    "    i = i + 1\n",
    "    print(i)        #1, 2, 3, 4, 4, 5, 5, 6, 6, 7"
   ]
  },
  {
   "cell_type": "code",
   "execution_count": 70,
   "id": "6ff957e3-44ab-4997-97ba-25b39d68668b",
   "metadata": {},
   "outputs": [
    {
     "name": "stdout",
     "output_type": "stream",
     "text": [
      "2\n",
      "3\n",
      "4\n"
     ]
    }
   ],
   "source": [
    "# Example\n",
    "i = 1           #iteration variable initialized\n",
    "while i < 7:    # condition is evaluated \n",
    "    if i > 3 :   \n",
    "        break     # no more further execution of the loop, once i is greater than 4 \n",
    "                        # block statements are executed until the condition is true and iteration variable is less that 3\n",
    "    i = i + 1\n",
    "    print(i)    #1, 2, 3, "
   ]
  },
  {
   "cell_type": "code",
   "execution_count": 71,
   "id": "88e63a40-84c8-42bf-82f8-994296b30137",
   "metadata": {},
   "outputs": [
    {
     "name": "stdout",
     "output_type": "stream",
     "text": [
      "2\n",
      "3\n",
      "4\n",
      "5\n",
      "6\n",
      "7\n"
     ]
    }
   ],
   "source": [
    "# Example\n",
    "i = 1           #iteration variable initialized\n",
    "while i < 7:    # condition is evaluated \n",
    "    if i > 3 :   \n",
    "        pass     # no more further execution of the loop, once i is greater than 4 \n",
    "                        # block statements are executed until the condition is true and iteration variable is less that 3\n",
    "    i = i + 1\n",
    "    print(i)    #1, 2, 3, "
   ]
  },
  {
   "cell_type": "code",
   "execution_count": 74,
   "id": "4fcee6f3-177e-483b-bb10-6b34e7fec2ef",
   "metadata": {},
   "outputs": [
    {
     "name": "stdout",
     "output_type": "stream",
     "text": [
      "2\n",
      "3\n",
      "4\n"
     ]
    },
    {
     "ename": "KeyboardInterrupt",
     "evalue": "",
     "output_type": "error",
     "traceback": [
      "\u001b[1;31m---------------------------------------------------------------------------\u001b[0m",
      "\u001b[1;31mKeyboardInterrupt\u001b[0m                         Traceback (most recent call last)",
      "Cell \u001b[1;32mIn[74], line 5\u001b[0m\n\u001b[0;32m      3\u001b[0m \u001b[38;5;28;01mwhile\u001b[39;00m i \u001b[38;5;241m<\u001b[39m \u001b[38;5;241m7\u001b[39m:    \u001b[38;5;66;03m# condition is evaluated \u001b[39;00m\n\u001b[0;32m      4\u001b[0m     \u001b[38;5;28;01mif\u001b[39;00m i \u001b[38;5;241m>\u001b[39m \u001b[38;5;241m3\u001b[39m :   \n\u001b[1;32m----> 5\u001b[0m         \u001b[38;5;28;01mcontinue\u001b[39;00m     \u001b[38;5;66;03m# no more further execution of the loop, once i is greater than 4 \u001b[39;00m\n\u001b[0;32m      6\u001b[0m                         \u001b[38;5;66;03m# block statements are executed until the condition is true and iteration variable is less that 3\u001b[39;00m\n\u001b[0;32m      7\u001b[0m     i \u001b[38;5;241m=\u001b[39m i \u001b[38;5;241m+\u001b[39m \u001b[38;5;241m1\u001b[39m\n",
      "\u001b[1;31mKeyboardInterrupt\u001b[0m: "
     ]
    }
   ],
   "source": [
    "# Example\n",
    "i = 1           #iteration variable initialized\n",
    "while i < 7:    # condition is evaluated \n",
    "    if i > 3 :   \n",
    "        continue     # no more further execution of the loop, once i is greater than 4 \n",
    "                        # block statements are executed until the condition is true and iteration variable is less that 3\n",
    "    i = i + 1\n",
    "    print(i)    #1, 2, 3, "
   ]
  },
  {
   "cell_type": "code",
   "execution_count": 73,
   "id": "86b597b9-b4c0-4657-aa2e-a747b2646b97",
   "metadata": {},
   "outputs": [
    {
     "name": "stdin",
     "output_type": "stream",
     "text": [
      " 6\n"
     ]
    },
    {
     "data": {
      "text/plain": [
       "'6'"
      ]
     },
     "execution_count": 73,
     "metadata": {},
     "output_type": "execute_result"
    }
   ],
   "source": [
    "input()"
   ]
  },
  {
   "cell_type": "code",
   "execution_count": 75,
   "id": "67a26dac-508b-46e5-8059-b9558bc9dfb1",
   "metadata": {},
   "outputs": [
    {
     "name": "stdout",
     "output_type": "stream",
     "text": [
      "0 J\n",
      "1 a\n",
      "2 s\n",
      "3 m\n",
      "4 i\n",
      "5 n\n",
      "6  \n",
      "7 s\n",
      "8 h\n",
      "9 e\n",
      "10 i\n",
      "11 k\n",
      "12 h\n"
     ]
    }
   ],
   "source": [
    "s = \"Jasmin sheikh\"\n",
    "for i in range(len(s)) : \n",
    "    print(i , s[i])"
   ]
  },
  {
   "cell_type": "code",
   "execution_count": 79,
   "id": "0f28facf-55e5-4de7-b798-c725de32cebc",
   "metadata": {},
   "outputs": [
    {
     "name": "stdout",
     "output_type": "stream",
     "text": [
      "5 n\n",
      "4 i\n",
      "3 m\n",
      "2 s\n",
      "1 a\n",
      "0 J\n"
     ]
    }
   ],
   "source": [
    "S = \"Jasmin\"\n",
    "for i in range(len(S)-1 , -1, -1):\n",
    "    print(i , S[i])"
   ]
  },
  {
   "cell_type": "code",
   "execution_count": 78,
   "id": "ece74a69-1d1d-4fb4-abdc-b1f1a8e853f6",
   "metadata": {},
   "outputs": [
    {
     "data": {
      "text/plain": [
       "6"
      ]
     },
     "execution_count": 78,
     "metadata": {},
     "output_type": "execute_result"
    }
   ],
   "source": [
    "len(S)"
   ]
  },
  {
   "cell_type": "code",
   "execution_count": 81,
   "id": "bccaadba-321d-426d-b46a-471021d22280",
   "metadata": {},
   "outputs": [],
   "source": [
    "d = { 1:[1,(1,2)], 2:(1,[1,5,3]), 3:[1,{4:(5,6)}]}"
   ]
  },
  {
   "cell_type": "code",
   "execution_count": 88,
   "id": "e13ccbe6-fea1-4c7a-982a-2919ca3dcf33",
   "metadata": {},
   "outputs": [
    {
     "name": "stdout",
     "output_type": "stream",
     "text": [
      "(1, [1, (1, 2)])     <class 'tuple'>\n",
      "(2, (1, [1, 5, 3]))     <class 'tuple'>\n",
      "(3, [1, {4: (5, 6)}])     <class 'tuple'>\n"
     ]
    }
   ],
   "source": [
    "for i in d.items():\n",
    "    print(i, \"   \", type(i)) "
   ]
  },
  {
   "cell_type": "code",
   "execution_count": 87,
   "id": "b76477ff-b896-4112-8a82-7dea3958da59",
   "metadata": {},
   "outputs": [
    {
     "name": "stdout",
     "output_type": "stream",
     "text": [
      "(1, [1, (1, 2)])   <class 'tuple'> <class 'int'>\n",
      "(2, (1, [1, 5, 3]))   <class 'tuple'> <class 'int'>\n",
      "(3, [1, {4: (5, 6)}])   <class 'tuple'> <class 'int'>\n"
     ]
    }
   ],
   "source": [
    "for i in d.items():\n",
    "    print(i, \" \", type(i), type(i[0])) "
   ]
  },
  {
   "cell_type": "code",
   "execution_count": 89,
   "id": "6874b237-0a5e-4704-93cd-1c6cfca74749",
   "metadata": {},
   "outputs": [
    {
     "name": "stdout",
     "output_type": "stream",
     "text": [
      "(1, [1, (1, 2)])   <class 'tuple'> <class 'list'>\n",
      "(2, (1, [1, 5, 3]))   <class 'tuple'> <class 'tuple'>\n",
      "(3, [1, {4: (5, 6)}])   <class 'tuple'> <class 'list'>\n"
     ]
    }
   ],
   "source": [
    "for i in d.items():\n",
    "    print(i, \" \", type(i), type(i[1])) "
   ]
  },
  {
   "cell_type": "code",
   "execution_count": 91,
   "id": "8cbef160-05ee-4ab7-a0e0-93f757ad79ad",
   "metadata": {},
   "outputs": [
    {
     "name": "stdout",
     "output_type": "stream",
     "text": [
      "(1, [1, (1, 2)])\n",
      "(2, (1, [1, 5, 3]))\n",
      "(3, [1, {4: (5, 6)}])\n",
      "<class 'tuple'> (5, 6)\n"
     ]
    }
   ],
   "source": [
    "d = { 1:[1,(1,2)], 2:(1,[1,5,3]), 3:[1,{4:(5,6)}]}\n",
    "\n",
    "for i in d.items():\n",
    "    print(i)\n",
    "    if type(i[1]) == list:\n",
    "        if type(i[1][1]) == dict:\n",
    "            print(type(i[1][1][4]), i[1][1][4])  "
   ]
  },
  {
   "cell_type": "code",
   "execution_count": 1,
   "id": "c76bc702-b830-4b79-9515-f91602761085",
   "metadata": {},
   "outputs": [],
   "source": [
    "d4 = {1: ([[\"a\",\"b\"],1,2],\"Nikita\",\"mayuri\"), 2: ([[2,\"b\"],\"k1\",2000],\"mayuri\",\"nikita\")}"
   ]
  },
  {
   "cell_type": "code",
   "execution_count": 2,
   "id": "803f6d34-af10-433e-8c7c-8e0401fc7618",
   "metadata": {},
   "outputs": [
    {
     "name": "stdout",
     "output_type": "stream",
     "text": [
      "Nikita\n",
      "mayuri\n",
      "mayuri\n",
      "nikita\n"
     ]
    }
   ],
   "source": [
    "for i in d4.values():\n",
    "    for j in i:\n",
    "        if type(j) == str: \n",
    "            print(j)"
   ]
  },
  {
   "cell_type": "code",
   "execution_count": null,
   "id": "9203109f-2eba-46fe-a80d-b99426ae6245",
   "metadata": {},
   "outputs": [],
   "source": []
  }
 ],
 "metadata": {
  "kernelspec": {
   "display_name": "Python 3 (ipykernel)",
   "language": "python",
   "name": "python3"
  },
  "language_info": {
   "codemirror_mode": {
    "name": "ipython",
    "version": 3
   },
   "file_extension": ".py",
   "mimetype": "text/x-python",
   "name": "python",
   "nbconvert_exporter": "python",
   "pygments_lexer": "ipython3",
   "version": "3.11.7"
  }
 },
 "nbformat": 4,
 "nbformat_minor": 5
}
