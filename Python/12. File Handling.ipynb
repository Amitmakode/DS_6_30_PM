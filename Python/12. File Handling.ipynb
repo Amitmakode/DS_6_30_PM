{
 "cells": [
  {
   "cell_type": "code",
   "execution_count": null,
   "id": "216090dd-1fc3-4f89-b9e8-1da03da3c811",
   "metadata": {},
   "outputs": [],
   "source": [
    "open()"
   ]
  },
  {
   "cell_type": "code",
   "execution_count": null,
   "id": "b52a7920-d509-491d-84bb-92b28dd77254",
   "metadata": {},
   "outputs": [],
   "source": [
    "x,w,r,r+,w+,a"
   ]
  },
  {
   "cell_type": "code",
   "execution_count": 1,
   "id": "9fa39963-2df5-44c8-bd7c-837d89815ecc",
   "metadata": {},
   "outputs": [
    {
     "ename": "FileNotFoundError",
     "evalue": "[Errno 2] No such file or directory: 'newfile.txt'",
     "output_type": "error",
     "traceback": [
      "\u001b[1;31m---------------------------------------------------------------------------\u001b[0m",
      "\u001b[1;31mFileNotFoundError\u001b[0m                         Traceback (most recent call last)",
      "Cell \u001b[1;32mIn[1], line 1\u001b[0m\n\u001b[1;32m----> 1\u001b[0m \u001b[38;5;28mopen\u001b[39m(\u001b[38;5;124m\"\u001b[39m\u001b[38;5;124mnewfile.txt\u001b[39m\u001b[38;5;124m\"\u001b[39m, \u001b[38;5;124m\"\u001b[39m\u001b[38;5;124mr\u001b[39m\u001b[38;5;124m\"\u001b[39m)\n",
      "File \u001b[1;32m~\\anaconda3\\Lib\\site-packages\\IPython\\core\\interactiveshell.py:310\u001b[0m, in \u001b[0;36m_modified_open\u001b[1;34m(file, *args, **kwargs)\u001b[0m\n\u001b[0;32m    303\u001b[0m \u001b[38;5;28;01mif\u001b[39;00m file \u001b[38;5;129;01min\u001b[39;00m {\u001b[38;5;241m0\u001b[39m, \u001b[38;5;241m1\u001b[39m, \u001b[38;5;241m2\u001b[39m}:\n\u001b[0;32m    304\u001b[0m     \u001b[38;5;28;01mraise\u001b[39;00m \u001b[38;5;167;01mValueError\u001b[39;00m(\n\u001b[0;32m    305\u001b[0m         \u001b[38;5;124mf\u001b[39m\u001b[38;5;124m\"\u001b[39m\u001b[38;5;124mIPython won\u001b[39m\u001b[38;5;124m'\u001b[39m\u001b[38;5;124mt let you open fd=\u001b[39m\u001b[38;5;132;01m{\u001b[39;00mfile\u001b[38;5;132;01m}\u001b[39;00m\u001b[38;5;124m by default \u001b[39m\u001b[38;5;124m\"\u001b[39m\n\u001b[0;32m    306\u001b[0m         \u001b[38;5;124m\"\u001b[39m\u001b[38;5;124mas it is likely to crash IPython. If you know what you are doing, \u001b[39m\u001b[38;5;124m\"\u001b[39m\n\u001b[0;32m    307\u001b[0m         \u001b[38;5;124m\"\u001b[39m\u001b[38;5;124myou can use builtins\u001b[39m\u001b[38;5;124m'\u001b[39m\u001b[38;5;124m open.\u001b[39m\u001b[38;5;124m\"\u001b[39m\n\u001b[0;32m    308\u001b[0m     )\n\u001b[1;32m--> 310\u001b[0m \u001b[38;5;28;01mreturn\u001b[39;00m io_open(file, \u001b[38;5;241m*\u001b[39margs, \u001b[38;5;241m*\u001b[39m\u001b[38;5;241m*\u001b[39mkwargs)\n",
      "\u001b[1;31mFileNotFoundError\u001b[0m: [Errno 2] No such file or directory: 'newfile.txt'"
     ]
    }
   ],
   "source": [
    "open(\"newfile.txt\", \"r\")"
   ]
  },
  {
   "cell_type": "code",
   "execution_count": 3,
   "id": "db56df21-7ad1-4eef-a35c-0abe3c51d041",
   "metadata": {},
   "outputs": [
    {
     "ename": "FileExistsError",
     "evalue": "[Errno 17] File exists: 'text1.txt'",
     "output_type": "error",
     "traceback": [
      "\u001b[1;31m---------------------------------------------------------------------------\u001b[0m",
      "\u001b[1;31mFileExistsError\u001b[0m                           Traceback (most recent call last)",
      "Cell \u001b[1;32mIn[3], line 1\u001b[0m\n\u001b[1;32m----> 1\u001b[0m f  \u001b[38;5;241m=\u001b[39m\u001b[38;5;28mopen\u001b[39m(\u001b[38;5;124m\"\u001b[39m\u001b[38;5;124mtext1.txt\u001b[39m\u001b[38;5;124m\"\u001b[39m, \u001b[38;5;124m\"\u001b[39m\u001b[38;5;124mx\u001b[39m\u001b[38;5;124m\"\u001b[39m)\n",
      "File \u001b[1;32m~\\anaconda3\\Lib\\site-packages\\IPython\\core\\interactiveshell.py:310\u001b[0m, in \u001b[0;36m_modified_open\u001b[1;34m(file, *args, **kwargs)\u001b[0m\n\u001b[0;32m    303\u001b[0m \u001b[38;5;28;01mif\u001b[39;00m file \u001b[38;5;129;01min\u001b[39;00m {\u001b[38;5;241m0\u001b[39m, \u001b[38;5;241m1\u001b[39m, \u001b[38;5;241m2\u001b[39m}:\n\u001b[0;32m    304\u001b[0m     \u001b[38;5;28;01mraise\u001b[39;00m \u001b[38;5;167;01mValueError\u001b[39;00m(\n\u001b[0;32m    305\u001b[0m         \u001b[38;5;124mf\u001b[39m\u001b[38;5;124m\"\u001b[39m\u001b[38;5;124mIPython won\u001b[39m\u001b[38;5;124m'\u001b[39m\u001b[38;5;124mt let you open fd=\u001b[39m\u001b[38;5;132;01m{\u001b[39;00mfile\u001b[38;5;132;01m}\u001b[39;00m\u001b[38;5;124m by default \u001b[39m\u001b[38;5;124m\"\u001b[39m\n\u001b[0;32m    306\u001b[0m         \u001b[38;5;124m\"\u001b[39m\u001b[38;5;124mas it is likely to crash IPython. If you know what you are doing, \u001b[39m\u001b[38;5;124m\"\u001b[39m\n\u001b[0;32m    307\u001b[0m         \u001b[38;5;124m\"\u001b[39m\u001b[38;5;124myou can use builtins\u001b[39m\u001b[38;5;124m'\u001b[39m\u001b[38;5;124m open.\u001b[39m\u001b[38;5;124m\"\u001b[39m\n\u001b[0;32m    308\u001b[0m     )\n\u001b[1;32m--> 310\u001b[0m \u001b[38;5;28;01mreturn\u001b[39;00m io_open(file, \u001b[38;5;241m*\u001b[39margs, \u001b[38;5;241m*\u001b[39m\u001b[38;5;241m*\u001b[39mkwargs)\n",
      "\u001b[1;31mFileExistsError\u001b[0m: [Errno 17] File exists: 'text1.txt'"
     ]
    }
   ],
   "source": [
    "f  = open(\"text1.txt\", \"x\")"
   ]
  },
  {
   "cell_type": "code",
   "execution_count": 5,
   "id": "3274dfd7-c842-4c2b-ad48-53d0542730ad",
   "metadata": {},
   "outputs": [],
   "source": [
    "f =open(\"test2.txt\", \"w\")"
   ]
  },
  {
   "cell_type": "code",
   "execution_count": 6,
   "id": "db6420f5-c4b5-4356-84ba-8c4f158eee00",
   "metadata": {},
   "outputs": [
    {
     "data": {
      "text/plain": [
       "27"
      ]
     },
     "execution_count": 6,
     "metadata": {},
     "output_type": "execute_result"
    }
   ],
   "source": [
    "f.write(\"you can use builtins' open.\")"
   ]
  },
  {
   "cell_type": "code",
   "execution_count": 7,
   "id": "27b443a8-6128-48f6-a8e6-10cba043e567",
   "metadata": {},
   "outputs": [],
   "source": [
    "f.close()"
   ]
  },
  {
   "cell_type": "code",
   "execution_count": 9,
   "id": "03c08684-a45d-4542-a821-4dffe675333d",
   "metadata": {},
   "outputs": [],
   "source": [
    "f =open(\"test2.txt\", \"r\")"
   ]
  },
  {
   "cell_type": "code",
   "execution_count": 10,
   "id": "0bf22fe8-2d47-43df-af35-62008066c6ed",
   "metadata": {},
   "outputs": [
    {
     "data": {
      "text/plain": [
       "\"you can use builtins' open.\""
      ]
     },
     "execution_count": 10,
     "metadata": {},
     "output_type": "execute_result"
    }
   ],
   "source": [
    "f.read()"
   ]
  },
  {
   "cell_type": "code",
   "execution_count": 11,
   "id": "2d38fb8b-f8ba-473a-be01-6318a4c6e332",
   "metadata": {},
   "outputs": [
    {
     "ename": "UnsupportedOperation",
     "evalue": "not writable",
     "output_type": "error",
     "traceback": [
      "\u001b[1;31m---------------------------------------------------------------------------\u001b[0m",
      "\u001b[1;31mUnsupportedOperation\u001b[0m                      Traceback (most recent call last)",
      "Cell \u001b[1;32mIn[11], line 1\u001b[0m\n\u001b[1;32m----> 1\u001b[0m f\u001b[38;5;241m.\u001b[39mwrite(\u001b[38;5;124m\"\u001b[39m\u001b[38;5;124mhello\u001b[39m\u001b[38;5;124m\"\u001b[39m)\n",
      "\u001b[1;31mUnsupportedOperation\u001b[0m: not writable"
     ]
    }
   ],
   "source": [
    "f.write(\"hello\")"
   ]
  },
  {
   "cell_type": "code",
   "execution_count": 12,
   "id": "9c28a150-7106-4e77-9fe9-8a78b6b3143d",
   "metadata": {},
   "outputs": [],
   "source": [
    "f.close()"
   ]
  },
  {
   "cell_type": "code",
   "execution_count": 14,
   "id": "edf1876e-b3bf-4419-a25f-f8b187bcae7e",
   "metadata": {},
   "outputs": [],
   "source": [
    "f = open(\"test2.txt\", \"r+\")"
   ]
  },
  {
   "cell_type": "code",
   "execution_count": 15,
   "id": "1189c81e-c0fd-4835-8e65-988b99f7bdc8",
   "metadata": {},
   "outputs": [
    {
     "data": {
      "text/plain": [
       "\"you can use builtins' open.\""
      ]
     },
     "execution_count": 15,
     "metadata": {},
     "output_type": "execute_result"
    }
   ],
   "source": [
    "f.read()"
   ]
  },
  {
   "cell_type": "code",
   "execution_count": 16,
   "id": "2cc5fe06-320e-4f98-acac-fe5e04786e66",
   "metadata": {},
   "outputs": [
    {
     "data": {
      "text/plain": [
       "34"
      ]
     },
     "execution_count": 16,
     "metadata": {},
     "output_type": "execute_result"
    }
   ],
   "source": [
    "f.write(\" Traceback (most recent call last)\")"
   ]
  },
  {
   "cell_type": "code",
   "execution_count": 17,
   "id": "e39d33e8-b334-4007-944a-f79939357d2b",
   "metadata": {},
   "outputs": [],
   "source": [
    "f.close()"
   ]
  },
  {
   "cell_type": "code",
   "execution_count": 19,
   "id": "873c2b60-c841-44a3-b1dd-13964e9330a4",
   "metadata": {},
   "outputs": [],
   "source": [
    "f =open(\"test2.txt\", \"r+\")"
   ]
  },
  {
   "cell_type": "code",
   "execution_count": 20,
   "id": "9982ad09-ce9e-4d6e-9e19-7f0258ddfef2",
   "metadata": {},
   "outputs": [
    {
     "data": {
      "text/plain": [
       "16"
      ]
     },
     "execution_count": 20,
     "metadata": {},
     "output_type": "execute_result"
    }
   ],
   "source": [
    "f.write(\"hello pyhton    \")"
   ]
  },
  {
   "cell_type": "code",
   "execution_count": 21,
   "id": "f19e68f2-6f08-40b8-80af-5b0ea3025366",
   "metadata": {},
   "outputs": [],
   "source": [
    "f.close()"
   ]
  },
  {
   "cell_type": "code",
   "execution_count": 23,
   "id": "ec06bdcd-84cb-408d-b8b6-6fb35984b812",
   "metadata": {},
   "outputs": [],
   "source": [
    "f= open(\"test2.txt\", \"a\")"
   ]
  },
  {
   "cell_type": "code",
   "execution_count": 24,
   "id": "560f5d6b-9187-4223-85b4-26f88d118a82",
   "metadata": {},
   "outputs": [
    {
     "data": {
      "text/plain": [
       "36"
      ]
     },
     "execution_count": 24,
     "metadata": {},
     "output_type": "execute_result"
    }
   ],
   "source": [
    "f.write(\"  UnsupportedOperation: not writable\")"
   ]
  },
  {
   "cell_type": "code",
   "execution_count": 25,
   "id": "d8be3a80-e5ad-4649-a0eb-08936e47adbc",
   "metadata": {},
   "outputs": [],
   "source": [
    "f.close()"
   ]
  },
  {
   "cell_type": "code",
   "execution_count": 27,
   "id": "d21c0d15-16ca-4cc2-b524-d90671e4d916",
   "metadata": {},
   "outputs": [],
   "source": [
    "f = open(\"test2.txt\", \"r+\")"
   ]
  },
  {
   "cell_type": "code",
   "execution_count": 28,
   "id": "cd9d7962-f005-4095-9ea6-6effe837ad4d",
   "metadata": {},
   "outputs": [
    {
     "data": {
      "text/plain": [
       "15"
      ]
     },
     "execution_count": 28,
     "metadata": {},
     "output_type": "execute_result"
    }
   ],
   "source": [
    "f.seek(15)"
   ]
  },
  {
   "cell_type": "code",
   "execution_count": 29,
   "id": "9c996991-b799-4d92-a056-577b823139d6",
   "metadata": {},
   "outputs": [
    {
     "data": {
      "text/plain": [
       "3"
      ]
     },
     "execution_count": 29,
     "metadata": {},
     "output_type": "execute_result"
    }
   ],
   "source": [
    "f.write(\"C++\")"
   ]
  },
  {
   "cell_type": "code",
   "execution_count": 30,
   "id": "02e7a659-3366-426b-a3a1-1f7250f9d8fe",
   "metadata": {},
   "outputs": [],
   "source": [
    "f.close()"
   ]
  },
  {
   "cell_type": "code",
   "execution_count": 31,
   "id": "5deaef6a-44c4-4414-92b5-0f3f51668252",
   "metadata": {},
   "outputs": [],
   "source": [
    "f = open(\"test2.txt\", \"r+\")"
   ]
  },
  {
   "cell_type": "code",
   "execution_count": 32,
   "id": "ff296657-2e7b-4e9e-98e8-82dcb3437921",
   "metadata": {},
   "outputs": [
    {
     "data": {
      "text/plain": [
       "0"
      ]
     },
     "execution_count": 32,
     "metadata": {},
     "output_type": "execute_result"
    }
   ],
   "source": [
    "f.tell()"
   ]
  },
  {
   "cell_type": "code",
   "execution_count": 33,
   "id": "a8ced5be-f2a4-4275-9a6a-23e57652d0ea",
   "metadata": {},
   "outputs": [],
   "source": [
    "f.close()"
   ]
  },
  {
   "cell_type": "code",
   "execution_count": 34,
   "id": "51b0842a-4e13-4081-a51e-88ba6d47e5ee",
   "metadata": {},
   "outputs": [
    {
     "data": {
      "text/plain": [
       "'r+'"
      ]
     },
     "execution_count": 34,
     "metadata": {},
     "output_type": "execute_result"
    }
   ],
   "source": [
    "f.mode"
   ]
  },
  {
   "cell_type": "code",
   "execution_count": 35,
   "id": "b5605ec9-7a8b-4e55-a9bc-fa0d03256716",
   "metadata": {},
   "outputs": [],
   "source": [
    "f = open(\"textfile.txt\", \"w\")"
   ]
  },
  {
   "cell_type": "code",
   "execution_count": 36,
   "id": "c546e727-a277-40d3-ac2a-6ab574aca11c",
   "metadata": {},
   "outputs": [
    {
     "data": {
      "text/plain": [
       "238"
      ]
     },
     "execution_count": 36,
     "metadata": {},
     "output_type": "execute_result"
    }
   ],
   "source": [
    "f.write(\"\"\"This “Date and Time” exercise aims to help Python \n",
    "\\ndevelopers learn and practice frequently occurring \n",
    "\\nDateTime-related problems. Here,\n",
    "\\nI am providing 10 date and time coding problems to \n",
    "\\nsolve to help you brush up your coding skills.\"\"\")"
   ]
  },
  {
   "cell_type": "code",
   "execution_count": 37,
   "id": "bab1164b-4bff-4318-a21b-f96214fa8d8d",
   "metadata": {},
   "outputs": [],
   "source": [
    "f.close()"
   ]
  },
  {
   "cell_type": "code",
   "execution_count": 38,
   "id": "61a0ce2e-4f82-4a0f-9af8-51e0b6138596",
   "metadata": {},
   "outputs": [],
   "source": [
    "f = open(\"textfile.txt\", \"r+\")"
   ]
  },
  {
   "cell_type": "code",
   "execution_count": 39,
   "id": "8217d9f4-2455-480a-af82-27f03e3546df",
   "metadata": {},
   "outputs": [
    {
     "data": {
      "text/plain": [
       "'This “Date and Time” exercise aims to help Python \\n'"
      ]
     },
     "execution_count": 39,
     "metadata": {},
     "output_type": "execute_result"
    }
   ],
   "source": [
    "f.readline()"
   ]
  },
  {
   "cell_type": "code",
   "execution_count": 40,
   "id": "6bb4ddeb-0bf9-464d-b64c-a4763608ef9f",
   "metadata": {},
   "outputs": [
    {
     "data": {
      "text/plain": [
       "['\\n',\n",
       " 'developers learn and practice frequently occurring \\n',\n",
       " '\\n',\n",
       " 'DateTime-related problems. Here,\\n',\n",
       " '\\n',\n",
       " 'I am providing 10 date and time coding problems to \\n',\n",
       " '\\n',\n",
       " 'solve to help you brush up your coding skills.']"
      ]
     },
     "execution_count": 40,
     "metadata": {},
     "output_type": "execute_result"
    }
   ],
   "source": [
    "f.readlines()"
   ]
  },
  {
   "cell_type": "code",
   "execution_count": 41,
   "id": "396fd6c6-598e-48ff-b2de-01a662fe5246",
   "metadata": {},
   "outputs": [],
   "source": [
    "f.close()"
   ]
  },
  {
   "cell_type": "code",
   "execution_count": 42,
   "id": "bd5acfb5-8583-4def-8fec-9aa13bfda3f0",
   "metadata": {},
   "outputs": [],
   "source": [
    "lines = [\"Line 1\\n\", \"Line 2\\n\", \"Line 3\\n\"]\n",
    "file = open(\"example.txt\", \"w\")\n",
    "file.writelines(lines)\n",
    "file.close()"
   ]
  },
  {
   "cell_type": "code",
   "execution_count": 43,
   "id": "52d1682e-b078-471c-a1c3-1635e9de5b8c",
   "metadata": {},
   "outputs": [
    {
     "name": "stdout",
     "output_type": "stream",
     "text": [
      "Writing demo.txt\n"
     ]
    }
   ],
   "source": [
    "%%writefile \"demo.txt\"\n",
    "Hiiii! my name is amit"
   ]
  },
  {
   "cell_type": "code",
   "execution_count": 44,
   "id": "faae0306-0f82-42f0-b01c-778fa9fed882",
   "metadata": {},
   "outputs": [],
   "source": [
    "with open(\"new1.txt\", \"w\") as f1:\n",
    "    f1.write(\"Hiiii! my name is amit\")\n",
    "    f1.close()"
   ]
  },
  {
   "cell_type": "code",
   "execution_count": 45,
   "id": "c647bab0-8f08-4eb4-8678-7c06ef7e95f5",
   "metadata": {},
   "outputs": [
    {
     "ename": "ValueError",
     "evalue": "I/O operation on closed file.",
     "output_type": "error",
     "traceback": [
      "\u001b[1;31m---------------------------------------------------------------------------\u001b[0m",
      "\u001b[1;31mValueError\u001b[0m                                Traceback (most recent call last)",
      "Cell \u001b[1;32mIn[45], line 1\u001b[0m\n\u001b[1;32m----> 1\u001b[0m f\u001b[38;5;241m.\u001b[39mread()\n",
      "\u001b[1;31mValueError\u001b[0m: I/O operation on closed file."
     ]
    }
   ],
   "source": [
    "f.read()"
   ]
  },
  {
   "cell_type": "code",
   "execution_count": 46,
   "id": "ef97e6ab-0f39-41b0-acd4-b7640e4bcde5",
   "metadata": {},
   "outputs": [
    {
     "ename": "ValueError",
     "evalue": "I/O operation on closed file.",
     "output_type": "error",
     "traceback": [
      "\u001b[1;31m---------------------------------------------------------------------------\u001b[0m",
      "\u001b[1;31mValueError\u001b[0m                                Traceback (most recent call last)",
      "Cell \u001b[1;32mIn[46], line 1\u001b[0m\n\u001b[1;32m----> 1\u001b[0m f1\u001b[38;5;241m.\u001b[39mtruncate()\n",
      "\u001b[1;31mValueError\u001b[0m: I/O operation on closed file."
     ]
    }
   ],
   "source": [
    "f1.truncate()"
   ]
  },
  {
   "cell_type": "code",
   "execution_count": 47,
   "id": "74382cc3-aebe-4d04-88b8-cbe1387f10ff",
   "metadata": {},
   "outputs": [],
   "source": [
    "import os"
   ]
  },
  {
   "cell_type": "code",
   "execution_count": 48,
   "id": "1a23609a-1fe3-4f03-be34-1601ac8986fe",
   "metadata": {},
   "outputs": [
    {
     "data": {
      "text/plain": [
       "'C:\\\\Users\\\\amitm\\\\Class\\\\03. DS_6_30_PM'"
      ]
     },
     "execution_count": 48,
     "metadata": {},
     "output_type": "execute_result"
    }
   ],
   "source": [
    "os.getcwd()"
   ]
  },
  {
   "cell_type": "code",
   "execution_count": 49,
   "id": "347a6a45-1732-40dd-896f-94195ec05738",
   "metadata": {},
   "outputs": [
    {
     "data": {
      "text/plain": [
       "['.ipynb_checkpoints',\n",
       " '01. Basic -1 .ipynb',\n",
       " '02. Basic - 2.ipynb',\n",
       " 'Built-in  functions.ipynb',\n",
       " 'conditions.ipynb',\n",
       " 'demo.txt',\n",
       " 'Dictionary and Function.ipynb',\n",
       " 'example.txt',\n",
       " 'File Handling.ipynb',\n",
       " 'List and Functions.ipynb',\n",
       " 'Loop -1.ipynb',\n",
       " 'Loops.ipynb',\n",
       " 'new1.txt',\n",
       " 'Set.ipynb',\n",
       " 'String and Functions.ipynb',\n",
       " 'String_formating.ipynb',\n",
       " 'test2.txt',\n",
       " 'text1.txt',\n",
       " 'textfile.txt']"
      ]
     },
     "execution_count": 49,
     "metadata": {},
     "output_type": "execute_result"
    }
   ],
   "source": [
    "os.listdir()"
   ]
  },
  {
   "cell_type": "code",
   "execution_count": 50,
   "id": "b25efabc-cfc0-40e7-8a85-6864b94ebaea",
   "metadata": {},
   "outputs": [],
   "source": [
    "os.chdir(\"C:\\\\Users\\\\amitm\\\\Downloads\")"
   ]
  },
  {
   "cell_type": "code",
   "execution_count": 51,
   "id": "b9a23cdd-a6b8-425b-8e8f-775204afb8d2",
   "metadata": {},
   "outputs": [
    {
     "data": {
      "text/plain": [
       "'C:\\\\Users\\\\amitm\\\\Downloads'"
      ]
     },
     "execution_count": 51,
     "metadata": {},
     "output_type": "execute_result"
    }
   ],
   "source": [
    "os.getcwd()"
   ]
  },
  {
   "cell_type": "code",
   "execution_count": 52,
   "id": "9f58dae8-870b-408b-85c5-2a9474b76062",
   "metadata": {},
   "outputs": [
    {
     "data": {
      "text/plain": [
       "['1. Python Interview Questions for Data Scientists (Fresher to Experienced).pdf',\n",
       " '19. financial_dataset.csv',\n",
       " '2. Python Interview Questions for Data Scientists (Fresher to Experienced).pdf',\n",
       " '3 sem marksheet.pdf',\n",
       " 'Advertising.csv',\n",
       " 'BizTraffics.pdf',\n",
       " 'BizTraffics.png',\n",
       " 'desktop.ini',\n",
       " 'exports-to-oceanic-countries.csv',\n",
       " 'Helio clinic',\n",
       " 'Job Description.pdf',\n",
       " 'Memory',\n",
       " 'Poonam',\n",
       " 'Poonam Resume (1).pdf',\n",
       " 'Python_Questions.txt',\n",
       " 'top_50_commodities_full_data.xls',\n",
       " 'Trainers Interview Feedback.xlsx',\n",
       " 'VTU-Tracks Curriculum Final.xlsx',\n",
       " 'WhatsApp Image 2025-07-14 at 23.05.26_85709580.jpg',\n",
       " 'WhatsApp Image 2025-07-14 at 23.05.34_aac9d136.jpg']"
      ]
     },
     "execution_count": 52,
     "metadata": {},
     "output_type": "execute_result"
    }
   ],
   "source": [
    "os.listdir()"
   ]
  },
  {
   "cell_type": "code",
   "execution_count": 53,
   "id": "17266a44-bbb7-4379-b05a-696d972f32da",
   "metadata": {},
   "outputs": [],
   "source": [
    "os.mkdir(\"newfolder\")"
   ]
  },
  {
   "cell_type": "code",
   "execution_count": 54,
   "id": "8f830191-e3a5-44f6-89a5-b08ac37840e1",
   "metadata": {},
   "outputs": [
    {
     "data": {
      "text/plain": [
       "['1. Python Interview Questions for Data Scientists (Fresher to Experienced).pdf',\n",
       " '19. financial_dataset.csv',\n",
       " '2. Python Interview Questions for Data Scientists (Fresher to Experienced).pdf',\n",
       " '3 sem marksheet.pdf',\n",
       " 'Advertising.csv',\n",
       " 'BizTraffics.pdf',\n",
       " 'BizTraffics.png',\n",
       " 'desktop.ini',\n",
       " 'exports-to-oceanic-countries.csv',\n",
       " 'Helio clinic',\n",
       " 'Job Description.pdf',\n",
       " 'Memory',\n",
       " 'newfolder',\n",
       " 'Poonam',\n",
       " 'Poonam Resume (1).pdf',\n",
       " 'Python_Questions.txt',\n",
       " 'top_50_commodities_full_data.xls',\n",
       " 'Trainers Interview Feedback.xlsx',\n",
       " 'VTU-Tracks Curriculum Final.xlsx',\n",
       " 'WhatsApp Image 2025-07-14 at 23.05.26_85709580.jpg',\n",
       " 'WhatsApp Image 2025-07-14 at 23.05.34_aac9d136.jpg']"
      ]
     },
     "execution_count": 54,
     "metadata": {},
     "output_type": "execute_result"
    }
   ],
   "source": [
    "os.listdir()"
   ]
  },
  {
   "cell_type": "code",
   "execution_count": 55,
   "id": "de038203-a224-4446-b956-bb1358ca02fb",
   "metadata": {},
   "outputs": [],
   "source": [
    "os.chdir('C:\\\\Users\\\\amitm\\\\Downloads\\\\newfolder')"
   ]
  },
  {
   "cell_type": "code",
   "execution_count": 56,
   "id": "8deccdad-6643-4fb3-bd86-4e3f2335788e",
   "metadata": {},
   "outputs": [
    {
     "data": {
      "text/plain": [
       "'C:\\\\Users\\\\amitm\\\\Downloads\\\\newfolder'"
      ]
     },
     "execution_count": 56,
     "metadata": {},
     "output_type": "execute_result"
    }
   ],
   "source": [
    "os.getcwd()"
   ]
  },
  {
   "cell_type": "code",
   "execution_count": 57,
   "id": "323f1188-b10d-45e1-bd4c-1187ad0ab89d",
   "metadata": {},
   "outputs": [
    {
     "data": {
      "text/plain": [
       "[]"
      ]
     },
     "execution_count": 57,
     "metadata": {},
     "output_type": "execute_result"
    }
   ],
   "source": [
    "os.listdir()"
   ]
  },
  {
   "cell_type": "code",
   "execution_count": 58,
   "id": "58982d46-8cea-498f-8fbc-15eec782da9c",
   "metadata": {},
   "outputs": [
    {
     "name": "stdout",
     "output_type": "stream",
     "text": [
      "Writing demo.txt\n"
     ]
    }
   ],
   "source": [
    "%%writefile \"demo.txt\"\n",
    "WhatsApp Image 2025-07-14 at 23.05.26_85709580\n",
    "WhatsApp Image 2025-07-14 at 23.05.34_aac9d13"
   ]
  },
  {
   "cell_type": "code",
   "execution_count": 59,
   "id": "042d11f1-a516-4956-b24b-e3dcbf090be3",
   "metadata": {},
   "outputs": [
    {
     "data": {
      "text/plain": [
       "['demo.txt']"
      ]
     },
     "execution_count": 59,
     "metadata": {},
     "output_type": "execute_result"
    }
   ],
   "source": [
    "os.listdir()"
   ]
  },
  {
   "cell_type": "code",
   "execution_count": 60,
   "id": "98bc1358-1915-4c42-990d-5f3d37f67fdb",
   "metadata": {},
   "outputs": [],
   "source": [
    "os.remove(\"demo.txt\")"
   ]
  },
  {
   "cell_type": "code",
   "execution_count": 61,
   "id": "2984f3c9-5f4f-4106-b04b-29fc36379e21",
   "metadata": {},
   "outputs": [
    {
     "data": {
      "text/plain": [
       "[]"
      ]
     },
     "execution_count": 61,
     "metadata": {},
     "output_type": "execute_result"
    }
   ],
   "source": [
    "os.listdir()"
   ]
  },
  {
   "cell_type": "code",
   "execution_count": 62,
   "id": "8947712a-cf62-4080-aefd-70aa675c06bc",
   "metadata": {},
   "outputs": [],
   "source": [
    "os.chdir('C:\\\\Users\\\\amitm\\\\Downloads')"
   ]
  },
  {
   "cell_type": "code",
   "execution_count": 63,
   "id": "7849e410-f3cf-46d9-bdde-69160dfebd88",
   "metadata": {},
   "outputs": [
    {
     "data": {
      "text/plain": [
       "['1. Python Interview Questions for Data Scientists (Fresher to Experienced).pdf',\n",
       " '19. financial_dataset.csv',\n",
       " '2. Python Interview Questions for Data Scientists (Fresher to Experienced).pdf',\n",
       " '3 sem marksheet.pdf',\n",
       " 'Advertising.csv',\n",
       " 'BizTraffics.pdf',\n",
       " 'BizTraffics.png',\n",
       " 'desktop.ini',\n",
       " 'exports-to-oceanic-countries.csv',\n",
       " 'Helio clinic',\n",
       " 'Job Description.pdf',\n",
       " 'Memory',\n",
       " 'newfolder',\n",
       " 'Poonam',\n",
       " 'Poonam Resume (1).pdf',\n",
       " 'Python_Questions.txt',\n",
       " 'top_50_commodities_full_data.xls',\n",
       " 'Trainers Interview Feedback.xlsx',\n",
       " 'VTU-Tracks Curriculum Final.xlsx',\n",
       " 'WhatsApp Image 2025-07-14 at 23.05.26_85709580.jpg',\n",
       " 'WhatsApp Image 2025-07-14 at 23.05.34_aac9d136.jpg']"
      ]
     },
     "execution_count": 63,
     "metadata": {},
     "output_type": "execute_result"
    }
   ],
   "source": [
    "os.listdir()"
   ]
  },
  {
   "cell_type": "code",
   "execution_count": 64,
   "id": "b4680922-109d-4e94-ac45-7f2f8b95689e",
   "metadata": {},
   "outputs": [],
   "source": [
    "os.rmdir(\"newfolder\")"
   ]
  },
  {
   "cell_type": "code",
   "execution_count": 65,
   "id": "80e3a8c8-ae1a-4a07-b8af-cd0eaa26b4ce",
   "metadata": {},
   "outputs": [
    {
     "data": {
      "text/plain": [
       "['1. Python Interview Questions for Data Scientists (Fresher to Experienced).pdf',\n",
       " '19. financial_dataset.csv',\n",
       " '2. Python Interview Questions for Data Scientists (Fresher to Experienced).pdf',\n",
       " '3 sem marksheet.pdf',\n",
       " 'Advertising.csv',\n",
       " 'BizTraffics.pdf',\n",
       " 'BizTraffics.png',\n",
       " 'desktop.ini',\n",
       " 'exports-to-oceanic-countries.csv',\n",
       " 'Helio clinic',\n",
       " 'Job Description.pdf',\n",
       " 'Memory',\n",
       " 'Poonam',\n",
       " 'Poonam Resume (1).pdf',\n",
       " 'Python_Questions.txt',\n",
       " 'top_50_commodities_full_data.xls',\n",
       " 'Trainers Interview Feedback.xlsx',\n",
       " 'VTU-Tracks Curriculum Final.xlsx',\n",
       " 'WhatsApp Image 2025-07-14 at 23.05.26_85709580.jpg',\n",
       " 'WhatsApp Image 2025-07-14 at 23.05.34_aac9d136.jpg']"
      ]
     },
     "execution_count": 65,
     "metadata": {},
     "output_type": "execute_result"
    }
   ],
   "source": [
    "os.listdir()"
   ]
  },
  {
   "cell_type": "code",
   "execution_count": 66,
   "id": "13c24104-1673-4d4f-a81b-7dfa8f7cafa1",
   "metadata": {},
   "outputs": [],
   "source": [
    "os.chdir('C:\\\\Users\\\\amitm\\\\Class\\\\03. DS_6_30_PM')"
   ]
  },
  {
   "cell_type": "code",
   "execution_count": 75,
   "id": "7ac98359-cb4a-44c7-99db-a2014281c473",
   "metadata": {},
   "outputs": [
    {
     "data": {
      "text/plain": [
       "'C:\\\\Users\\\\amitm\\\\Class\\\\03. DS_6_30_PM\\\\newfolder'"
      ]
     },
     "execution_count": 75,
     "metadata": {},
     "output_type": "execute_result"
    }
   ],
   "source": [
    "os.getcwd()"
   ]
  },
  {
   "cell_type": "code",
   "execution_count": 68,
   "id": "74223bf1-a045-486c-ae35-4871aa825e6e",
   "metadata": {},
   "outputs": [],
   "source": [
    "os.mkdir(\"newfolder\")"
   ]
  },
  {
   "cell_type": "code",
   "execution_count": 76,
   "id": "4cc58e59-c86a-4375-aff2-19fffe56d2af",
   "metadata": {},
   "outputs": [
    {
     "data": {
      "text/plain": [
       "[]"
      ]
     },
     "execution_count": 76,
     "metadata": {},
     "output_type": "execute_result"
    }
   ],
   "source": [
    "os.listdir()"
   ]
  },
  {
   "cell_type": "code",
   "execution_count": 70,
   "id": "edbea3a5-4c10-4f7b-a565-84b106daaaf8",
   "metadata": {},
   "outputs": [],
   "source": [
    "os.chdir('C:\\\\Users\\\\amitm\\\\Class\\\\03. DS_6_30_PM\\\\newfolder')"
   ]
  },
  {
   "cell_type": "code",
   "execution_count": 71,
   "id": "1b8a1907-4e35-43a1-adbf-f4450f428a31",
   "metadata": {},
   "outputs": [
    {
     "data": {
      "text/plain": [
       "[]"
      ]
     },
     "execution_count": 71,
     "metadata": {},
     "output_type": "execute_result"
    }
   ],
   "source": [
    "os.listdir()"
   ]
  },
  {
   "cell_type": "code",
   "execution_count": 77,
   "id": "bac0c55d-3b11-4438-9599-0bec6a6987f0",
   "metadata": {},
   "outputs": [],
   "source": [
    "for i in range(1,11):\n",
    "    with open(f\"newfile{i}.txt\", \"w\") as file:\n",
    "        file.write(f\"this file number is {i}\")\n",
    "        file.close()  "
   ]
  },
  {
   "cell_type": "code",
   "execution_count": 78,
   "id": "257e9c0e-311b-4906-bf12-1fdaa15a8262",
   "metadata": {},
   "outputs": [
    {
     "data": {
      "text/plain": [
       "['newfile1.txt',\n",
       " 'newfile10.txt',\n",
       " 'newfile2.txt',\n",
       " 'newfile3.txt',\n",
       " 'newfile4.txt',\n",
       " 'newfile5.txt',\n",
       " 'newfile6.txt',\n",
       " 'newfile7.txt',\n",
       " 'newfile8.txt',\n",
       " 'newfile9.txt']"
      ]
     },
     "execution_count": 78,
     "metadata": {},
     "output_type": "execute_result"
    }
   ],
   "source": [
    "os.listdir()"
   ]
  },
  {
   "cell_type": "code",
   "execution_count": 79,
   "id": "130d5bee-b2e5-49fe-b7d1-c3689936d84c",
   "metadata": {},
   "outputs": [
    {
     "name": "stdout",
     "output_type": "stream",
     "text": [
      "Deleted newfile1.txt\n",
      "Deleted newfile2.txt\n",
      "Deleted newfile3.txt\n",
      "Deleted newfile4.txt\n",
      "Deleted newfile5.txt\n",
      "Deleted newfile6.txt\n",
      "Deleted newfile7.txt\n",
      "Deleted newfile8.txt\n",
      "Deleted newfile9.txt\n",
      "Deleted newfile10.txt\n",
      "newfile11.txt does not exist\n",
      "newfile12.txt does not exist\n"
     ]
    }
   ],
   "source": [
    "for i in range(1, 13):\n",
    "    file_name = f'newfile{i}.txt'\n",
    "    if os.path.exists(file_name):\n",
    "        os.remove(file_name)\n",
    "        print(f'Deleted {file_name}')\n",
    "    else:\n",
    "        print(f'{file_name} does not exist')"
   ]
  },
  {
   "cell_type": "code",
   "execution_count": null,
   "id": "8faf9af3-1630-46dc-8e0a-12805cd823bd",
   "metadata": {},
   "outputs": [],
   "source": []
  }
 ],
 "metadata": {
  "kernelspec": {
   "display_name": "Python 3 (ipykernel)",
   "language": "python",
   "name": "python3"
  },
  "language_info": {
   "codemirror_mode": {
    "name": "ipython",
    "version": 3
   },
   "file_extension": ".py",
   "mimetype": "text/x-python",
   "name": "python",
   "nbconvert_exporter": "python",
   "pygments_lexer": "ipython3",
   "version": "3.11.7"
  }
 },
 "nbformat": 4,
 "nbformat_minor": 5
}
