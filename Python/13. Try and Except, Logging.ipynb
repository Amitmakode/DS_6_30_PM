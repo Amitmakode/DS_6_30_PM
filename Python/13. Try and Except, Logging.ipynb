{
 "cells": [
  {
   "cell_type": "code",
   "execution_count": null,
   "id": "523063b7-73b3-474a-b8d6-318e0f2e7202",
   "metadata": {},
   "outputs": [],
   "source": [
    "try\n",
    "except"
   ]
  },
  {
   "cell_type": "code",
   "execution_count": 1,
   "id": "3a810d37-0a33-4edc-8828-83681b968d9b",
   "metadata": {},
   "outputs": [
    {
     "ename": "FileNotFoundError",
     "evalue": "[Errno 2] No such file or directory: 'amit.txt'",
     "output_type": "error",
     "traceback": [
      "\u001b[1;31m---------------------------------------------------------------------------\u001b[0m",
      "\u001b[1;31mFileNotFoundError\u001b[0m                         Traceback (most recent call last)",
      "Cell \u001b[1;32mIn[1], line 1\u001b[0m\n\u001b[1;32m----> 1\u001b[0m \u001b[38;5;28mopen\u001b[39m(\u001b[38;5;124m\"\u001b[39m\u001b[38;5;124mamit.txt\u001b[39m\u001b[38;5;124m\"\u001b[39m, \u001b[38;5;124m\"\u001b[39m\u001b[38;5;124mr\u001b[39m\u001b[38;5;124m\"\u001b[39m)\n",
      "File \u001b[1;32m~\\anaconda3\\Lib\\site-packages\\IPython\\core\\interactiveshell.py:310\u001b[0m, in \u001b[0;36m_modified_open\u001b[1;34m(file, *args, **kwargs)\u001b[0m\n\u001b[0;32m    303\u001b[0m \u001b[38;5;28;01mif\u001b[39;00m file \u001b[38;5;129;01min\u001b[39;00m {\u001b[38;5;241m0\u001b[39m, \u001b[38;5;241m1\u001b[39m, \u001b[38;5;241m2\u001b[39m}:\n\u001b[0;32m    304\u001b[0m     \u001b[38;5;28;01mraise\u001b[39;00m \u001b[38;5;167;01mValueError\u001b[39;00m(\n\u001b[0;32m    305\u001b[0m         \u001b[38;5;124mf\u001b[39m\u001b[38;5;124m\"\u001b[39m\u001b[38;5;124mIPython won\u001b[39m\u001b[38;5;124m'\u001b[39m\u001b[38;5;124mt let you open fd=\u001b[39m\u001b[38;5;132;01m{\u001b[39;00mfile\u001b[38;5;132;01m}\u001b[39;00m\u001b[38;5;124m by default \u001b[39m\u001b[38;5;124m\"\u001b[39m\n\u001b[0;32m    306\u001b[0m         \u001b[38;5;124m\"\u001b[39m\u001b[38;5;124mas it is likely to crash IPython. If you know what you are doing, \u001b[39m\u001b[38;5;124m\"\u001b[39m\n\u001b[0;32m    307\u001b[0m         \u001b[38;5;124m\"\u001b[39m\u001b[38;5;124myou can use builtins\u001b[39m\u001b[38;5;124m'\u001b[39m\u001b[38;5;124m open.\u001b[39m\u001b[38;5;124m\"\u001b[39m\n\u001b[0;32m    308\u001b[0m     )\n\u001b[1;32m--> 310\u001b[0m \u001b[38;5;28;01mreturn\u001b[39;00m io_open(file, \u001b[38;5;241m*\u001b[39margs, \u001b[38;5;241m*\u001b[39m\u001b[38;5;241m*\u001b[39mkwargs)\n",
      "\u001b[1;31mFileNotFoundError\u001b[0m: [Errno 2] No such file or directory: 'amit.txt'"
     ]
    }
   ],
   "source": [
    "open(\"amit.txt\", \"r\")"
   ]
  },
  {
   "cell_type": "code",
   "execution_count": 2,
   "id": "1de00730-822b-4058-94de-5c583e1daec2",
   "metadata": {},
   "outputs": [
    {
     "ename": "ZeroDivisionError",
     "evalue": "division by zero",
     "output_type": "error",
     "traceback": [
      "\u001b[1;31m---------------------------------------------------------------------------\u001b[0m",
      "\u001b[1;31mZeroDivisionError\u001b[0m                         Traceback (most recent call last)",
      "Cell \u001b[1;32mIn[2], line 1\u001b[0m\n\u001b[1;32m----> 1\u001b[0m \u001b[38;5;241m2\u001b[39m\u001b[38;5;241m/\u001b[39m\u001b[38;5;241m0\u001b[39m\n",
      "\u001b[1;31mZeroDivisionError\u001b[0m: division by zero"
     ]
    }
   ],
   "source": [
    "2/0"
   ]
  },
  {
   "cell_type": "code",
   "execution_count": 3,
   "id": "94b093c5-86c3-4bda-84f1-140b9df65b46",
   "metadata": {},
   "outputs": [
    {
     "ename": "NameError",
     "evalue": "name 'name' is not defined",
     "output_type": "error",
     "traceback": [
      "\u001b[1;31m---------------------------------------------------------------------------\u001b[0m",
      "\u001b[1;31mNameError\u001b[0m                                 Traceback (most recent call last)",
      "Cell \u001b[1;32mIn[3], line 1\u001b[0m\n\u001b[1;32m----> 1\u001b[0m name\n",
      "\u001b[1;31mNameError\u001b[0m: name 'name' is not defined"
     ]
    }
   ],
   "source": [
    "name"
   ]
  },
  {
   "cell_type": "code",
   "execution_count": 6,
   "id": "4e6450fe-934a-4e08-94b1-8bd77572b702",
   "metadata": {},
   "outputs": [
    {
     "name": "stdout",
     "output_type": "stream",
     "text": [
      "45\n"
     ]
    },
    {
     "ename": "ZeroDivisionError",
     "evalue": "division by zero",
     "output_type": "error",
     "traceback": [
      "\u001b[1;31m---------------------------------------------------------------------------\u001b[0m",
      "\u001b[1;31mZeroDivisionError\u001b[0m                         Traceback (most recent call last)",
      "Cell \u001b[1;32mIn[6], line 2\u001b[0m\n\u001b[0;32m      1\u001b[0m \u001b[38;5;28mprint\u001b[39m(\u001b[38;5;241m45\u001b[39m)\n\u001b[1;32m----> 2\u001b[0m \u001b[38;5;28mprint\u001b[39m(\u001b[38;5;241m2\u001b[39m\u001b[38;5;241m/\u001b[39m\u001b[38;5;241m0\u001b[39m)\n\u001b[0;32m      3\u001b[0m \u001b[38;5;28mprint\u001b[39m(\u001b[38;5;241m234\u001b[39m)\n",
      "\u001b[1;31mZeroDivisionError\u001b[0m: division by zero"
     ]
    }
   ],
   "source": [
    "print(45)\n",
    "print(2/0)\n",
    "print(234)"
   ]
  },
  {
   "cell_type": "code",
   "execution_count": 8,
   "id": "d8711efa-fff9-4f9a-8122-54cec8d9feca",
   "metadata": {},
   "outputs": [
    {
     "name": "stdin",
     "output_type": "stream",
     "text": [
      "enter a number 4\n",
      "enter a number 0\n"
     ]
    },
    {
     "name": "stdout",
     "output_type": "stream",
     "text": [
      "division by zero\n"
     ]
    }
   ],
   "source": [
    "num1 = int(input(\"enter a number\"))\n",
    "num2 = int(input(\"enter a number\"))\n",
    "\n",
    "try:\n",
    "    x = num1/num2\n",
    "    print(x)\n",
    "except Exception as e:\n",
    "    print(e)\n",
    "    "
   ]
  },
  {
   "cell_type": "code",
   "execution_count": 10,
   "id": "8e95f003-7127-4a05-a90e-553b9ed4f83d",
   "metadata": {},
   "outputs": [
    {
     "name": "stdin",
     "output_type": "stream",
     "text": [
      "enter a number 5\n",
      "enter a number 0\n"
     ]
    },
    {
     "name": "stdout",
     "output_type": "stream",
     "text": [
      "hello\n",
      "division by zero\n",
      "java\n"
     ]
    }
   ],
   "source": [
    "num1 = int(input(\"enter a number\"))\n",
    "num2 = int(input(\"enter a number\"))\n",
    "\n",
    "\n",
    "print(\"hello\")\n",
    "try:\n",
    "    x = num1/num2\n",
    "    print(x)\n",
    "except Exception as e:\n",
    "    print(e)\n",
    "print(\"java\")    "
   ]
  },
  {
   "cell_type": "code",
   "execution_count": 12,
   "id": "5a1ee106-e8ed-4a2f-88d7-985bc11a3f4a",
   "metadata": {},
   "outputs": [
    {
     "name": "stdin",
     "output_type": "stream",
     "text": [
      "Enter a number:  0\n"
     ]
    },
    {
     "name": "stdout",
     "output_type": "stream",
     "text": [
      "Error occurred: division by zero\n",
      "Execution completed.\n"
     ]
    }
   ],
   "source": [
    "try:\n",
    "    x = int(input(\"Enter a number: \"))\n",
    "    y = 10 / x\n",
    "    print(f\"Result: {y}\")\n",
    "except Exception as e:\n",
    "    print(f\"Error occurred: {e}\")\n",
    "else:\n",
    "    print(\"No exceptions occurred.\")\n",
    "finally:\n",
    "    print(\"Execution completed.\")"
   ]
  },
  {
   "cell_type": "code",
   "execution_count": 15,
   "id": "31f999b9-e19d-4f0d-9903-d2fdba2fb9a5",
   "metadata": {},
   "outputs": [
    {
     "name": "stdin",
     "output_type": "stream",
     "text": [
      "Enter a number:  fdgh\n"
     ]
    },
    {
     "name": "stdout",
     "output_type": "stream",
     "text": [
      "Invalid input. Please enter a valid integer.\n"
     ]
    }
   ],
   "source": [
    "try:\n",
    "    x = int(input(\"Enter a number: \"))\n",
    "    y = 10 / x\n",
    "    print(f\"Result: {y}\")\n",
    "except ValueError:\n",
    "    print(\"Invalid input. Please enter a valid integer.\")\n",
    "except ZeroDivisionError:\n",
    "    print(\"Cannot divide by zero. Please enter a non-zero number.\")\n",
    "except Exception as e:\n",
    "    print(f\"Error occurred: {e}\")"
   ]
  },
  {
   "cell_type": "code",
   "execution_count": 16,
   "id": "26e2dd1a-16f3-4a87-a44c-321eb313b557",
   "metadata": {},
   "outputs": [
    {
     "name": "stdin",
     "output_type": "stream",
     "text": [
      "enter a number 4\n",
      "enter a number 0\n"
     ]
    },
    {
     "name": "stdout",
     "output_type": "stream",
     "text": [
      "hello\n",
      "division by zero\n",
      "4  --  0\n",
      "java\n"
     ]
    }
   ],
   "source": [
    "num1 = int(input(\"enter a number\"))\n",
    "num2 = int(input(\"enter a number\"))\n",
    "\n",
    "\n",
    "print(\"hello\")\n",
    "try:\n",
    "    x = num1/num2\n",
    "    print(x)\n",
    "except Exception as e:\n",
    "    print(e)\n",
    "    print(num1, \" -- \", num2)\n",
    "\n",
    "\n",
    "print(\"java\")    "
   ]
  },
  {
   "cell_type": "code",
   "execution_count": 17,
   "id": "332c2fff-4b35-455f-b62c-b2fbbcee923b",
   "metadata": {},
   "outputs": [
    {
     "name": "stdin",
     "output_type": "stream",
     "text": [
      "enter a number 33\n"
     ]
    },
    {
     "name": "stdout",
     "output_type": "stream",
     "text": [
      "'>' not supported between instances of 'str' and 'int'\n"
     ]
    }
   ],
   "source": [
    "num = input(\"enter a number\")\n",
    "\n",
    "\n",
    "try:\n",
    "    if num > 30:\n",
    "        print(\"num is greater than\")\n",
    "    elif num > 15:\n",
    "        print(\"num is less than\")\n",
    "    else:\n",
    "        print(\"this my num\")\n",
    "except Exception as e:\n",
    "    print(e)"
   ]
  },
  {
   "cell_type": "markdown",
   "id": "f03c6bac-e69c-47bf-87d9-d6190d418a6c",
   "metadata": {},
   "source": [
    "## Logging"
   ]
  },
  {
   "cell_type": "code",
   "execution_count": 18,
   "id": "efbc3ac4-857e-4583-aaec-d64a9128e8d7",
   "metadata": {},
   "outputs": [],
   "source": [
    "import logging"
   ]
  },
  {
   "cell_type": "code",
   "execution_count": null,
   "id": "92d7dcaf-15f4-4d29-b1c7-ee7b75d474bb",
   "metadata": {},
   "outputs": [],
   "source": [
    "debug     = 10\n",
    "info      = 20\n",
    "warning   = 30\n",
    "error     = 40\n",
    "critical  = 50"
   ]
  },
  {
   "cell_type": "code",
   "execution_count": 19,
   "id": "103dd6ce-f54d-4c7f-979b-d59b910c143e",
   "metadata": {},
   "outputs": [],
   "source": [
    "logging.basicConfig(filename= \"logfile.txt\", level= logging.DEBUG, format= \"%(asctime)s %(levelname)s %(message)s\")"
   ]
  },
  {
   "cell_type": "code",
   "execution_count": 25,
   "id": "a98d5d6b-9ee3-48c6-9c60-dbcffc9ed459",
   "metadata": {},
   "outputs": [
    {
     "name": "stdin",
     "output_type": "stream",
     "text": [
      "enter a number 3\n",
      "enter a number 0\n"
     ]
    },
    {
     "name": "stdout",
     "output_type": "stream",
     "text": [
      "hello\n",
      "division by zero\n",
      "3  --  0\n",
      "java\n"
     ]
    }
   ],
   "source": [
    "num1 = int(input(\"enter a number\"))\n",
    "num2 = int(input(\"enter a number\"))\n",
    "\n",
    "\n",
    "print(\"hello\")\n",
    "try:\n",
    "    logging.info(\"we starting code from here\")\n",
    "    x = num1/num2\n",
    "    print(x)\n",
    "    logging.info(\"we got output\")\n",
    "except Exception as e:\n",
    "    logging.info(\"we are executing except block\")\n",
    "    logging.exception(e)\n",
    "    print(e)\n",
    "    print(num1, \" -- \", num2)\n",
    "\n",
    "\n",
    "print(\"java\")  "
   ]
  },
  {
   "cell_type": "code",
   "execution_count": 26,
   "id": "fb4e49a1-a385-4ec5-b1a0-4ea61cbb0e63",
   "metadata": {},
   "outputs": [
    {
     "name": "stdout",
     "output_type": "stream",
     "text": [
      "num is less than\n"
     ]
    }
   ],
   "source": [
    "num = 25\n",
    "if num > 30:\n",
    "    print(\"num is greater than\")\n",
    "    logging.info(\"this is if block\")\n",
    "elif num > 15:\n",
    "    print(\"num is less than\")\n",
    "    logging.info(\"this is elif block\")\n",
    "else:\n",
    "    print(\"this my num\")\n",
    "    logging.info(\"this is else block \")"
   ]
  },
  {
   "cell_type": "code",
   "execution_count": null,
   "id": "759164a9-3dc7-45c8-863c-cc7f8f285689",
   "metadata": {},
   "outputs": [],
   "source": []
  }
 ],
 "metadata": {
  "kernelspec": {
   "display_name": "Python 3 (ipykernel)",
   "language": "python",
   "name": "python3"
  },
  "language_info": {
   "codemirror_mode": {
    "name": "ipython",
    "version": 3
   },
   "file_extension": ".py",
   "mimetype": "text/x-python",
   "name": "python",
   "nbconvert_exporter": "python",
   "pygments_lexer": "ipython3",
   "version": "3.11.7"
  }
 },
 "nbformat": 4,
 "nbformat_minor": 5
}


while True:
    try:
        num1 = int(input("Enter first number: "))
        num2 = int(input("Enter second number: "))
        x = num1 / num2
        print(f"Result: {x}")
        break  # Exit loop if successful
    except Exception as e:
        print(f" Unexpected error: {e}. Try again.")



