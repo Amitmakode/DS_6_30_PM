{
 "cells": [
  {
   "cell_type": "code",
   "execution_count": 11,
   "id": "b77bbf8e-cc8c-4874-9bcd-1a39691ae6dc",
   "metadata": {},
   "outputs": [
    {
     "ename": "AttributeError",
     "evalue": "'frozenset' object has no attribute 'add'",
     "output_type": "error",
     "traceback": [
      "\u001b[1;31m---------------------------------------------------------------------------\u001b[0m",
      "\u001b[1;31mAttributeError\u001b[0m                            Traceback (most recent call last)",
      "Cell \u001b[1;32mIn[11], line 4\u001b[0m\n\u001b[0;32m      1\u001b[0m f \u001b[38;5;241m=\u001b[39m \u001b[38;5;28mfrozenset\u001b[39m([\u001b[38;5;241m10\u001b[39m, \u001b[38;5;241m20\u001b[39m, \u001b[38;5;241m30\u001b[39m])\n\u001b[0;32m      3\u001b[0m \u001b[38;5;66;03m#Trying to add (will raise error)\u001b[39;00m\n\u001b[1;32m----> 4\u001b[0m f\u001b[38;5;241m.\u001b[39madd(\u001b[38;5;241m40\u001b[39m)   \n\u001b[0;32m      6\u001b[0m \u001b[38;5;66;03m# Trying to remove (will raise error)\u001b[39;00m\n\u001b[0;32m      7\u001b[0m f\u001b[38;5;241m.\u001b[39mremove(\u001b[38;5;241m20\u001b[39m)   \n",
      "\u001b[1;31mAttributeError\u001b[0m: 'frozenset' object has no attribute 'add'"
     ]
    }
   ],
   "source": [
    "f = frozenset([10, 20, 30])\n",
    "\n",
    "#Trying to add (will raise error)\n",
    "f.add(40)   \n",
    "\n",
    "# Trying to remove (will raise error)\n",
    "f.remove(20)   \n",
    "\n",
    "print(f)"
   ]
  },
  {
   "cell_type": "code",
   "execution_count": 10,
   "id": "51e286b3-6fce-4086-81a9-8e2ca6c3d2fd",
   "metadata": {},
   "outputs": [
    {
     "name": "stdout",
     "output_type": "stream",
     "text": [
      "{1, 50, 3, 40, 45}\n"
     ]
    }
   ],
   "source": [
    "s = {1,20,3,40,50}\n",
    "\n",
    "\n",
    "#Trying to add (will raise error)\n",
    "s.add(45)   \n",
    "\n",
    "# Trying to remove (will raise error)\n",
    "s.remove(20)   \n",
    "\n",
    "print(s)"
   ]
  },
  {
   "cell_type": "code",
   "execution_count": null,
   "id": "c97c8e3e-cdd5-43e6-afe4-9b989a82679e",
   "metadata": {},
   "outputs": [],
   "source": []
  },
  {
   "cell_type": "markdown",
   "id": "8abd0f26-f81c-48eb-a198-6838258d32fd",
   "metadata": {},
   "source": [
    "## User Defined Function"
   ]
  },
  {
   "cell_type": "code",
   "execution_count": 12,
   "id": "cb0f72d4-c535-464b-a554-31c0d20b9aa5",
   "metadata": {},
   "outputs": [
    {
     "name": "stdout",
     "output_type": "stream",
     "text": [
      "\n"
     ]
    }
   ],
   "source": [
    "print()"
   ]
  },
  {
   "cell_type": "code",
   "execution_count": 13,
   "id": "c5b07bc8-0b26-4bd0-9b39-7a3c55481ea0",
   "metadata": {},
   "outputs": [
    {
     "ename": "TypeError",
     "evalue": "len() takes exactly one argument (0 given)",
     "output_type": "error",
     "traceback": [
      "\u001b[1;31m---------------------------------------------------------------------------\u001b[0m",
      "\u001b[1;31mTypeError\u001b[0m                                 Traceback (most recent call last)",
      "Cell \u001b[1;32mIn[13], line 1\u001b[0m\n\u001b[1;32m----> 1\u001b[0m \u001b[38;5;28mlen\u001b[39m()\n",
      "\u001b[1;31mTypeError\u001b[0m: len() takes exactly one argument (0 given)"
     ]
    }
   ],
   "source": [
    "len()"
   ]
  },
  {
   "cell_type": "code",
   "execution_count": 14,
   "id": "a7609fcd-3a2f-4f06-b25e-c575d1793f63",
   "metadata": {},
   "outputs": [
    {
     "ename": "TypeError",
     "evalue": "type() takes 1 or 3 arguments",
     "output_type": "error",
     "traceback": [
      "\u001b[1;31m---------------------------------------------------------------------------\u001b[0m",
      "\u001b[1;31mTypeError\u001b[0m                                 Traceback (most recent call last)",
      "Cell \u001b[1;32mIn[14], line 1\u001b[0m\n\u001b[1;32m----> 1\u001b[0m \u001b[38;5;28mtype\u001b[39m()\n",
      "\u001b[1;31mTypeError\u001b[0m: type() takes 1 or 3 arguments"
     ]
    }
   ],
   "source": [
    "type()"
   ]
  },
  {
   "cell_type": "code",
   "execution_count": 16,
   "id": "8dbac2d1-2645-4b55-9b44-632441a84b4b",
   "metadata": {},
   "outputs": [
    {
     "name": "stdout",
     "output_type": "stream",
     "text": [
      "py 12\n"
     ]
    }
   ],
   "source": [
    "print(\"py\", 12)"
   ]
  },
  {
   "cell_type": "code",
   "execution_count": null,
   "id": "2b0fdbcd-2e22-4097-a6b7-a116dd4b216b",
   "metadata": {},
   "outputs": [],
   "source": [
    "#parameter\n",
    "#arguments"
   ]
  },
  {
   "cell_type": "code",
   "execution_count": 17,
   "id": "94e76f62-f49f-4fd9-b706-c8c2ec559b58",
   "metadata": {},
   "outputs": [],
   "source": [
    "def fun1():\n",
    "    a = 10\n",
    "    return a"
   ]
  },
  {
   "cell_type": "code",
   "execution_count": 19,
   "id": "9eb60fe7-6792-479f-a247-4777200ede53",
   "metadata": {},
   "outputs": [
    {
     "data": {
      "text/plain": [
       "10"
      ]
     },
     "execution_count": 19,
     "metadata": {},
     "output_type": "execute_result"
    }
   ],
   "source": [
    "fun1()"
   ]
  },
  {
   "cell_type": "code",
   "execution_count": 20,
   "id": "3e5e64d0-215a-4b80-875b-52fd93b26142",
   "metadata": {},
   "outputs": [
    {
     "ename": "TypeError",
     "evalue": "fun1() takes 0 positional arguments but 1 was given",
     "output_type": "error",
     "traceback": [
      "\u001b[1;31m---------------------------------------------------------------------------\u001b[0m",
      "\u001b[1;31mTypeError\u001b[0m                                 Traceback (most recent call last)",
      "Cell \u001b[1;32mIn[20], line 1\u001b[0m\n\u001b[1;32m----> 1\u001b[0m fun1(\u001b[38;5;241m4\u001b[39m)\n",
      "\u001b[1;31mTypeError\u001b[0m: fun1() takes 0 positional arguments but 1 was given"
     ]
    }
   ],
   "source": [
    "fun1(4)"
   ]
  },
  {
   "cell_type": "raw",
   "id": "530564e4-e659-42cd-b5a1-a2f4daba42b0",
   "metadata": {},
   "source": [
    "positional argument     - Fix type\n",
    "non-keyword args        - *args\n",
    "key-word arg            - **kwargs"
   ]
  },
  {
   "cell_type": "code",
   "execution_count": 23,
   "id": "640e7065-edc6-4933-84cc-f63868c19a4e",
   "metadata": {},
   "outputs": [],
   "source": [
    "def fun2(x):\n",
    "    x = x**2\n",
    "    return x"
   ]
  },
  {
   "cell_type": "code",
   "execution_count": 25,
   "id": "68f0dad6-f21f-468c-b025-c20c8ed8b8fe",
   "metadata": {},
   "outputs": [
    {
     "ename": "TypeError",
     "evalue": "fun2() takes 1 positional argument but 2 were given",
     "output_type": "error",
     "traceback": [
      "\u001b[1;31m---------------------------------------------------------------------------\u001b[0m",
      "\u001b[1;31mTypeError\u001b[0m                                 Traceback (most recent call last)",
      "Cell \u001b[1;32mIn[25], line 1\u001b[0m\n\u001b[1;32m----> 1\u001b[0m fun2(\u001b[38;5;241m4\u001b[39m, \u001b[38;5;241m6\u001b[39m)\n",
      "\u001b[1;31mTypeError\u001b[0m: fun2() takes 1 positional argument but 2 were given"
     ]
    }
   ],
   "source": [
    "fun2(4, 6)"
   ]
  },
  {
   "cell_type": "code",
   "execution_count": 26,
   "id": "b70f40e9-4c24-4f8a-87e0-7ff1ca894ce3",
   "metadata": {},
   "outputs": [
    {
     "ename": "TypeError",
     "evalue": "fun2() missing 1 required positional argument: 'x'",
     "output_type": "error",
     "traceback": [
      "\u001b[1;31m---------------------------------------------------------------------------\u001b[0m",
      "\u001b[1;31mTypeError\u001b[0m                                 Traceback (most recent call last)",
      "Cell \u001b[1;32mIn[26], line 1\u001b[0m\n\u001b[1;32m----> 1\u001b[0m fun2()\n",
      "\u001b[1;31mTypeError\u001b[0m: fun2() missing 1 required positional argument: 'x'"
     ]
    }
   ],
   "source": [
    "fun2()"
   ]
  },
  {
   "cell_type": "code",
   "execution_count": 27,
   "id": "5faf05c7-e3b2-44b0-8cef-0d3dccd3b09d",
   "metadata": {},
   "outputs": [],
   "source": [
    "def fun3(*args):\n",
    "    a = args + 10\n",
    "    return a"
   ]
  },
  {
   "cell_type": "code",
   "execution_count": 28,
   "id": "4a2a3c14-b2a7-47d1-9a93-5a652a11130e",
   "metadata": {},
   "outputs": [
    {
     "ename": "TypeError",
     "evalue": "can only concatenate tuple (not \"int\") to tuple",
     "output_type": "error",
     "traceback": [
      "\u001b[1;31m---------------------------------------------------------------------------\u001b[0m",
      "\u001b[1;31mTypeError\u001b[0m                                 Traceback (most recent call last)",
      "Cell \u001b[1;32mIn[28], line 1\u001b[0m\n\u001b[1;32m----> 1\u001b[0m fun3(\u001b[38;5;241m5\u001b[39m)\n",
      "Cell \u001b[1;32mIn[27], line 2\u001b[0m, in \u001b[0;36mfun3\u001b[1;34m(*args)\u001b[0m\n\u001b[0;32m      1\u001b[0m \u001b[38;5;28;01mdef\u001b[39;00m \u001b[38;5;21mfun3\u001b[39m(\u001b[38;5;241m*\u001b[39margs):\n\u001b[1;32m----> 2\u001b[0m     a \u001b[38;5;241m=\u001b[39m args\u001b[38;5;241m+\u001b[39m\u001b[38;5;241m10\u001b[39m\n\u001b[0;32m      3\u001b[0m     \u001b[38;5;28;01mreturn\u001b[39;00m a\n",
      "\u001b[1;31mTypeError\u001b[0m: can only concatenate tuple (not \"int\") to tuple"
     ]
    }
   ],
   "source": [
    "fun3(5)"
   ]
  },
  {
   "cell_type": "code",
   "execution_count": 29,
   "id": "a34f2cb5-1309-4215-ae39-b0693e1bcc62",
   "metadata": {},
   "outputs": [],
   "source": [
    "def fun3(*args):\n",
    "    return args"
   ]
  },
  {
   "cell_type": "code",
   "execution_count": 30,
   "id": "752d3ce1-bb22-480d-8557-d042e671973f",
   "metadata": {},
   "outputs": [
    {
     "data": {
      "text/plain": [
       "(5,)"
      ]
     },
     "execution_count": 30,
     "metadata": {},
     "output_type": "execute_result"
    }
   ],
   "source": [
    "fun3(5)"
   ]
  },
  {
   "cell_type": "code",
   "execution_count": 31,
   "id": "35f73993-4582-45dd-8122-39925e39c90e",
   "metadata": {},
   "outputs": [
    {
     "data": {
      "text/plain": [
       "()"
      ]
     },
     "execution_count": 31,
     "metadata": {},
     "output_type": "execute_result"
    }
   ],
   "source": [
    "fun3()"
   ]
  },
  {
   "cell_type": "code",
   "execution_count": 32,
   "id": "04e202c5-ed07-4430-b9d1-8546fbe71c10",
   "metadata": {},
   "outputs": [
    {
     "data": {
      "text/plain": [
       "('1', 'aabc', True)"
      ]
     },
     "execution_count": 32,
     "metadata": {},
     "output_type": "execute_result"
    }
   ],
   "source": [
    "fun3(\"1\", \"aabc\", True)"
   ]
  },
  {
   "cell_type": "code",
   "execution_count": 33,
   "id": "aa75918a-e1e6-4401-848b-2ec17a7c7c28",
   "metadata": {},
   "outputs": [],
   "source": [
    "def fun4(**kwargs):\n",
    "    return kwargs"
   ]
  },
  {
   "cell_type": "code",
   "execution_count": 34,
   "id": "aaff70c1-1e1d-42f0-967e-64394ff1e820",
   "metadata": {},
   "outputs": [
    {
     "data": {
      "text/plain": [
       "{}"
      ]
     },
     "execution_count": 34,
     "metadata": {},
     "output_type": "execute_result"
    }
   ],
   "source": [
    "fun4()"
   ]
  },
  {
   "cell_type": "code",
   "execution_count": 35,
   "id": "5eefa705-4e52-4598-ba29-bd11609a2155",
   "metadata": {},
   "outputs": [
    {
     "ename": "TypeError",
     "evalue": "fun4() takes 0 positional arguments but 1 was given",
     "output_type": "error",
     "traceback": [
      "\u001b[1;31m---------------------------------------------------------------------------\u001b[0m",
      "\u001b[1;31mTypeError\u001b[0m                                 Traceback (most recent call last)",
      "Cell \u001b[1;32mIn[35], line 1\u001b[0m\n\u001b[1;32m----> 1\u001b[0m fun4(\u001b[38;5;124m\"\u001b[39m\u001b[38;5;124mC++\u001b[39m\u001b[38;5;124m\"\u001b[39m)\n",
      "\u001b[1;31mTypeError\u001b[0m: fun4() takes 0 positional arguments but 1 was given"
     ]
    }
   ],
   "source": [
    "fun4(\"C++\")"
   ]
  },
  {
   "cell_type": "code",
   "execution_count": 36,
   "id": "4f1b7002-cce8-4de2-bd97-7bd1324cb95b",
   "metadata": {},
   "outputs": [
    {
     "data": {
      "text/plain": [
       "{'name': 'amit'}"
      ]
     },
     "execution_count": 36,
     "metadata": {},
     "output_type": "execute_result"
    }
   ],
   "source": [
    "fun4(name = \"amit\")"
   ]
  },
  {
   "cell_type": "code",
   "execution_count": 37,
   "id": "933c9831-c7ed-480e-971c-f7b6a140562d",
   "metadata": {},
   "outputs": [
    {
     "data": {
      "text/plain": [
       "{'name': 'amit', 'name2': 'xyz'}"
      ]
     },
     "execution_count": 37,
     "metadata": {},
     "output_type": "execute_result"
    }
   ],
   "source": [
    "fun4(name = \"amit\", name2 = \"xyz\")"
   ]
  },
  {
   "cell_type": "code",
   "execution_count": null,
   "id": "bb6aab1b-a654-4009-8140-1a3f33c43bce",
   "metadata": {},
   "outputs": [],
   "source": [
    "print(end= \" \")"
   ]
  },
  {
   "cell_type": "code",
   "execution_count": 38,
   "id": "550b988a-adcb-4fd8-b5a4-cd650066859d",
   "metadata": {},
   "outputs": [
    {
     "ename": "SyntaxError",
     "evalue": "arguments cannot follow var-keyword argument (432882994.py, line 1)",
     "output_type": "error",
     "traceback": [
      "\u001b[1;36m  Cell \u001b[1;32mIn[38], line 1\u001b[1;36m\u001b[0m\n\u001b[1;33m    def fun5(**a, *b, c):\u001b[0m\n\u001b[1;37m                  ^\u001b[0m\n\u001b[1;31mSyntaxError\u001b[0m\u001b[1;31m:\u001b[0m arguments cannot follow var-keyword argument\n"
     ]
    }
   ],
   "source": [
    "def fun5(**a, *b, c):\n",
    "    return a,b,c"
   ]
  },
  {
   "cell_type": "code",
   "execution_count": 39,
   "id": "f533c0c8-2b8e-4285-bfad-9a400bbe4f40",
   "metadata": {},
   "outputs": [],
   "source": [
    "def fun5( *b, c,**a):\n",
    "    return a,b,c"
   ]
  },
  {
   "cell_type": "code",
   "execution_count": 40,
   "id": "de19af98-d62c-4a29-8a18-502d774f8191",
   "metadata": {},
   "outputs": [
    {
     "ename": "TypeError",
     "evalue": "fun5() missing 1 required keyword-only argument: 'c'",
     "output_type": "error",
     "traceback": [
      "\u001b[1;31m---------------------------------------------------------------------------\u001b[0m",
      "\u001b[1;31mTypeError\u001b[0m                                 Traceback (most recent call last)",
      "Cell \u001b[1;32mIn[40], line 1\u001b[0m\n\u001b[1;32m----> 1\u001b[0m fun5(\u001b[38;5;241m12\u001b[39m, \u001b[38;5;124m\"\u001b[39m\u001b[38;5;124mxyz\u001b[39m\u001b[38;5;124m\"\u001b[39m, lang \u001b[38;5;241m=\u001b[39m \u001b[38;5;124m\"\u001b[39m\u001b[38;5;124mpython\u001b[39m\u001b[38;5;124m\"\u001b[39m)\n",
      "\u001b[1;31mTypeError\u001b[0m: fun5() missing 1 required keyword-only argument: 'c'"
     ]
    }
   ],
   "source": [
    "fun5(12, \"xyz\", lang = \"python\")"
   ]
  },
  {
   "cell_type": "code",
   "execution_count": 41,
   "id": "348f1086-9fac-4ec8-9ff9-bb3164e24766",
   "metadata": {},
   "outputs": [],
   "source": [
    "def fun5( c, *b,**a):\n",
    "    return a,b,c"
   ]
  },
  {
   "cell_type": "code",
   "execution_count": 42,
   "id": "28e06c7c-5867-4ba7-9550-193bfb1d72dc",
   "metadata": {},
   "outputs": [
    {
     "data": {
      "text/plain": [
       "({'lang': 'python'}, ('xyz',), 12)"
      ]
     },
     "execution_count": 42,
     "metadata": {},
     "output_type": "execute_result"
    }
   ],
   "source": [
    "fun5(12, \"xyz\", lang = \"python\")"
   ]
  },
  {
   "cell_type": "code",
   "execution_count": 43,
   "id": "ac9191e8-002b-4f8b-89da-61b3ffa29985",
   "metadata": {},
   "outputs": [
    {
     "data": {
      "text/plain": [
       "({'lang': 'python'}, (), 12)"
      ]
     },
     "execution_count": 43,
     "metadata": {},
     "output_type": "execute_result"
    }
   ],
   "source": [
    "fun5(12, lang = \"python\")"
   ]
  },
  {
   "cell_type": "code",
   "execution_count": 44,
   "id": "abcd3129-0345-4dc9-8d9e-0c28d70641f1",
   "metadata": {},
   "outputs": [
    {
     "name": "stdout",
     "output_type": "stream",
     "text": [
      "\n"
     ]
    }
   ],
   "source": [
    "print()"
   ]
  },
  {
   "cell_type": "code",
   "execution_count": 45,
   "id": "92d2f782-5d95-48b1-875a-13a554fa6aeb",
   "metadata": {},
   "outputs": [],
   "source": [
    "def fun6(z):\n",
    "    \"\"\"this is my first \n",
    "    doct string\"\"\"\n",
    "    return z"
   ]
  },
  {
   "cell_type": "code",
   "execution_count": 46,
   "id": "e0b39641-66e3-4b24-9a04-ca5ce0c6620e",
   "metadata": {},
   "outputs": [
    {
     "data": {
      "text/plain": [
       "7"
      ]
     },
     "execution_count": 46,
     "metadata": {},
     "output_type": "execute_result"
    }
   ],
   "source": [
    "fun6(7)"
   ]
  },
  {
   "cell_type": "code",
   "execution_count": 48,
   "id": "4e9301ae-7ca0-407e-bc55-f9c2d8ee65e0",
   "metadata": {},
   "outputs": [],
   "source": [
    "import seaborn as sns"
   ]
  },
  {
   "cell_type": "code",
   "execution_count": 49,
   "id": "478a1e28-41bd-4df0-83d4-27b9de3003ca",
   "metadata": {},
   "outputs": [
    {
     "ename": "AttributeError",
     "evalue": "module 'seaborn' has no attribute 'pl'",
     "output_type": "error",
     "traceback": [
      "\u001b[1;31m---------------------------------------------------------------------------\u001b[0m",
      "\u001b[1;31mAttributeError\u001b[0m                            Traceback (most recent call last)",
      "Cell \u001b[1;32mIn[49], line 1\u001b[0m\n\u001b[1;32m----> 1\u001b[0m sns\u001b[38;5;241m.\u001b[39mpl\n",
      "\u001b[1;31mAttributeError\u001b[0m: module 'seaborn' has no attribute 'pl'"
     ]
    }
   ],
   "source": [
    "sns.barplot"
   ]
  },
  {
   "cell_type": "code",
   "execution_count": 50,
   "id": "d6e98e32-8e4c-4aad-b8e9-251de0114fc3",
   "metadata": {},
   "outputs": [],
   "source": [
    "def fun7(a, b):\n",
    "    c = a-b\n",
    "    return c"
   ]
  },
  {
   "cell_type": "code",
   "execution_count": 52,
   "id": "ab7ba06f-b5db-45b6-84f3-f3df79e3a5a6",
   "metadata": {},
   "outputs": [
    {
     "data": {
      "text/plain": [
       "4"
      ]
     },
     "execution_count": 52,
     "metadata": {},
     "output_type": "execute_result"
    }
   ],
   "source": [
    "fun7(10,6)"
   ]
  },
  {
   "cell_type": "code",
   "execution_count": 53,
   "id": "bf433cf6-4b47-43ac-af2b-276b1edc583e",
   "metadata": {},
   "outputs": [],
   "source": [
    "def fun7(a, b):\n",
    "    c = a-b\n",
    "    print(c) "
   ]
  },
  {
   "cell_type": "code",
   "execution_count": 54,
   "id": "c402f00a-efe4-4d6b-b848-dfee52b0d462",
   "metadata": {},
   "outputs": [
    {
     "name": "stdout",
     "output_type": "stream",
     "text": [
      "2\n"
     ]
    }
   ],
   "source": [
    "fun7(10,8)"
   ]
  },
  {
   "cell_type": "code",
   "execution_count": 56,
   "id": "22e42918-75d7-48e5-aa0f-40a9cd9b74cb",
   "metadata": {},
   "outputs": [],
   "source": [
    "def generate_full_name ():\n",
    "    first_name = 'Asabeneh'\n",
    "    last_name = 'Yetayeh'\n",
    "    space = ' '\n",
    "    full_name = first_name + space + last_name\n",
    "    print(full_name)"
   ]
  },
  {
   "cell_type": "code",
   "execution_count": 57,
   "id": "ca372769-50e4-4498-bd14-db14af64c3db",
   "metadata": {},
   "outputs": [
    {
     "name": "stdout",
     "output_type": "stream",
     "text": [
      "Asabeneh Yetayeh\n"
     ]
    }
   ],
   "source": [
    "generate_full_name()"
   ]
  },
  {
   "cell_type": "code",
   "execution_count": null,
   "id": "25d3cf4a-11cc-47b4-8a59-d9b9914e0fb5",
   "metadata": {},
   "outputs": [],
   "source": []
  },
  {
   "cell_type": "code",
   "execution_count": 58,
   "id": "582e6e72-d433-4538-a320-e2ed8f1e69af",
   "metadata": {},
   "outputs": [],
   "source": [
    "def greetings (name):\n",
    "    message = name + ', welcome to Python for Everyone!'\n",
    "    return message"
   ]
  },
  {
   "cell_type": "code",
   "execution_count": 59,
   "id": "d82a0586-e670-41fa-9306-24cb1c1d3e07",
   "metadata": {},
   "outputs": [
    {
     "data": {
      "text/plain": [
       "'amit, welcome to Python for Everyone!'"
      ]
     },
     "execution_count": 59,
     "metadata": {},
     "output_type": "execute_result"
    }
   ],
   "source": [
    "greetings(\"amit\")"
   ]
  },
  {
   "cell_type": "code",
   "execution_count": null,
   "id": "845d70eb-fb3b-49a2-9b94-788ddb923a97",
   "metadata": {},
   "outputs": [],
   "source": []
  },
  {
   "cell_type": "code",
   "execution_count": 60,
   "id": "e4334b97-54c5-4b70-935f-f908fb9dc578",
   "metadata": {},
   "outputs": [],
   "source": [
    "def area_of_circle (r):\n",
    "    PI = 3.14\n",
    "    area = PI * r ** 2\n",
    "    return area"
   ]
  },
  {
   "cell_type": "code",
   "execution_count": 62,
   "id": "90c4ecd1-a029-4625-9413-b5b6772678a4",
   "metadata": {},
   "outputs": [
    {
     "data": {
      "text/plain": [
       "28.26"
      ]
     },
     "execution_count": 62,
     "metadata": {},
     "output_type": "execute_result"
    }
   ],
   "source": [
    "area_of_circle(3)"
   ]
  },
  {
   "cell_type": "code",
   "execution_count": 66,
   "id": "2050e403-0f47-4b7e-b589-3a68f8b6a14f",
   "metadata": {},
   "outputs": [
    {
     "name": "stdout",
     "output_type": "stream",
     "text": [
      "0\n",
      "1\n",
      "3\n",
      "6\n",
      "10\n",
      "15\n",
      "21\n"
     ]
    }
   ],
   "source": [
    "total = 0\n",
    "\n",
    "for i in range(6+1):\n",
    "    total+=i\n",
    "    print(total)"
   ]
  },
  {
   "cell_type": "code",
   "execution_count": null,
   "id": "eca43518-0e95-4396-939f-fd4b2011c2fc",
   "metadata": {},
   "outputs": [],
   "source": []
  },
  {
   "cell_type": "code",
   "execution_count": 64,
   "id": "72dad232-19e1-40d3-bd7c-72114e8a1eb3",
   "metadata": {},
   "outputs": [],
   "source": [
    "def sum_of_numbers(n):\n",
    "    total = 0\n",
    "    for i in range(n+1):\n",
    "        total+=i\n",
    "    print(total)"
   ]
  },
  {
   "cell_type": "code",
   "execution_count": 65,
   "id": "cecd5d09-fe9f-44b0-bed3-db1fd16d26ed",
   "metadata": {},
   "outputs": [
    {
     "name": "stdout",
     "output_type": "stream",
     "text": [
      "21\n"
     ]
    }
   ],
   "source": [
    "sum_of_numbers(6)"
   ]
  },
  {
   "cell_type": "code",
   "execution_count": 73,
   "id": "9030d57f-2c95-4380-a1ca-ba2d83b963ea",
   "metadata": {},
   "outputs": [],
   "source": [
    "def list_items(*args):\n",
    "    \"\"\"Print all items passed as arguments.\"\"\"\n",
    "    for item in args:\n",
    "        print(item)"
   ]
  },
  {
   "cell_type": "code",
   "execution_count": 71,
   "id": "2fa5a4a1-48fd-4f1f-ae2c-bdd007b309c2",
   "metadata": {},
   "outputs": [
    {
     "name": "stdout",
     "output_type": "stream",
     "text": [
      "2\n",
      "7\n",
      "5\n",
      "9\n",
      "a\n"
     ]
    }
   ],
   "source": [
    "list_items(2,7,5,9,\"a\")"
   ]
  },
  {
   "cell_type": "code",
   "execution_count": 75,
   "id": "8a4ed8d7-4891-4795-8ebd-dde467add8b0",
   "metadata": {},
   "outputs": [],
   "source": [
    "def print_info(**kwargs):\n",
    "    \"\"\"Print key-value pairs passed as keyword arguments.\"\"\"\n",
    "    for key, value in kwargs.items():\n",
    "        print(f\"{key}: {value}\")"
   ]
  },
  {
   "cell_type": "code",
   "execution_count": 76,
   "id": "f7f34607-62f8-48a6-835f-bca4b44ebf4e",
   "metadata": {},
   "outputs": [
    {
     "name": "stdout",
     "output_type": "stream",
     "text": [
      "k1: v1\n",
      "k2: v2\n"
     ]
    }
   ],
   "source": [
    "print_info(k1 = \"v1\", k2 = \"v2\")"
   ]
  },
  {
   "cell_type": "code",
   "execution_count": 77,
   "id": "a57448ce-ad47-4d13-a6af-32952dfe3947",
   "metadata": {},
   "outputs": [],
   "source": [
    "def calculate_area(radius):\n",
    "    \"\"\"Calculate the area of a circle with the given radius.\"\"\"\n",
    "    import math\n",
    "    area = math.pi * (radius ** 2)\n",
    "    return area"
   ]
  },
  {
   "cell_type": "code",
   "execution_count": 78,
   "id": "8d1a7e32-01fb-4e9d-87c9-68d72dc04cca",
   "metadata": {},
   "outputs": [
    {
     "data": {
      "text/plain": [
       "153.93804002589985"
      ]
     },
     "execution_count": 78,
     "metadata": {},
     "output_type": "execute_result"
    }
   ],
   "source": [
    "calculate_area(7)"
   ]
  },
  {
   "cell_type": "code",
   "execution_count": 80,
   "id": "eb0add4f-7289-4eb9-8aa8-7047ad830804",
   "metadata": {},
   "outputs": [],
   "source": [
    "def factorial(n):\n",
    "    \"\"\"\n",
    "    Calculate the factorial of a non-negative integer n.\n",
    "    Parameters:\n",
    "    n (int): The number to calculate the factorial for.\n",
    "    Returns:\n",
    "    int: The factorial of n.\n",
    "    \"\"\"\n",
    "    if n < 0:\n",
    "        raise ValueError(\"Factorial is not defined for negative numbers\")\n",
    "    if n == 0 or n == 1:\n",
    "        return 1\n",
    "    return n * factorial(n - 1)"
   ]
  },
  {
   "cell_type": "code",
   "execution_count": 82,
   "id": "ee79c83c-a71d-4307-8527-b80a17a7a79a",
   "metadata": {},
   "outputs": [
    {
     "ename": "ValueError",
     "evalue": "Factorial is not defined for negative numbers",
     "output_type": "error",
     "traceback": [
      "\u001b[1;31m---------------------------------------------------------------------------\u001b[0m",
      "\u001b[1;31mValueError\u001b[0m                                Traceback (most recent call last)",
      "Cell \u001b[1;32mIn[82], line 1\u001b[0m\n\u001b[1;32m----> 1\u001b[0m factorial(\u001b[38;5;241m-\u001b[39m\u001b[38;5;241m5\u001b[39m)\n",
      "Cell \u001b[1;32mIn[80], line 10\u001b[0m, in \u001b[0;36mfactorial\u001b[1;34m(n)\u001b[0m\n\u001b[0;32m      2\u001b[0m \u001b[38;5;250m\u001b[39m\u001b[38;5;124;03m\"\"\"\u001b[39;00m\n\u001b[0;32m      3\u001b[0m \u001b[38;5;124;03mCalculate the factorial of a non-negative integer n.\u001b[39;00m\n\u001b[0;32m      4\u001b[0m \u001b[38;5;124;03mParameters:\u001b[39;00m\n\u001b[1;32m   (...)\u001b[0m\n\u001b[0;32m      7\u001b[0m \u001b[38;5;124;03mint: The factorial of n.\u001b[39;00m\n\u001b[0;32m      8\u001b[0m \u001b[38;5;124;03m\"\"\"\u001b[39;00m\n\u001b[0;32m      9\u001b[0m \u001b[38;5;28;01mif\u001b[39;00m n \u001b[38;5;241m<\u001b[39m \u001b[38;5;241m0\u001b[39m:\n\u001b[1;32m---> 10\u001b[0m     \u001b[38;5;28;01mraise\u001b[39;00m \u001b[38;5;167;01mValueError\u001b[39;00m(\u001b[38;5;124m\"\u001b[39m\u001b[38;5;124mFactorial is not defined for negative numbers\u001b[39m\u001b[38;5;124m\"\u001b[39m)\n\u001b[0;32m     11\u001b[0m \u001b[38;5;28;01mif\u001b[39;00m n \u001b[38;5;241m==\u001b[39m \u001b[38;5;241m0\u001b[39m \u001b[38;5;129;01mor\u001b[39;00m n \u001b[38;5;241m==\u001b[39m \u001b[38;5;241m1\u001b[39m:\n\u001b[0;32m     12\u001b[0m     \u001b[38;5;28;01mreturn\u001b[39;00m \u001b[38;5;241m1\u001b[39m\n",
      "\u001b[1;31mValueError\u001b[0m: Factorial is not defined for negative numbers"
     ]
    }
   ],
   "source": [
    "factorial(-5)"
   ]
  },
  {
   "cell_type": "code",
   "execution_count": 85,
   "id": "89681fb0-26d7-4bbb-9655-5d52ee95d43f",
   "metadata": {},
   "outputs": [],
   "source": [
    "def is_prime(n):\n",
    "    \"\"\"\n",
    "    Check if a number is a prime number.\n",
    "    Parameters:\n",
    "    n (int): The number to check.\n",
    "    Returns:\n",
    "    bool: True if n is a prime number, False otherwise.\n",
    "    \"\"\"\n",
    "    if n <= 1:\n",
    "        return False\n",
    "    for i in range(2, int(n**0.5) + 1):\n",
    "        if n % i == 0:\n",
    "            return False\n",
    "    return True"
   ]
  },
  {
   "cell_type": "code",
   "execution_count": 90,
   "id": "e5f10e68-9928-498c-8856-f81eff35c377",
   "metadata": {},
   "outputs": [
    {
     "data": {
      "text/plain": [
       "True"
      ]
     },
     "execution_count": 90,
     "metadata": {},
     "output_type": "execute_result"
    }
   ],
   "source": [
    "is_prime(109)"
   ]
  },
  {
   "cell_type": "code",
   "execution_count": 92,
   "id": "9743ba4a-838d-4ae1-b594-12e5698488ea",
   "metadata": {},
   "outputs": [],
   "source": [
    "def find_max(lst):\n",
    "    \"\"\"\n",
    "    Find the maximum value in a list of numbers.\n",
    "    Parameters:\n",
    "    lst (list of int/float): The list to search.\n",
    "    Returns:\n",
    "    int/float: The maximum value in the list.\n",
    "    \"\"\"\n",
    "    if not lst:\n",
    "        raise ValueError(\"List is empty\")\n",
    "    max_value = lst[0]\n",
    "    for item in lst[1:]:\n",
    "        if item > max_value:\n",
    "            max_value = item\n",
    "    return max_value"
   ]
  },
  {
   "cell_type": "code",
   "execution_count": 93,
   "id": "5b9ec675-bcb8-4867-b9af-d1e78b84104e",
   "metadata": {},
   "outputs": [
    {
     "data": {
      "text/plain": [
       "88"
      ]
     },
     "execution_count": 93,
     "metadata": {},
     "output_type": "execute_result"
    }
   ],
   "source": [
    "find_max([2,1,6,88,22])"
   ]
  },
  {
   "cell_type": "code",
   "execution_count": 94,
   "id": "48181e03-44a2-4c7a-be18-f5eef580f1f1",
   "metadata": {},
   "outputs": [
    {
     "data": {
      "text/plain": [
       "88"
      ]
     },
     "execution_count": 94,
     "metadata": {},
     "output_type": "execute_result"
    }
   ],
   "source": [
    "max([2,1,6,88,22])"
   ]
  },
  {
   "cell_type": "code",
   "execution_count": 95,
   "id": "f1475945-5c97-4c3a-9776-1839c75f6501",
   "metadata": {},
   "outputs": [],
   "source": [
    "def reverse_string(s):\n",
    "    \"\"\"\n",
    "    Reverse the input string.\n",
    "    Parameters:\n",
    "    s (str): The string to reverse.\n",
    "    Returns:\n",
    "    str: The reversed string.\n",
    "    \"\"\"\n",
    "    return s[::-1]"
   ]
  },
  {
   "cell_type": "code",
   "execution_count": 96,
   "id": "e0b6e1ff-df8d-4443-bbca-8f899709979f",
   "metadata": {},
   "outputs": [
    {
     "data": {
      "text/plain": [
       "'scitylana'"
      ]
     },
     "execution_count": 96,
     "metadata": {},
     "output_type": "execute_result"
    }
   ],
   "source": [
    "reverse_string(\"analytics\")"
   ]
  },
  {
   "cell_type": "code",
   "execution_count": 98,
   "id": "92409f80-08d6-4206-a32e-c67c3ef0ace3",
   "metadata": {},
   "outputs": [],
   "source": [
    "def fibonacci(n):\n",
    "    \"\"\"\n",
    "    Generate the first n numbers in the Fibonacci sequence.\n",
    "    Parameters:\n",
    "    n (int): The number of Fibonacci numbers to generate.\n",
    "    Returns:\n",
    "    list of int: The first n numbers in the Fibonacci sequence.\n",
    "    \"\"\"\n",
    "    if n <= 0:\n",
    "        return []\n",
    "    elif n == 1:\n",
    "        return [0]\n",
    "    \n",
    "    sequence = [0, 1]\n",
    "    while len(sequence) < n:\n",
    "        sequence.append(sequence[-1] + sequence[-2])\n",
    "    return sequence"
   ]
  },
  {
   "cell_type": "code",
   "execution_count": 99,
   "id": "118058b7-9820-45cc-842c-50daf3641e79",
   "metadata": {},
   "outputs": [
    {
     "data": {
      "text/plain": [
       "[0, 1, 1, 2, 3, 5, 8, 13]"
      ]
     },
     "execution_count": 99,
     "metadata": {},
     "output_type": "execute_result"
    }
   ],
   "source": [
    "fibonacci(8)"
   ]
  },
  {
   "cell_type": "code",
   "execution_count": 101,
   "id": "bc4c4291-1c9d-4532-9a71-c565bdf9ceca",
   "metadata": {},
   "outputs": [],
   "source": [
    "def count_occurrences(lst, item):\n",
    "    \"\"\"\n",
    "    Count the occurrences of an item in a list.\n",
    "    Parameters:\n",
    "    lst (list): The list to search.\n",
    "    item: The item to count.\n",
    "    Returns:\n",
    "    int: The number of times the item appears in the list.\n",
    "    \"\"\"\n",
    "    count = 0\n",
    "    for element in lst:\n",
    "        if element == item:\n",
    "            count += 1\n",
    "    return count"
   ]
  },
  {
   "cell_type": "code",
   "execution_count": 103,
   "id": "1217ce46-33ec-4f26-9c2f-d3cc6dcef540",
   "metadata": {},
   "outputs": [
    {
     "data": {
      "text/plain": [
       "2"
      ]
     },
     "execution_count": 103,
     "metadata": {},
     "output_type": "execute_result"
    }
   ],
   "source": [
    "count_occurrences([0, 1, 1, 2, 3, 5, 8, 13],1)"
   ]
  },
  {
   "cell_type": "code",
   "execution_count": 105,
   "id": "310e9bde-5831-4e9e-a961-d3afd3579ccb",
   "metadata": {},
   "outputs": [],
   "source": [
    "def is_palindrome(s):\n",
    "    \"\"\"\n",
    "    Check if a string is a palindrome.\n",
    "    Parameters:\n",
    "    s (str): The string to check.\n",
    "    Returns:\n",
    "    bool: True if the string is a palindrome, False otherwise.\n",
    "    \"\"\"\n",
    "    s = s.lower().replace(\" \", \"\")  # Normalize the string\n",
    "    return s == s[::-1]"
   ]
  },
  {
   "cell_type": "code",
   "execution_count": 108,
   "id": "9fb32331-bb82-433a-bd6e-39c6846f0b38",
   "metadata": {},
   "outputs": [
    {
     "data": {
      "text/plain": [
       "False"
      ]
     },
     "execution_count": 108,
     "metadata": {},
     "output_type": "execute_result"
    }
   ],
   "source": [
    "is_palindrome(\"rahul\")"
   ]
  },
  {
   "cell_type": "code",
   "execution_count": null,
   "id": "665e69d9-4c0f-49db-a30c-cdf70e33b03e",
   "metadata": {},
   "outputs": [],
   "source": []
  },
  {
   "cell_type": "code",
   "execution_count": 117,
   "id": "8e94ec30-3f3a-4f10-ad55-be0e7bf258ac",
   "metadata": {},
   "outputs": [],
   "source": [
    "x = \"awesome\"\n",
    "\n",
    "def myfunc():\n",
    "  x = \"fantastic\"\n",
    "  print(\"Python is \" + x)"
   ]
  },
  {
   "cell_type": "code",
   "execution_count": 118,
   "id": "eb37b8d5-7480-4bb0-8063-c24e34392d32",
   "metadata": {},
   "outputs": [
    {
     "name": "stdout",
     "output_type": "stream",
     "text": [
      "Python is fantastic\n"
     ]
    }
   ],
   "source": [
    "myfunc()"
   ]
  },
  {
   "cell_type": "code",
   "execution_count": 111,
   "id": "1871a02f-32b5-4fcd-9a35-b9b0b90ed768",
   "metadata": {},
   "outputs": [
    {
     "data": {
      "text/plain": [
       "'awesome'"
      ]
     },
     "execution_count": 111,
     "metadata": {},
     "output_type": "execute_result"
    }
   ],
   "source": [
    "x"
   ]
  },
  {
   "cell_type": "code",
   "execution_count": 119,
   "id": "bdc052be-9851-4168-acce-c0b8933aaca7",
   "metadata": {},
   "outputs": [],
   "source": [
    "#If you use the global keyword, the variable belongs to the global scope:\n",
    "\n",
    "def myfunc():\n",
    "    global y\n",
    "    y = \"fantastic\"\n",
    "    return y"
   ]
  },
  {
   "cell_type": "code",
   "execution_count": 120,
   "id": "0fc070fd-6f80-4fb1-b262-7ae689e04420",
   "metadata": {},
   "outputs": [
    {
     "data": {
      "text/plain": [
       "'fantastic'"
      ]
     },
     "execution_count": 120,
     "metadata": {},
     "output_type": "execute_result"
    }
   ],
   "source": [
    "myfunc()"
   ]
  },
  {
   "cell_type": "code",
   "execution_count": 122,
   "id": "4402a38d-8535-4fa7-b753-4886c8771a17",
   "metadata": {},
   "outputs": [
    {
     "data": {
      "text/plain": [
       "'fantasticawesome'"
      ]
     },
     "execution_count": 122,
     "metadata": {},
     "output_type": "execute_result"
    }
   ],
   "source": [
    "y + x"
   ]
  },
  {
   "cell_type": "code",
   "execution_count": 124,
   "id": "44ac92c2-530a-4f24-82b5-991afb18f437",
   "metadata": {},
   "outputs": [],
   "source": [
    "global y"
   ]
  },
  {
   "cell_type": "code",
   "execution_count": 125,
   "id": "f106c5c9-257f-480b-85bd-eb676db5c35a",
   "metadata": {},
   "outputs": [
    {
     "ename": "SyntaxError",
     "evalue": "name 'y' is assigned to before global declaration (1228513097.py, line 3)",
     "output_type": "error",
     "traceback": [
      "\u001b[1;36m  Cell \u001b[1;32mIn[125], line 3\u001b[1;36m\u001b[0m\n\u001b[1;33m    global y\u001b[0m\n\u001b[1;37m    ^\u001b[0m\n\u001b[1;31mSyntaxError\u001b[0m\u001b[1;31m:\u001b[0m name 'y' is assigned to before global declaration\n"
     ]
    }
   ],
   "source": [
    "def myfunc():\n",
    "    y = \"fantastic\"\n",
    "    global y\n",
    "    return y"
   ]
  },
  {
   "cell_type": "code",
   "execution_count": null,
   "id": "e6defbb4-7a53-4f50-8b98-c360eaf0cac9",
   "metadata": {},
   "outputs": [],
   "source": []
  }
 ],
 "metadata": {
  "kernelspec": {
   "display_name": "Python 3 (ipykernel)",
   "language": "python",
   "name": "python3"
  },
  "language_info": {
   "codemirror_mode": {
    "name": "ipython",
    "version": 3
   },
   "file_extension": ".py",
   "mimetype": "text/x-python",
   "name": "python",
   "nbconvert_exporter": "python",
   "pygments_lexer": "ipython3",
   "version": "3.11.7"
  }
 },
 "nbformat": 4,
 "nbformat_minor": 5
}
