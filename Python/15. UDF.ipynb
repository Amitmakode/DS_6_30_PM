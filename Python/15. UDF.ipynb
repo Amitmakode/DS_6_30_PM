{
 "cells": [
  {
   "cell_type": "markdown",
   "id": "e690d0a0-b4b8-43f8-9458-11b7d208622c",
   "metadata": {},
   "source": [
    "### List Comprehension"
   ]
  },
  {
   "cell_type": "code",
   "execution_count": 2,
   "id": "aae878f2-b8d7-450a-a5ac-e0b115862dba",
   "metadata": {},
   "outputs": [],
   "source": [
    "l1  =list(range(5))"
   ]
  },
  {
   "cell_type": "code",
   "execution_count": 4,
   "id": "829892b6-de35-49a0-a2ee-ddb604ba6cb0",
   "metadata": {},
   "outputs": [
    {
     "name": "stdout",
     "output_type": "stream",
     "text": [
      "0 1 2 3 4 "
     ]
    }
   ],
   "source": [
    "for i in l1:\n",
    "    print(i, end = \" \")"
   ]
  },
  {
   "cell_type": "code",
   "execution_count": 5,
   "id": "2a2dca1c-ebf4-4fd0-8c72-d646d117acca",
   "metadata": {},
   "outputs": [],
   "source": [
    "var = \"python\""
   ]
  },
  {
   "cell_type": "code",
   "execution_count": 6,
   "id": "32f90a6a-9f6c-443d-8647-4d2cf3758e4a",
   "metadata": {},
   "outputs": [
    {
     "name": "stdout",
     "output_type": "stream",
     "text": [
      "p\n",
      "y\n",
      "t\n",
      "h\n",
      "o\n",
      "n\n"
     ]
    }
   ],
   "source": [
    "for i in var:\n",
    "    print(i)"
   ]
  },
  {
   "cell_type": "code",
   "execution_count": 7,
   "id": "5c1504c8-175d-41b7-9fc9-56962c277ab3",
   "metadata": {},
   "outputs": [
    {
     "data": {
      "text/plain": [
       "['p', 'y', 't', 'h', 'o', 'n']"
      ]
     },
     "execution_count": 7,
     "metadata": {},
     "output_type": "execute_result"
    }
   ],
   "source": [
    "[i for i in var]"
   ]
  },
  {
   "cell_type": "code",
   "execution_count": 9,
   "id": "f9729114-94ab-4370-b6ab-78869131cfb2",
   "metadata": {},
   "outputs": [
    {
     "data": {
      "text/plain": [
       "['p', 'y', 't', 'h', 'o', 'n']"
      ]
     },
     "execution_count": 9,
     "metadata": {},
     "output_type": "execute_result"
    }
   ],
   "source": [
    "list((i for i in var))"
   ]
  },
  {
   "cell_type": "code",
   "execution_count": 10,
   "id": "4058db89-5710-4428-8f4c-59303ca7d904",
   "metadata": {},
   "outputs": [
    {
     "data": {
      "text/plain": [
       "{'h', 'n', 'o', 'p', 't', 'y'}"
      ]
     },
     "execution_count": 10,
     "metadata": {},
     "output_type": "execute_result"
    }
   ],
   "source": [
    "{i for i in var}"
   ]
  },
  {
   "cell_type": "code",
   "execution_count": 15,
   "id": "22c7ffb9-74dd-4e33-b725-20bada1efd9f",
   "metadata": {},
   "outputs": [
    {
     "data": {
      "text/plain": [
       "[{0, ':', int},\n",
       " {1, ':', int},\n",
       " {4, ':', int},\n",
       " {9, ':', int},\n",
       " {16, ':', int},\n",
       " {25, ':', int},\n",
       " {36, ':', int},\n",
       " {49, ':', int},\n",
       " {64, ':', int},\n",
       " {81, ':', int}]"
      ]
     },
     "execution_count": 15,
     "metadata": {},
     "output_type": "execute_result"
    }
   ],
   "source": [
    "[{i**2, \":\",type(i)} for i in range(10)]"
   ]
  },
  {
   "cell_type": "code",
   "execution_count": 16,
   "id": "e5dc3d83-8f8e-4e8b-8b7c-8746ed258529",
   "metadata": {},
   "outputs": [
    {
     "data": {
      "text/plain": [
       "[{'0:type0'},\n",
       " {'1:type1'},\n",
       " {'4:type2'},\n",
       " {'9:type3'},\n",
       " {'16:type4'},\n",
       " {'25:type5'},\n",
       " {'36:type6'},\n",
       " {'49:type7'},\n",
       " {'64:type8'},\n",
       " {'81:type9'}]"
      ]
     },
     "execution_count": 16,
     "metadata": {},
     "output_type": "execute_result"
    }
   ],
   "source": [
    "[{f\"{i**2}:type{i}\"} for i in range(10)]"
   ]
  },
  {
   "cell_type": "code",
   "execution_count": 17,
   "id": "7239b9a7-ee7d-4f91-ab0f-066091573b87",
   "metadata": {},
   "outputs": [
    {
     "data": {
      "text/plain": [
       "[0, 0, 0, 1, 1, 1, 2, 2, 2, 3, 3, 3, 4, 4, 4]"
      ]
     },
     "execution_count": 17,
     "metadata": {},
     "output_type": "execute_result"
    }
   ],
   "source": [
    "[i for i in range(5) for j in range(3)]"
   ]
  },
  {
   "cell_type": "code",
   "execution_count": 20,
   "id": "b7fad258-ef78-494d-8899-ccf61952d0c9",
   "metadata": {},
   "outputs": [
    {
     "data": {
      "text/plain": [
       "[0, 2, 4, 6, 8, 10]"
      ]
     },
     "execution_count": 20,
     "metadata": {},
     "output_type": "execute_result"
    }
   ],
   "source": [
    "[i for i in range(11) if i % 2 == 0]"
   ]
  },
  {
   "cell_type": "code",
   "execution_count": 21,
   "id": "55828a96-4876-4116-b687-b6b3a7073acf",
   "metadata": {},
   "outputs": [],
   "source": [
    "def list_comprehension(n):\n",
    "    return [i**2 for i in range(n)]"
   ]
  },
  {
   "cell_type": "code",
   "execution_count": 22,
   "id": "ea3e192a-7ace-4d04-b14f-d45a8b18abe2",
   "metadata": {},
   "outputs": [
    {
     "data": {
      "text/plain": [
       "[0, 1, 4, 9]"
      ]
     },
     "execution_count": 22,
     "metadata": {},
     "output_type": "execute_result"
    }
   ],
   "source": [
    "list_comprehension(4)"
   ]
  },
  {
   "cell_type": "code",
   "execution_count": 23,
   "id": "fd3a6993-fca6-4aa5-bdce-363cbe61bc79",
   "metadata": {},
   "outputs": [
    {
     "data": {
      "text/plain": [
       "['Even number',\n",
       " 'Odd number',\n",
       " 'Even number',\n",
       " 'Odd number',\n",
       " 'Even number',\n",
       " 'Odd number',\n",
       " 'Even number',\n",
       " 'Odd number']"
      ]
     },
     "execution_count": 23,
     "metadata": {},
     "output_type": "execute_result"
    }
   ],
   "source": [
    "[\"Even number\" if i % 2 == 0 else \"Odd number\" for i in range(8)]"
   ]
  },
  {
   "cell_type": "code",
   "execution_count": 24,
   "id": "d810e7a6-11f1-48fb-9134-2cc1c647ad94",
   "metadata": {},
   "outputs": [
    {
     "data": {
      "text/plain": [
       "[0, 15, 30, 45, 60, 75, 90]"
      ]
     },
     "execution_count": 24,
     "metadata": {},
     "output_type": "execute_result"
    }
   ],
   "source": [
    "[i for i in range(100)  if i % 5 == 0 if i % 3 == 0]"
   ]
  },
  {
   "cell_type": "code",
   "execution_count": 25,
   "id": "a1c19459-1e2f-4dce-99c3-f56142c72161",
   "metadata": {},
   "outputs": [
    {
     "data": {
      "text/plain": [
       "[[0, 1, 2, 3, 4],\n",
       " [0, 1, 2, 3, 4],\n",
       " [0, 1, 2, 3, 4],\n",
       " [0, 1, 2, 3, 4],\n",
       " [0, 1, 2, 3, 4],\n",
       " [0, 1, 2, 3, 4]]"
      ]
     },
     "execution_count": 25,
     "metadata": {},
     "output_type": "execute_result"
    }
   ],
   "source": [
    "matrix = [[i for i in range(5)] for _ in range(6)]\n",
    "matrix"
   ]
  },
  {
   "cell_type": "markdown",
   "id": "daf1795f-40a3-44f0-a903-92d82d079c3c",
   "metadata": {},
   "source": [
    "## Lambda Function"
   ]
  },
  {
   "cell_type": "code",
   "execution_count": 27,
   "id": "0ba88ac9-f6ac-4a5d-91a1-8347f240c831",
   "metadata": {},
   "outputs": [],
   "source": [
    "v1 = lambda a , b : a + b"
   ]
  },
  {
   "cell_type": "code",
   "execution_count": 28,
   "id": "94f854d3-5a5e-47bd-b458-4a05412beac8",
   "metadata": {},
   "outputs": [
    {
     "data": {
      "text/plain": [
       "10"
      ]
     },
     "execution_count": 28,
     "metadata": {},
     "output_type": "execute_result"
    }
   ],
   "source": [
    "v1(2, 8)"
   ]
  },
  {
   "cell_type": "code",
   "execution_count": 29,
   "id": "1555aad8-69fe-4dfc-9857-7b1d7060111a",
   "metadata": {},
   "outputs": [],
   "source": [
    "v2 = lambda a , b : a + b"
   ]
  },
  {
   "cell_type": "code",
   "execution_count": 30,
   "id": "26eeab7b-3cff-432c-a6ac-661f40c51ade",
   "metadata": {},
   "outputs": [
    {
     "data": {
      "text/plain": [
       "11"
      ]
     },
     "execution_count": 30,
     "metadata": {},
     "output_type": "execute_result"
    }
   ],
   "source": [
    "v2(4, 7)"
   ]
  },
  {
   "cell_type": "code",
   "execution_count": 32,
   "id": "9d2ad571-8c53-4434-90a9-b990dd1cab4b",
   "metadata": {},
   "outputs": [],
   "source": [
    "v3 = lambda str : str.upper()"
   ]
  },
  {
   "cell_type": "code",
   "execution_count": 33,
   "id": "5afee578-a2e8-4bfe-b09d-18621ce719c1",
   "metadata": {},
   "outputs": [
    {
     "data": {
      "text/plain": [
       "'JAVA'"
      ]
     },
     "execution_count": 33,
     "metadata": {},
     "output_type": "execute_result"
    }
   ],
   "source": [
    "v3(\"java\")"
   ]
  },
  {
   "cell_type": "code",
   "execution_count": 34,
   "id": "c4627fc9-3cc2-48d0-94f3-0dde8817189e",
   "metadata": {},
   "outputs": [],
   "source": [
    "is_even_list = [lambda arg=x: arg * 10 for x in range(1, 5)]"
   ]
  },
  {
   "cell_type": "code",
   "execution_count": 35,
   "id": "57259cf6-5127-4964-a637-1c496cf85327",
   "metadata": {},
   "outputs": [
    {
     "data": {
      "text/plain": [
       "[<function __main__.<listcomp>.<lambda>(arg=1)>,\n",
       " <function __main__.<listcomp>.<lambda>(arg=2)>,\n",
       " <function __main__.<listcomp>.<lambda>(arg=3)>,\n",
       " <function __main__.<listcomp>.<lambda>(arg=4)>]"
      ]
     },
     "execution_count": 35,
     "metadata": {},
     "output_type": "execute_result"
    }
   ],
   "source": [
    "is_even_list"
   ]
  },
  {
   "cell_type": "code",
   "execution_count": 36,
   "id": "e70ce6d4-eb5d-434e-8e80-28d0487bc257",
   "metadata": {},
   "outputs": [
    {
     "name": "stdout",
     "output_type": "stream",
     "text": [
      "10\n",
      "20\n",
      "30\n",
      "40\n"
     ]
    }
   ],
   "source": [
    "for item in is_even_list:\n",
    "    print(item())"
   ]
  },
  {
   "cell_type": "code",
   "execution_count": 37,
   "id": "421dbe9a-67e5-45af-b90e-9694148003e0",
   "metadata": {},
   "outputs": [],
   "source": [
    "Max = lambda a, b : a if(a > b) else b"
   ]
  },
  {
   "cell_type": "code",
   "execution_count": 38,
   "id": "493580ac-fba4-4519-9140-a48022217344",
   "metadata": {},
   "outputs": [
    {
     "data": {
      "text/plain": [
       "7"
      ]
     },
     "execution_count": 38,
     "metadata": {},
     "output_type": "execute_result"
    }
   ],
   "source": [
    "Max(3,7)"
   ]
  },
  {
   "cell_type": "code",
   "execution_count": 42,
   "id": "acbbd432-8b2a-4065-9063-acd200d4e632",
   "metadata": {},
   "outputs": [],
   "source": [
    "List = [[2,3,4,1],[14, 4, 16, 64],[30, 16, 9, 12]]\n",
    "\n",
    "sortList = lambda x: (sorted(i) for i in x)"
   ]
  },
  {
   "cell_type": "code",
   "execution_count": 43,
   "id": "06739213-3fb5-42a0-b3b6-0362f6fcae86",
   "metadata": {},
   "outputs": [
    {
     "data": {
      "text/plain": [
       "[[1, 2, 3, 4], [4, 14, 16, 64], [9, 12, 16, 30]]"
      ]
     },
     "execution_count": 43,
     "metadata": {},
     "output_type": "execute_result"
    }
   ],
   "source": [
    "list(sortList(List))"
   ]
  },
  {
   "cell_type": "code",
   "execution_count": null,
   "id": "d42a9cb7-322c-4edf-a60b-12443af3a2d8",
   "metadata": {},
   "outputs": [],
   "source": []
  },
  {
   "cell_type": "code",
   "execution_count": 44,
   "id": "f1146b2c-9053-46bf-89e7-027a8a84da97",
   "metadata": {},
   "outputs": [],
   "source": [
    "def factorial(n):\n",
    "    if n == 0:\n",
    "        return 1\n",
    "    return n * factorial(n - 1)\n"
   ]
  },
  {
   "cell_type": "code",
   "execution_count": 45,
   "id": "a6a56147-706e-44b8-ac07-93de7d6d276e",
   "metadata": {},
   "outputs": [
    {
     "name": "stdout",
     "output_type": "stream",
     "text": [
      "120\n"
     ]
    }
   ],
   "source": [
    "print(factorial(5)) "
   ]
  },
  {
   "cell_type": "code",
   "execution_count": 47,
   "id": "678c63ba-d58f-4e27-ab37-c70cde45437f",
   "metadata": {},
   "outputs": [],
   "source": [
    "def shout(text):\n",
    "    return text.upper()\n",
    "\n",
    "def process(func, text):\n",
    "    return func(text)"
   ]
  },
  {
   "cell_type": "code",
   "execution_count": 48,
   "id": "51f0c82e-cc5c-4ed0-8804-9147d1fbd1b3",
   "metadata": {},
   "outputs": [
    {
     "name": "stdout",
     "output_type": "stream",
     "text": [
      "HELLO\n"
     ]
    }
   ],
   "source": [
    "print(process(shout, \"hello\"))"
   ]
  },
  {
   "cell_type": "code",
   "execution_count": 49,
   "id": "d24716c1-73c6-4d25-8ffa-dda7dc7f3b68",
   "metadata": {},
   "outputs": [
    {
     "data": {
      "text/plain": [
       "'HELLO'"
      ]
     },
     "execution_count": 49,
     "metadata": {},
     "output_type": "execute_result"
    }
   ],
   "source": [
    "shout(\"hello\")"
   ]
  },
  {
   "cell_type": "code",
   "execution_count": 50,
   "id": "75f9b65e-0a05-4107-9dd3-5db9ee18a05b",
   "metadata": {},
   "outputs": [],
   "source": [
    "def outer():\n",
    "    def inner():\n",
    "        return \"Inner Function\"\n",
    "    return inner\n"
   ]
  },
  {
   "cell_type": "code",
   "execution_count": 51,
   "id": "b482a6e6-643d-421a-9484-d5d2a2c7dbde",
   "metadata": {},
   "outputs": [
    {
     "name": "stdout",
     "output_type": "stream",
     "text": [
      "Inner Function\n"
     ]
    }
   ],
   "source": [
    "func = outer()\n",
    "print(func()) "
   ]
  },
  {
   "cell_type": "code",
   "execution_count": 52,
   "id": "e9eb94be-1a36-4250-8763-f73a8f4797a7",
   "metadata": {},
   "outputs": [],
   "source": [
    "def outer():\n",
    "    def inner():\n",
    "        return \"Inner Function\""
   ]
  },
  {
   "cell_type": "code",
   "execution_count": 53,
   "id": "33dcb6c6-38b3-4130-bc67-bcf43e0cbce5",
   "metadata": {},
   "outputs": [],
   "source": [
    "outer()"
   ]
  },
  {
   "cell_type": "code",
   "execution_count": 58,
   "id": "1eeb1d99-dbef-40b1-a312-50819df02980",
   "metadata": {},
   "outputs": [],
   "source": [
    "def outer():\n",
    "    def inner():\n",
    "        return \"Inner Function\"\n",
    "    return \"hello \" + inner()    "
   ]
  },
  {
   "cell_type": "code",
   "execution_count": 59,
   "id": "6249ed9d-d939-4604-876b-4653a3711345",
   "metadata": {},
   "outputs": [
    {
     "data": {
      "text/plain": [
       "'hello Inner Function'"
      ]
     },
     "execution_count": 59,
     "metadata": {},
     "output_type": "execute_result"
    }
   ],
   "source": [
    "outer()"
   ]
  },
  {
   "cell_type": "raw",
   "id": "eb4bc70b-e788-4872-9b58-e3eb2cdcf9a6",
   "metadata": {},
   "source": [
    "What is a Decorator?\n",
    "A decorator is a function that takes another function as input, adds some extra functionality to it without modifying its original code, and returns the modified function.\n",
    "\n",
    "Think of it like:\n",
    "\n",
    "“Wrapping a gift (original function) with beautiful paper (decorator) to add something extra.”\n",
    "\n",
    "📌 Key Points:\n",
    "\n",
    "Decorators are built on higher-order functions\n",
    "\n",
    "Decorators use Python’s @ syntax sugar for cleaner code"
   ]
  },
  {
   "cell_type": "code",
   "execution_count": 60,
   "id": "2744ff24-5e52-40c8-80b3-b601521d3e5e",
   "metadata": {},
   "outputs": [],
   "source": [
    "def decorator_function(original_function):\n",
    "    def wrapper_function():\n",
    "        print(\"Wrapper: Before the original function\")\n",
    "        original_function()\n",
    "        print(\"Wrapper: After the original function\")\n",
    "    return wrapper_function"
   ]
  },
  {
   "cell_type": "code",
   "execution_count": 61,
   "id": "070ff053-4926-4caf-b22a-b9f2bf2e56a7",
   "metadata": {},
   "outputs": [],
   "source": [
    "@decorator_function  # This is equivalent to say_hello = my_decorator(say_hello)\n",
    "def say_hello():\n",
    "    print(\"Hello!\")"
   ]
  },
  {
   "cell_type": "code",
   "execution_count": 62,
   "id": "191655ef-c790-4f84-991e-8a2b4394efe2",
   "metadata": {},
   "outputs": [
    {
     "name": "stdout",
     "output_type": "stream",
     "text": [
      "Wrapper: Before the original function\n",
      "Hello!\n",
      "Wrapper: After the original function\n"
     ]
    }
   ],
   "source": [
    "say_hello()"
   ]
  },
  {
   "cell_type": "code",
   "execution_count": 63,
   "id": "f3190737-a292-4e4b-971e-6b4bf473e173",
   "metadata": {},
   "outputs": [
    {
     "name": "stdout",
     "output_type": "stream",
     "text": [
      "Before function is called\n",
      "Hello!\n",
      "After function is called\n"
     ]
    }
   ],
   "source": [
    "def my_decorator(func):\n",
    "    def wrapper():\n",
    "        print(\"Before function is called\")\n",
    "        func()\n",
    "        print(\"After function is called\")\n",
    "    return wrapper\n",
    "\n",
    "\n",
    "@my_decorator  # This is equivalent to say_hello = my_decorator(say_hello)\n",
    "def say_hello():\n",
    "    print(\"Hello!\")\n",
    "\n",
    "say_hello()"
   ]
  },
  {
   "cell_type": "raw",
   "id": "d75397d9-8937-4809-bf6f-a2bf8b2a17d8",
   "metadata": {},
   "source": [
    "Python comes with built-in decorators like:\n",
    "\n",
    "@staticmethod\n",
    "\n",
    "@classmethod\n",
    "\n",
    "@property"
   ]
  },
  {
   "cell_type": "code",
   "execution_count": null,
   "id": "0bbe5c7b-7137-4160-8377-31268f671a6b",
   "metadata": {},
   "outputs": [],
   "source": []
  },
  {
   "cell_type": "code",
   "execution_count": 64,
   "id": "c7e3d96d-d3c2-4841-9b68-38968ae37d6d",
   "metadata": {},
   "outputs": [],
   "source": [
    "def decorator1(func):\n",
    "    def wrapper():\n",
    "        print(\"Decorator 1\")\n",
    "        func()\n",
    "    return wrapper\n",
    "\n",
    "def decorator2(func):\n",
    "    def wrapper():\n",
    "        print(\"Decorator 2\")\n",
    "        func()\n",
    "    return wrapper\n",
    "\n",
    "@decorator1\n",
    "@decorator2\n",
    "def say_hi():\n",
    "    print(\"Hi!\")\n",
    "\n"
   ]
  },
  {
   "cell_type": "code",
   "execution_count": 65,
   "id": "4ea23d25-cf22-4f31-8de1-b71a48f1e22f",
   "metadata": {},
   "outputs": [
    {
     "name": "stdout",
     "output_type": "stream",
     "text": [
      "Decorator 1\n",
      "Decorator 2\n",
      "Hi!\n"
     ]
    }
   ],
   "source": [
    "say_hi()"
   ]
  },
  {
   "cell_type": "code",
   "execution_count": 67,
   "id": "7df45bca-63c2-40b6-846b-ee7ab6e461aa",
   "metadata": {},
   "outputs": [],
   "source": [
    "def fibonacci(n, a=0, b=1):\n",
    "    if n == 0:  # Base case\n",
    "        return\n",
    "    yield a  # Yield current value\n",
    "    yield from fibonacci(n-1, b, a+b)  # Recursive call"
   ]
  },
  {
   "cell_type": "code",
   "execution_count": 68,
   "id": "7475f8d4-6ab2-457a-9362-b310e31e8142",
   "metadata": {},
   "outputs": [
    {
     "data": {
      "text/plain": [
       "<generator object fibonacci at 0x00000145DA5F36A0>"
      ]
     },
     "execution_count": 68,
     "metadata": {},
     "output_type": "execute_result"
    }
   ],
   "source": [
    "fibonacci(4)"
   ]
  },
  {
   "cell_type": "code",
   "execution_count": 69,
   "id": "ae4f73eb-08dd-424a-8e17-062d99c67e9f",
   "metadata": {},
   "outputs": [
    {
     "name": "stdout",
     "output_type": "stream",
     "text": [
      "0 1 1 2 3 5 8 "
     ]
    }
   ],
   "source": [
    "# Print Fibonacci sequence with 7 terms\n",
    "for num in fibonacci(7):\n",
    "    print(num, end=\" \") "
   ]
  },
  {
   "cell_type": "code",
   "execution_count": null,
   "id": "c2f08d92-df58-49c2-ba36-f7bff505fc41",
   "metadata": {},
   "outputs": [],
   "source": [
    "print()"
   ]
  },
  {
   "cell_type": "code",
   "execution_count": null,
   "id": "b5caf275-60fe-4430-a519-d3c5233e0d10",
   "metadata": {},
   "outputs": [],
   "source": []
  }
 ],
 "metadata": {
  "kernelspec": {
   "display_name": "Python 3 (ipykernel)",
   "language": "python",
   "name": "python3"
  },
  "language_info": {
   "codemirror_mode": {
    "name": "ipython",
    "version": 3
   },
   "file_extension": ".py",
   "mimetype": "text/x-python",
   "name": "python",
   "nbconvert_exporter": "python",
   "pygments_lexer": "ipython3",
   "version": "3.11.7"
  }
 },
 "nbformat": 4,
 "nbformat_minor": 5
}
