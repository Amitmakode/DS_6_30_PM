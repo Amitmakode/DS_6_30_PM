{
 "cells": [
  {
   "cell_type": "raw",
   "id": "9afb3905-d083-4ab4-a393-80b30db94a17",
   "metadata": {},
   "source": [
    "omplete Python Object-Oriented Programming (OOP) Guide\n",
    "Object-Oriented Programming (OOP) is a programming paradigm that organizes code around objects and classes. Python supports all major OOP concepts, making it easier to write maintainable, reusable, and organized code."
   ]
  },
  {
   "cell_type": "code",
   "execution_count": 1,
   "id": "73a4b1c1-67f0-4bce-8cbb-fd64538cb459",
   "metadata": {},
   "outputs": [],
   "source": [
    "import pandas as pd"
   ]
  },
  {
   "cell_type": "markdown",
   "id": "d274790e-5f88-452e-9303-33288ce0f931",
   "metadata": {},
   "source": [
    "### OOPs "
   ]
  },
  {
   "cell_type": "code",
   "execution_count": 2,
   "id": "f955a354-aed3-421b-a1b1-a7faa3bbc52f",
   "metadata": {},
   "outputs": [],
   "source": [
    "class myfirstclass:\n",
    "\n",
    "    def add(self, a,b):\n",
    "        return a+b"
   ]
  },
  {
   "cell_type": "code",
   "execution_count": 3,
   "id": "6c1bfaa7-2596-45aa-b4a2-f0c2077824bf",
   "metadata": {},
   "outputs": [],
   "source": [
    "obj = myfirstclass()"
   ]
  },
  {
   "cell_type": "code",
   "execution_count": 4,
   "id": "ff057313-7600-4e8c-84c2-4415260ba4cd",
   "metadata": {},
   "outputs": [
    {
     "data": {
      "text/plain": [
       "11"
      ]
     },
     "execution_count": 4,
     "metadata": {},
     "output_type": "execute_result"
    }
   ],
   "source": [
    "obj.add(2,9)"
   ]
  },
  {
   "cell_type": "code",
   "execution_count": 6,
   "id": "851014cf-4b48-4331-84c2-ec5cc165b90d",
   "metadata": {},
   "outputs": [],
   "source": [
    "class person:\n",
    "\n",
    "    def __init__(self, name, age, profession):\n",
    "        self.name = name\n",
    "        self.age = age\n",
    "        self.profession = profession"
   ]
  },
  {
   "cell_type": "code",
   "execution_count": 8,
   "id": "c7b5a593-bcb3-4c8e-9069-a0b795a02cde",
   "metadata": {},
   "outputs": [],
   "source": [
    "obj = person(\"rohit\", 37, \"football\")"
   ]
  },
  {
   "cell_type": "code",
   "execution_count": 9,
   "id": "80fc41ce-32ed-4723-a7cc-75c946962a3d",
   "metadata": {},
   "outputs": [
    {
     "data": {
      "text/plain": [
       "'rohit'"
      ]
     },
     "execution_count": 9,
     "metadata": {},
     "output_type": "execute_result"
    }
   ],
   "source": [
    "obj.name"
   ]
  },
  {
   "cell_type": "code",
   "execution_count": 13,
   "id": "cd024784-c460-4ba8-ba2b-932ec021f82d",
   "metadata": {},
   "outputs": [
    {
     "data": {
      "text/plain": [
       "37"
      ]
     },
     "execution_count": 13,
     "metadata": {},
     "output_type": "execute_result"
    }
   ],
   "source": [
    "obj.age"
   ]
  },
  {
   "cell_type": "code",
   "execution_count": 11,
   "id": "10016cab-9a01-4f1f-a561-cd0d8337b48d",
   "metadata": {},
   "outputs": [],
   "source": [
    "obj1 = person(\"virat\", 37, \"cricket\")"
   ]
  },
  {
   "cell_type": "code",
   "execution_count": 12,
   "id": "8a3861f5-4e29-4226-ac8d-b90fe3522812",
   "metadata": {},
   "outputs": [
    {
     "data": {
      "text/plain": [
       "'virat'"
      ]
     },
     "execution_count": 12,
     "metadata": {},
     "output_type": "execute_result"
    }
   ],
   "source": [
    "obj1.age"
   ]
  },
  {
   "cell_type": "code",
   "execution_count": null,
   "id": "b90b771b-d141-4078-bc3d-26f25a1915c8",
   "metadata": {},
   "outputs": [],
   "source": []
  },
  {
   "cell_type": "code",
   "execution_count": 19,
   "id": "9c11ce6f-95f1-41b3-abd5-648c3c391c32",
   "metadata": {},
   "outputs": [],
   "source": [
    "class person1:\n",
    "\n",
    "    def __init__(self, name, age, profession):\n",
    "        self.name = name\n",
    "        self.age = age\n",
    "        self.profession = profession\n",
    "\n",
    "    def __init__(self, name, age, profession, address):\n",
    "        self.name = name\n",
    "        self.age = age\n",
    "        self.profession = profession\n",
    "        self.address = address\n",
    "\n",
    "    def __init__(self, name, age, profession, address, pincode):\n",
    "        self.name = name\n",
    "        self.age = age\n",
    "        self.profession = profession\n",
    "        self.address = address\n",
    "        self.picode = pincode\n",
    "\n",
    "    def __init__(self, name, age):\n",
    "        self.name = name\n",
    "        self.age = age"
   ]
  },
  {
   "cell_type": "code",
   "execution_count": 21,
   "id": "a6220056-2afe-4f28-80dd-2c3c24d871ef",
   "metadata": {},
   "outputs": [],
   "source": [
    "obj = person1(\"rohit\", 37)"
   ]
  },
  {
   "cell_type": "code",
   "execution_count": null,
   "id": "fe55067c-2b08-4d0e-8c48-381d7d9c5355",
   "metadata": {},
   "outputs": [],
   "source": []
  },
  {
   "cell_type": "code",
   "execution_count": 36,
   "id": "87e98aac-0a77-478e-86cf-4d19ebd2571b",
   "metadata": {},
   "outputs": [],
   "source": [
    "name = \"python\""
   ]
  },
  {
   "cell_type": "code",
   "execution_count": 22,
   "id": "b55e3739-96f9-4186-8840-9a6864628c46",
   "metadata": {},
   "outputs": [],
   "source": [
    "class person2:\n",
    "    \n",
    "    def __init__(self, name, DOB, profession):\n",
    "        self.name = name\n",
    "        self.DOB = DOB\n",
    "        self.profession = profession\n",
    "\n",
    "    def age(self, current_year):\n",
    "        self.current_year = current_year\n",
    "        return self.current_year - self.DOB\n",
    "    "
   ]
  },
  {
   "cell_type": "code",
   "execution_count": 25,
   "id": "90c18326-2453-4c83-88df-c151339285d2",
   "metadata": {},
   "outputs": [],
   "source": [
    "obj = person2(\"rahul\", 1990, \"cricketer\")"
   ]
  },
  {
   "cell_type": "code",
   "execution_count": 26,
   "id": "282c3f12-6ee8-45ed-9f81-9be8f90524f9",
   "metadata": {},
   "outputs": [
    {
     "data": {
      "text/plain": [
       "35"
      ]
     },
     "execution_count": 26,
     "metadata": {},
     "output_type": "execute_result"
    }
   ],
   "source": [
    "obj.age(2025)"
   ]
  },
  {
   "cell_type": "code",
   "execution_count": null,
   "id": "e22400a6-39f3-4e13-b04b-c34333f7cd26",
   "metadata": {},
   "outputs": [],
   "source": []
  },
  {
   "cell_type": "code",
   "execution_count": null,
   "id": "dbd96777-e037-458e-9ee3-a828eb9c4edb",
   "metadata": {},
   "outputs": [],
   "source": []
  },
  {
   "cell_type": "code",
   "execution_count": 27,
   "id": "116bb44b-841d-46ab-a11f-80cb7c3bab82",
   "metadata": {},
   "outputs": [],
   "source": [
    "class person3:\n",
    "\n",
    "    def __init__(self, name, DOB, profession):\n",
    "        self.name = name                   # Public\n",
    "        self._DOB = DOB                    # protective\n",
    "        self.__profession = profession     # private\n"
   ]
  },
  {
   "cell_type": "code",
   "execution_count": 28,
   "id": "6150307d-b14f-48dd-9e45-fe905d9a3ead",
   "metadata": {},
   "outputs": [],
   "source": [
    "obj = person3(\"rahul\", 1990, \"cricketer\")"
   ]
  },
  {
   "cell_type": "code",
   "execution_count": 29,
   "id": "6b3ae3a3-345e-447a-9b65-4bfb0ab4ba26",
   "metadata": {},
   "outputs": [
    {
     "data": {
      "text/plain": [
       "1990"
      ]
     },
     "execution_count": 29,
     "metadata": {},
     "output_type": "execute_result"
    }
   ],
   "source": [
    "obj._DOB"
   ]
  },
  {
   "cell_type": "code",
   "execution_count": 31,
   "id": "2f9d4282-0261-484c-ad07-cef31ead9eb5",
   "metadata": {},
   "outputs": [
    {
     "data": {
      "text/plain": [
       "'cricketer'"
      ]
     },
     "execution_count": 31,
     "metadata": {},
     "output_type": "execute_result"
    }
   ],
   "source": [
    "obj._person3__profession"
   ]
  },
  {
   "cell_type": "code",
   "execution_count": null,
   "id": "ebe3e543-7cc5-42e7-9b48-84bbc9d9d207",
   "metadata": {},
   "outputs": [],
   "source": []
  },
  {
   "cell_type": "code",
   "execution_count": 41,
   "id": "a90c191a-c2d6-45a2-b480-9cf122d40a3d",
   "metadata": {},
   "outputs": [],
   "source": [
    "class person4:\n",
    "\n",
    "\n",
    "    __team = \"INDIA\"\n",
    "    \n",
    "    def __init__(self, name, DOB, profession):\n",
    "        self.name = name\n",
    "        self.DOB = DOB\n",
    "        self.profession = profession\n",
    "\n",
    "    def age(self, current_year):\n",
    "        self.current_year = current_year\n",
    "        return self.current_year - self.DOB"
   ]
  },
  {
   "cell_type": "code",
   "execution_count": 42,
   "id": "9a2acc52-81bc-4219-860d-f87fc3f517df",
   "metadata": {},
   "outputs": [],
   "source": [
    "obj = person4(\"rahul\", 1990, \"cricketer\")"
   ]
  },
  {
   "cell_type": "code",
   "execution_count": 43,
   "id": "7b8f3e06-fa3f-4a85-b2cd-ace562d32da8",
   "metadata": {},
   "outputs": [
    {
     "data": {
      "text/plain": [
       "'INDIA'"
      ]
     },
     "execution_count": 43,
     "metadata": {},
     "output_type": "execute_result"
    }
   ],
   "source": [
    "obj._person4__team"
   ]
  },
  {
   "cell_type": "code",
   "execution_count": null,
   "id": "790e957f-bc9e-4cf1-98ad-6461cfabfcb1",
   "metadata": {},
   "outputs": [],
   "source": []
  },
  {
   "cell_type": "code",
   "execution_count": 44,
   "id": "4e7c623a-a49a-489d-9f9e-3c8ff7b45182",
   "metadata": {},
   "outputs": [],
   "source": [
    "class SimpleClass:\n",
    "    \"\"\"Class with default constructor\"\"\"\n",
    "    pass\n",
    "\n",
    "obj = SimpleClass()  "
   ]
  },
  {
   "cell_type": "code",
   "execution_count": 46,
   "id": "58c4b64a-3e45-4568-9fe0-0767252ff4bd",
   "metadata": {},
   "outputs": [
    {
     "data": {
      "text/plain": [
       "<__main__.SimpleClass at 0x18dd54eba90>"
      ]
     },
     "execution_count": 46,
     "metadata": {},
     "output_type": "execute_result"
    }
   ],
   "source": [
    "obj"
   ]
  },
  {
   "cell_type": "code",
   "execution_count": 47,
   "id": "705bb828-7113-4a08-9a23-5460ab99f4f2",
   "metadata": {},
   "outputs": [],
   "source": [
    "class Student:\n",
    "    def __init__(self, name, grade=\"A\", school=\"Unknown\"):\n",
    "        \"\"\"Constructor with default parameters\"\"\"\n",
    "        self.name = name\n",
    "        self.grade = grade\n",
    "        self.school = school\n"
   ]
  },
  {
   "cell_type": "code",
   "execution_count": 51,
   "id": "c77891d3-50b9-489a-9c43-5bedf1e14278",
   "metadata": {},
   "outputs": [],
   "source": [
    "# Different ways to create objects\n",
    "student1 = Student(\"John\")                    # Uses defaults\n",
    "student2 = Student(\"Jane\", \"B\")              # Partial parameters\n",
    "#student3 = Student(\"Bob\", \"A+\", \"MIT\")       # All parameters"
   ]
  },
  {
   "cell_type": "code",
   "execution_count": 52,
   "id": "f47d3f30-29ed-4680-835e-b8f2a9dee2f6",
   "metadata": {},
   "outputs": [
    {
     "data": {
      "text/plain": [
       "'B'"
      ]
     },
     "execution_count": 52,
     "metadata": {},
     "output_type": "execute_result"
    }
   ],
   "source": [
    "student2.grade"
   ]
  },
  {
   "cell_type": "code",
   "execution_count": null,
   "id": "7d5d936d-f1d1-4496-a56f-c66105def55e",
   "metadata": {},
   "outputs": [],
   "source": []
  },
  {
   "cell_type": "code",
   "execution_count": 54,
   "id": "79af496c-9975-48c7-8862-c881d2657d58",
   "metadata": {},
   "outputs": [],
   "source": [
    "class PublicExample:\n",
    "    def __init__(self):\n",
    "        self.public_var = \"I'm public\"  # Public attribute\n",
    "    \n",
    "    def public_method(self):  # Public method\n",
    "        return \"This is a public method\"\n"
   ]
  },
  {
   "cell_type": "code",
   "execution_count": 55,
   "id": "a24d6180-ebfc-4d02-9735-57858066131b",
   "metadata": {},
   "outputs": [
    {
     "name": "stdout",
     "output_type": "stream",
     "text": [
      "I'm public\n",
      "This is a public method\n"
     ]
    }
   ],
   "source": [
    "obj = PublicExample()\n",
    "print(obj.public_var)        # Direct access: I'm public\n",
    "print(obj.public_method())   # Direct access: This is a public method"
   ]
  },
  {
   "cell_type": "code",
   "execution_count": null,
   "id": "a189bfc1-7ae6-400f-92da-3238d2e4842a",
   "metadata": {},
   "outputs": [],
   "source": []
  },
  {
   "cell_type": "code",
   "execution_count": 58,
   "id": "b21ec3a6-8d1e-4cb1-aaf6-55d69bc610eb",
   "metadata": {},
   "outputs": [],
   "source": [
    "class ProtectedExample:\n",
    "    def __init__(self):\n",
    "        self._protected_var = \"I'm protected\"  # Protected attribute\n",
    "    \n",
    "    def _protected_method(self):  # Protected method\n",
    "        return \"This is a protected method\"\n",
    "    \n",
    "    def access_protected(self):\n",
    "        \"\"\"Public method to access protected members\"\"\"\n",
    "        return self._protected_var\n",
    "\n"
   ]
  },
  {
   "cell_type": "code",
   "execution_count": null,
   "id": "3fb8cf1f-39d5-4d19-b259-ae7812246587",
   "metadata": {},
   "outputs": [],
   "source": [
    "obj = ProtectedExample()\n",
    "print(obj._protected_var)      # Still accessible but not recommended\n",
    "print(obj.access_protected())  # Recommended way"
   ]
  },
  {
   "cell_type": "code",
   "execution_count": 59,
   "id": "0d55c257-0f09-4cce-a6ff-970b50b916b5",
   "metadata": {},
   "outputs": [],
   "source": [
    "obj = ProtectedExample()"
   ]
  },
  {
   "cell_type": "code",
   "execution_count": 60,
   "id": "feb7c7fc-9269-4676-b995-6f9d73c61761",
   "metadata": {},
   "outputs": [
    {
     "data": {
      "text/plain": [
       "\"I'm protected\""
      ]
     },
     "execution_count": 60,
     "metadata": {},
     "output_type": "execute_result"
    }
   ],
   "source": [
    "obj._protected_var"
   ]
  },
  {
   "cell_type": "code",
   "execution_count": 63,
   "id": "e9545ddf-ffc3-4eaf-b13c-7254bcb758b0",
   "metadata": {},
   "outputs": [
    {
     "data": {
      "text/plain": [
       "'This is a protected method'"
      ]
     },
     "execution_count": 63,
     "metadata": {},
     "output_type": "execute_result"
    }
   ],
   "source": [
    "obj._protected_method()"
   ]
  },
  {
   "cell_type": "code",
   "execution_count": null,
   "id": "23e85040-012f-40e5-a2a4-08bef4c5854f",
   "metadata": {},
   "outputs": [],
   "source": []
  },
  {
   "cell_type": "code",
   "execution_count": null,
   "id": "155f1c70-4fc7-4c06-9f39-286ce5cdf46f",
   "metadata": {},
   "outputs": [],
   "source": []
  },
  {
   "cell_type": "code",
   "execution_count": 64,
   "id": "9ac00b18-f670-4289-8027-3979fe6d0559",
   "metadata": {},
   "outputs": [],
   "source": [
    "class PrivateExample:\n",
    "    def __init__(self):\n",
    "        self.__private_var = \"I'm private\"  # Private attribute\n",
    "        self.public_var = \"I'm public\"\n",
    "    \n",
    "    def __private_method(self):  # Private method\n",
    "        return \"This is a private method\"\n",
    "    \n",
    "    def access_private(self):\n",
    "        \"\"\"Public method to access private members\"\"\"\n",
    "        return self.__private_var + \" - \" + self.__private_method()\n",
    "\n"
   ]
  },
  {
   "cell_type": "code",
   "execution_count": null,
   "id": "ed48eb1e-ad3b-4752-aca8-2cbf6fc28143",
   "metadata": {},
   "outputs": [],
   "source": [
    "obj = PrivateExample()\n",
    "print(obj.public_var)           # Works: I'm public\n",
    "print(obj.access_private())     # Works: I'm private - This is a private method\n",
    "\n",
    "# These will cause AttributeError:\n",
    "# print(obj.__private_var)      # Error!\n",
    "# print(obj.__private_method()) # Error!\n",
    "\n",
    "# But can still access via name mangling (not recommended):\n",
    "print(obj._PrivateExample__private_var)  # I'm private"
   ]
  },
  {
   "cell_type": "code",
   "execution_count": 65,
   "id": "ac6a097e-9e27-4cbc-9e16-2175a1f1d613",
   "metadata": {},
   "outputs": [],
   "source": [
    "obj = PrivateExample()"
   ]
  },
  {
   "cell_type": "code",
   "execution_count": 66,
   "id": "0e4f063a-53b6-40a9-9ce0-43494d775dd2",
   "metadata": {},
   "outputs": [
    {
     "data": {
      "text/plain": [
       "\"I'm public\""
      ]
     },
     "execution_count": 66,
     "metadata": {},
     "output_type": "execute_result"
    }
   ],
   "source": [
    "obj.public_var"
   ]
  },
  {
   "cell_type": "code",
   "execution_count": 67,
   "id": "a3f5c456-9aa9-46b2-b182-d01352d444b9",
   "metadata": {},
   "outputs": [
    {
     "data": {
      "text/plain": [
       "\"I'm private - This is a private method\""
      ]
     },
     "execution_count": 67,
     "metadata": {},
     "output_type": "execute_result"
    }
   ],
   "source": [
    "obj.access_private()"
   ]
  },
  {
   "cell_type": "code",
   "execution_count": 68,
   "id": "d52c587c-7c15-425a-9cb2-9768fb0f0afc",
   "metadata": {},
   "outputs": [
    {
     "data": {
      "text/plain": [
       "'This is a private method'"
      ]
     },
     "execution_count": 68,
     "metadata": {},
     "output_type": "execute_result"
    }
   ],
   "source": [
    "obj._PrivateExample__private_method()"
   ]
  },
  {
   "cell_type": "code",
   "execution_count": 69,
   "id": "a463a065-44e4-4030-a2a9-bedb796e54ce",
   "metadata": {},
   "outputs": [
    {
     "data": {
      "text/plain": [
       "\"I'm private\""
      ]
     },
     "execution_count": 69,
     "metadata": {},
     "output_type": "execute_result"
    }
   ],
   "source": [
    "obj._PrivateExample__private_var"
   ]
  },
  {
   "cell_type": "code",
   "execution_count": null,
   "id": "c6009db3-910c-4b32-9430-5a4d4626e68f",
   "metadata": {},
   "outputs": [],
   "source": []
  },
  {
   "cell_type": "code",
   "execution_count": null,
   "id": "9615d387-b44b-4d74-8ee4-eed029cdcf6e",
   "metadata": {},
   "outputs": [],
   "source": [
    "class Calculator:\n",
    "    def __init__(self, value):\n",
    "        self.value = value\n",
    "    \n",
    "    def add(self, num):  # Instance method\n",
    "        \"\"\"Adds number to instance value\"\"\"\n",
    "        self.value += num\n",
    "        return self.value\n",
    "    \n",
    "    def get_value(self):  # Instance method\n",
    "        \"\"\"Returns current value\"\"\"\n",
    "        return self.value\n",
    "\n",
    "calc = Calculator(10)\n",
    "print(calc.add(5))        # 15\n",
    "print(calc.get_value())   # 15"
   ]
  },
  {
   "cell_type": "code",
   "execution_count": null,
   "id": "0f7aff06-0b70-4eca-aeeb-430d49f9ebb4",
   "metadata": {},
   "outputs": [],
   "source": []
  },
  {
   "cell_type": "code",
   "execution_count": 70,
   "id": "1c0ca4f9-4441-4892-ae8a-4cda97f547f2",
   "metadata": {},
   "outputs": [],
   "source": [
    "class MathUtils:\n",
    "    @staticmethod\n",
    "    def add(a, b):  # Static method\n",
    "        \"\"\"Adds two numbers\"\"\"\n",
    "        return a + b\n",
    "    \n",
    "    @staticmethod\n",
    "    def is_even(num):  # Static method\n",
    "        \"\"\"Checks if number is even\"\"\"\n",
    "        return num % 2 == 0\n",
    "    \n",
    "    @staticmethod\n",
    "    def factorial(n):  # Static method\n",
    "        \"\"\"Calculates factorial\"\"\"\n",
    "        if n <= 1:\n",
    "            return 1\n",
    "        return n * MathUtils.factorial(n - 1)\n",
    "\n"
   ]
  },
  {
   "cell_type": "code",
   "execution_count": 71,
   "id": "b44d0e9f-6858-4287-8e52-7f3a4dd15a7a",
   "metadata": {},
   "outputs": [
    {
     "name": "stdout",
     "output_type": "stream",
     "text": [
      "8\n",
      "True\n",
      "120\n",
      "5\n"
     ]
    }
   ],
   "source": [
    "# Can call without creating instance\n",
    "print(MathUtils.add(5, 3))        # 8\n",
    "print(MathUtils.is_even(4))       # True\n",
    "print(MathUtils.factorial(5))     # 120\n",
    "\n",
    "# Can also call from instance\n",
    "math = MathUtils()\n",
    "print(math.add(2, 3))  # 5"
   ]
  },
  {
   "cell_type": "code",
   "execution_count": null,
   "id": "292895c2-d4ad-4b6a-be90-e37806006a47",
   "metadata": {},
   "outputs": [],
   "source": []
  }
 ],
 "metadata": {
  "kernelspec": {
   "display_name": "Python 3 (ipykernel)",
   "language": "python",
   "name": "python3"
  },
  "language_info": {
   "codemirror_mode": {
    "name": "ipython",
    "version": 3
   },
   "file_extension": ".py",
   "mimetype": "text/x-python",
   "name": "python",
   "nbconvert_exporter": "python",
   "pygments_lexer": "ipython3",
   "version": "3.11.7"
  }
 },
 "nbformat": 4,
 "nbformat_minor": 5
}
