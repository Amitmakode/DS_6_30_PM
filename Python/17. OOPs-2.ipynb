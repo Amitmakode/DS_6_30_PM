{
 "cells": [
  {
   "cell_type": "markdown",
   "id": "99d2e118-1df4-49bc-b4e5-cc5a5b316465",
   "metadata": {},
   "source": [
    "#### Inheritance and Its Types"
   ]
  },
  {
   "cell_type": "code",
   "execution_count": 1,
   "id": "109c2754-88b6-4e32-92f9-083379fa8ae3",
   "metadata": {},
   "outputs": [],
   "source": [
    "class Animal:  # Parent/Base class\n",
    "    def __init__(self, name, species):\n",
    "        self.name = name\n",
    "        self.species = species\n",
    "    \n",
    "    def speak(self):\n",
    "        return f\"{self.name} makes a sound\"\n",
    "    \n",
    "    def info(self):\n",
    "        return f\"{self.name} is a {self.species}\"\n",
    "\n",
    "\n",
    "\n",
    "class Dog(Animal):  # Child/Derived class\n",
    "    def __init__(self, name, breed):\n",
    "        super().__init__(name, \"Dog\")  # Call parent constructor\n",
    "        self.breed = breed\n",
    "    \n",
    "    def speak(self):  # Method overriding\n",
    "        return f\"{self.name} barks!\"\n",
    "    \n",
    "    def fetch(self):  # Additional method\n",
    "        return f\"{self.name} fetches the ball\""
   ]
  },
  {
   "cell_type": "code",
   "execution_count": 2,
   "id": "66d7aa91-94d1-4e31-948d-a6a32c916165",
   "metadata": {},
   "outputs": [],
   "source": [
    "# Usage\n",
    "dog = Dog(\"Buddy\", \"Golden Retriever\")"
   ]
  },
  {
   "cell_type": "code",
   "execution_count": 4,
   "id": "3099e99d-b77e-47cb-a94b-a3080eb435db",
   "metadata": {},
   "outputs": [
    {
     "data": {
      "text/plain": [
       "'Buddy is a Dog'"
      ]
     },
     "execution_count": 4,
     "metadata": {},
     "output_type": "execute_result"
    }
   ],
   "source": [
    "dog.info()"
   ]
  },
  {
   "cell_type": "code",
   "execution_count": null,
   "id": "9f9b28a2-d178-46fe-a6e7-9f05e06c9025",
   "metadata": {},
   "outputs": [],
   "source": []
  },
  {
   "cell_type": "code",
   "execution_count": 3,
   "id": "e95d01c6-5b0a-42a7-b06f-cec1b1a57590",
   "metadata": {},
   "outputs": [
    {
     "name": "stdout",
     "output_type": "stream",
     "text": [
      "Buddy barks!\n",
      "Buddy is a Dog\n",
      "Buddy fetches the ball\n"
     ]
    }
   ],
   "source": [
    "print(dog.speak())  # Buddy barks! (overridden method)\n",
    "print(dog.info())   # Buddy is a Dog (inherited method)\n",
    "print(dog.fetch())  # Buddy fetches the ball (new method)"
   ]
  },
  {
   "cell_type": "code",
   "execution_count": null,
   "id": "4faa2a35-2b0d-41c2-8b8d-6a94f2af4eed",
   "metadata": {},
   "outputs": [],
   "source": []
  },
  {
   "cell_type": "markdown",
   "id": "fd534fc3-abf4-4f20-aa3a-5456bbe1748c",
   "metadata": {},
   "source": [
    "#### Multiple Inheritance"
   ]
  },
  {
   "cell_type": "code",
   "execution_count": 15,
   "id": "a9ae210d-77bf-4b8d-81a6-2c68f4aca02e",
   "metadata": {},
   "outputs": [],
   "source": [
    "class Animal:  # Parent/Base class\n",
    "    def __init__(self, name, species):\n",
    "        self.name = name\n",
    "        self.species = species\n",
    "    \n",
    "    def speak(self):\n",
    "        return f\"{self.name} makes a sound (animal class)\"\n",
    "    \n",
    "    def info(self):\n",
    "        return f\"{self.name} is a {self.species}\"\n",
    "\n",
    "class Flyable:  # First parent class\n",
    "    def fly(self):\n",
    "        return \"Flying high in the sky\"\n",
    "\n",
    "    def speak(self):\n",
    "        return f\"{self.name} makes a sound (flyable class)\"\n",
    "\n",
    "class Swimmable:  # Second parent class\n",
    "    def swim(self):\n",
    "        return \"Swimming in the water\"\n",
    "\n",
    "class Duck(Flyable, Animal,  Swimmable):  # Multiple inheritance\n",
    "    def __init__(self, name):\n",
    "        super().__init__(name, \"Duck\")\n",
    "    \n"
   ]
  },
  {
   "cell_type": "code",
   "execution_count": 16,
   "id": "ee618f74-9cc0-434a-bc40-7bb78d1356d2",
   "metadata": {},
   "outputs": [],
   "source": [
    "# Usage\n",
    "duck = Duck(\"Donald\")"
   ]
  },
  {
   "cell_type": "code",
   "execution_count": 17,
   "id": "69f4a262-fe7e-4475-adc9-f25a74b6dfe2",
   "metadata": {},
   "outputs": [
    {
     "data": {
      "text/plain": [
       "'Donald makes a sound (flyable class)'"
      ]
     },
     "execution_count": 17,
     "metadata": {},
     "output_type": "execute_result"
    }
   ],
   "source": [
    "duck.speak()"
   ]
  },
  {
   "cell_type": "code",
   "execution_count": 19,
   "id": "6f9c9ae4-f656-41a8-a3d6-c7f68d8e3031",
   "metadata": {},
   "outputs": [
    {
     "data": {
      "text/plain": [
       "'Donald makes a sound (flyable class)'"
      ]
     },
     "execution_count": 19,
     "metadata": {},
     "output_type": "execute_result"
    }
   ],
   "source": [
    "duck.speak()"
   ]
  },
  {
   "cell_type": "code",
   "execution_count": null,
   "id": "ba66626b-9592-4e30-bf7c-0312bd9e5074",
   "metadata": {},
   "outputs": [],
   "source": []
  },
  {
   "cell_type": "code",
   "execution_count": null,
   "id": "4116b951-f089-48c9-9487-ec306ee7a354",
   "metadata": {},
   "outputs": [],
   "source": [
    "print(duck.speak())  # Donald quacks!\n",
    "print(duck.fly())    # Flying high in the sky\n",
    "print(duck.swim())   # Swimming in the water\n",
    "print(duck.info())   # Donald is a Duck"
   ]
  },
  {
   "cell_type": "code",
   "execution_count": null,
   "id": "d5fca058-8db1-47ef-aa4a-a3a3d191b621",
   "metadata": {},
   "outputs": [],
   "source": []
  },
  {
   "cell_type": "markdown",
   "id": "81997e84-509f-4e74-9636-892aaf445e5b",
   "metadata": {},
   "source": [
    "#### Multilevel Inheritance"
   ]
  },
  {
   "cell_type": "code",
   "execution_count": 5,
   "id": "904e28bd-536a-421a-b91b-92f717e51fdb",
   "metadata": {},
   "outputs": [],
   "source": [
    "class Vehicle:  # Grandparent class\n",
    "    def __init__(self, brand):\n",
    "        self.brand = brand\n",
    "    \n",
    "    def start(self):\n",
    "        return f\"{self.brand} vehicle started\"\n",
    "\n",
    "class Car(Vehicle):  # Parent class\n",
    "    def __init__(self, brand, model):\n",
    "        super().__init__(brand)\n",
    "        self.model = model\n",
    "    \n",
    "    def drive(self):\n",
    "        return f\"Driving {self.brand} {self.model}\"\n",
    "\n",
    "class ElectricCar(Car):  # Child class\n",
    "    def __init__(self, brand, model, battery_capacity):\n",
    "        super().__init__(brand, model)\n",
    "        self.battery_capacity = battery_capacity\n",
    "    \n",
    "    def charge(self):\n",
    "        return f\"Charging {self.brand} {self.model} with {self.battery_capacity}kWh battery\"\n"
   ]
  },
  {
   "cell_type": "code",
   "execution_count": 6,
   "id": "9fdd86b8-f908-45c1-bd62-842fc6f2a2e1",
   "metadata": {},
   "outputs": [],
   "source": [
    "# Usage\n",
    "tesla = ElectricCar(\"Tesla\", \"Model 3\", 75)\n"
   ]
  },
  {
   "cell_type": "code",
   "execution_count": 7,
   "id": "a520af01-b599-46e2-a059-e4bfbef795b8",
   "metadata": {},
   "outputs": [],
   "source": [
    "car = Car(\"Tata\", \"curve\")"
   ]
  },
  {
   "cell_type": "code",
   "execution_count": 8,
   "id": "38e53c26-7b27-4514-a457-af316e42424f",
   "metadata": {},
   "outputs": [
    {
     "data": {
      "text/plain": [
       "'Tata'"
      ]
     },
     "execution_count": 8,
     "metadata": {},
     "output_type": "execute_result"
    }
   ],
   "source": [
    "car.brand"
   ]
  },
  {
   "cell_type": "code",
   "execution_count": null,
   "id": "5b78d5e1-424a-4153-8965-88ffd2fe5a90",
   "metadata": {},
   "outputs": [],
   "source": [
    "print(tesla.start())   # Tesla vehicle started (from Vehicle)\n",
    "print(tesla.drive())   # Driving Tesla Model 3 (from Car)\n",
    "print(tesla.charge())  # Charging Tesla Model 3 with 75kWh battery (from ElectricCar)"
   ]
  },
  {
   "cell_type": "code",
   "execution_count": 32,
   "id": "86653135-5573-45ac-9102-b322217bee79",
   "metadata": {},
   "outputs": [
    {
     "data": {
      "text/plain": [
       "[__main__.ElectricCar, __main__.Car, __main__.Vehicle, object]"
      ]
     },
     "execution_count": 32,
     "metadata": {},
     "output_type": "execute_result"
    }
   ],
   "source": [
    "ElectricCar.mro()"
   ]
  },
  {
   "cell_type": "code",
   "execution_count": null,
   "id": "610584f6-a43c-4db5-a915-9adb4ec1bb7c",
   "metadata": {},
   "outputs": [],
   "source": []
  },
  {
   "cell_type": "markdown",
   "id": "69c97495-e38d-4b26-b0ad-a4e56413bf69",
   "metadata": {},
   "source": [
    "#### Hierarchical Inheritance"
   ]
  },
  {
   "cell_type": "code",
   "execution_count": 20,
   "id": "7c794550-9a44-4be6-801b-ae9cb0582bf1",
   "metadata": {},
   "outputs": [],
   "source": [
    "class Shape:  # Parent class\n",
    "    def __init__(self, color):\n",
    "        self.color = color\n",
    "    \n",
    "    def describe(self):\n",
    "        return f\"This is a {self.color} shape\"\n",
    "\n",
    "class Rectangle(Shape):  # Child class 1\n",
    "    def __init__(self, color, width, height):\n",
    "        super().__init__(color)\n",
    "        self.width = width\n",
    "        self.height = height\n",
    "    \n",
    "    def area(self):\n",
    "        return self.width * self.height\n",
    "\n",
    "class Circle(Shape):  # Child class 2\n",
    "    def __init__(self, color, radius):\n",
    "        super().__init__(color)\n",
    "        self.radius = radius\n",
    "    \n",
    "    def area(self):\n",
    "        return 3.14159 * self.radius ** 2\n",
    "\n",
    "class Triangle(Shape):  # Child class 3\n",
    "    def __init__(self, color, base, height):\n",
    "        super().__init__(color)\n",
    "        self.base = base\n",
    "        self.height = height\n",
    "    \n",
    "    def area(self):\n",
    "        return 0.5 * self.base * self.height\n",
    "\n",
    "#"
   ]
  },
  {
   "cell_type": "code",
   "execution_count": 21,
   "id": "a0ae786f-53d8-40a5-8b86-4ef7fe418128",
   "metadata": {},
   "outputs": [],
   "source": [
    "#Usage\n",
    "rect = Rectangle(\"red\", 5, 3)\n",
    "circle = Circle(\"blue\", 4)\n",
    "triangle = Triangle(\"green\", 6, 4)"
   ]
  },
  {
   "cell_type": "code",
   "execution_count": 23,
   "id": "6d36aaf2-9a33-449c-883e-ce140261cf4f",
   "metadata": {},
   "outputs": [
    {
     "data": {
      "text/plain": [
       "'red'"
      ]
     },
     "execution_count": 23,
     "metadata": {},
     "output_type": "execute_result"
    }
   ],
   "source": [
    "rect.color"
   ]
  },
  {
   "cell_type": "code",
   "execution_count": 31,
   "id": "c585b2b4-3ce1-4b6e-b715-a67c6d23f687",
   "metadata": {},
   "outputs": [
    {
     "data": {
      "text/plain": [
       "[__main__.Triangle, __main__.Shape, object]"
      ]
     },
     "execution_count": 31,
     "metadata": {},
     "output_type": "execute_result"
    }
   ],
   "source": [
    "Triangle.mro()"
   ]
  },
  {
   "cell_type": "code",
   "execution_count": null,
   "id": "dc059da9-8717-44b7-95b6-804300c5fb59",
   "metadata": {},
   "outputs": [],
   "source": []
  },
  {
   "cell_type": "markdown",
   "id": "8e89e8ec-12dc-447f-8c8b-902a38c4c361",
   "metadata": {},
   "source": [
    "#### Hybrid"
   ]
  },
  {
   "cell_type": "code",
   "execution_count": 25,
   "id": "0295d848-9a81-4d0a-8f75-b4c8325a4064",
   "metadata": {},
   "outputs": [],
   "source": [
    "class Animal:  # Parent/Base class\n",
    "    def __init__(self, name, species):\n",
    "        self.name = name\n",
    "        self.species = species\n",
    "    \n",
    "    def speak(self):\n",
    "        return f\"{self.name} makes a sound (animal class)\"\n",
    "    \n",
    "    def info(self):\n",
    "        return f\"{self.name} is a {self.species}\"\n",
    "\n",
    "class Flyable:  # First parent class\n",
    "    def fly(self):\n",
    "        return \"Flying high in the sky\"\n",
    "\n",
    "    def speak(self):\n",
    "        return f\"{self.name} makes a sound (flyable class)\"\n",
    "\n",
    "class Swimmable:  # Second parent class\n",
    "    def swim(self):\n",
    "        return \"Swimming in the water\"\n",
    "\n",
    "class Duck(Flyable, Animal,  Swimmable):  # Multiple inheritance\n",
    "    def __init__(self, name):\n",
    "        super().__init__(name, \"Duck\")\n",
    "\n",
    "\n",
    "class swan(Animal, Flyable, Swimmable):  # Multiple inheritance\n",
    "    def __init__(self, name):\n",
    "        super().__init__(name, \"swan\")"
   ]
  },
  {
   "cell_type": "code",
   "execution_count": 26,
   "id": "7785e5c0-a658-46d5-828c-68da992ebdcf",
   "metadata": {},
   "outputs": [],
   "source": [
    "obj = Duck(\"harry\")"
   ]
  },
  {
   "cell_type": "code",
   "execution_count": 30,
   "id": "904bbcf4-63b6-415d-bfc7-dd8f2ba79c8d",
   "metadata": {},
   "outputs": [
    {
     "data": {
      "text/plain": [
       "[__main__.Duck, __main__.Flyable, __main__.Animal, __main__.Swimmable, object]"
      ]
     },
     "execution_count": 30,
     "metadata": {},
     "output_type": "execute_result"
    }
   ],
   "source": [
    "Duck.mro()"
   ]
  },
  {
   "cell_type": "code",
   "execution_count": null,
   "id": "0b14ed9c-7b70-4678-bc86-c3e53af403f2",
   "metadata": {},
   "outputs": [],
   "source": []
  },
  {
   "cell_type": "markdown",
   "id": "905c945a-9488-49fb-a96b-47e3b8d8bef9",
   "metadata": {},
   "source": [
    "### Polymorphism"
   ]
  },
  {
   "cell_type": "code",
   "execution_count": 33,
   "id": "649ee625-dd2b-4bfb-9e2b-a6156d7f3761",
   "metadata": {},
   "outputs": [
    {
     "name": "stdout",
     "output_type": "stream",
     "text": [
      "Cat: Meow!\n",
      "Dog: Woof!\n",
      "Cow: Moo!\n",
      "Animal: Some generic animal sound\n"
     ]
    }
   ],
   "source": [
    "class Animal:\n",
    "    def make_sound(self):\n",
    "        return \"Some generic animal sound\"\n",
    "\n",
    "class Cat(Animal):\n",
    "    def make_sound(self):  # Overriding parent method\n",
    "        return \"Meow!\"\n",
    "\n",
    "class Dog(Animal):\n",
    "    def make_sound(self):  # Overriding parent method\n",
    "        return \"Woof!\"\n",
    "\n",
    "class Cow(Animal):\n",
    "    def make_sound(self):  # Overriding parent method\n",
    "        return \"Moo!\"\n",
    "\n",
    "# Polymorphic behavior\n",
    "def animal_sound(animal):  # Same function works with different objects\n",
    "    return animal.make_sound()\n",
    "\n",
    "# Usage\n",
    "animals = [Cat(), Dog(), Cow(), Animal()]\n",
    "\n",
    "\n",
    "for i in animals:\n",
    "    print(f\"{i.__class__.__name__}: {animal_sound(i)}\")\n",
    "# Output:\n",
    "# Cat: Meow!\n",
    "# Dog: Woof!\n",
    "# Cow: Moo!\n",
    "# Animal: Some generic animal sound\n"
   ]
  },
  {
   "cell_type": "code",
   "execution_count": 34,
   "id": "923d0462-8697-4526-8c29-801eec8b326e",
   "metadata": {},
   "outputs": [],
   "source": [
    "obj = Cat()"
   ]
  },
  {
   "cell_type": "code",
   "execution_count": 35,
   "id": "81d660f4-d3d6-424f-8647-dd977669b84d",
   "metadata": {},
   "outputs": [
    {
     "data": {
      "text/plain": [
       "'Meow!'"
      ]
     },
     "execution_count": 35,
     "metadata": {},
     "output_type": "execute_result"
    }
   ],
   "source": [
    "obj.make_sound()"
   ]
  },
  {
   "cell_type": "code",
   "execution_count": 36,
   "id": "844c6fbb-3495-4321-b565-87c5791a0b29",
   "metadata": {},
   "outputs": [],
   "source": [
    "# Polymorphic behavior\n",
    "def animal_sound1(animal):  # Same function works with different objects\n",
    "    return animal.make_sound()"
   ]
  },
  {
   "cell_type": "code",
   "execution_count": 38,
   "id": "c3553ad4-85db-4808-a5fa-df14f5e926d4",
   "metadata": {},
   "outputs": [
    {
     "data": {
      "text/plain": [
       "'Some generic animal sound'"
      ]
     },
     "execution_count": 38,
     "metadata": {},
     "output_type": "execute_result"
    }
   ],
   "source": [
    "animal_sound1(Animal())"
   ]
  },
  {
   "cell_type": "code",
   "execution_count": 39,
   "id": "87a13e6f-518e-4d04-ac13-a4e9bb85ec91",
   "metadata": {},
   "outputs": [],
   "source": [
    "obj1 = Animal()"
   ]
  },
  {
   "cell_type": "code",
   "execution_count": 40,
   "id": "ba88ede9-6976-4f2a-b470-9a3db1bc58c4",
   "metadata": {},
   "outputs": [
    {
     "data": {
      "text/plain": [
       "'Some generic animal sound'"
      ]
     },
     "execution_count": 40,
     "metadata": {},
     "output_type": "execute_result"
    }
   ],
   "source": [
    "animal_sound1(obj1)"
   ]
  },
  {
   "cell_type": "code",
   "execution_count": null,
   "id": "9a579970-f505-45fb-b7fd-d6237b21570b",
   "metadata": {},
   "outputs": [],
   "source": [
    "tesla"
   ]
  },
  {
   "cell_type": "code",
   "execution_count": 41,
   "id": "e74012f2-43c8-44d0-853e-27a33d80f0e8",
   "metadata": {},
   "outputs": [
    {
     "ename": "AttributeError",
     "evalue": "'ElectricCar' object has no attribute 'make_sound'",
     "output_type": "error",
     "traceback": [
      "\u001b[1;31m---------------------------------------------------------------------------\u001b[0m",
      "\u001b[1;31mAttributeError\u001b[0m                            Traceback (most recent call last)",
      "Cell \u001b[1;32mIn[41], line 1\u001b[0m\n\u001b[1;32m----> 1\u001b[0m animal_sound1(tesla)\n",
      "Cell \u001b[1;32mIn[36], line 3\u001b[0m, in \u001b[0;36manimal_sound1\u001b[1;34m(animal)\u001b[0m\n\u001b[0;32m      2\u001b[0m \u001b[38;5;28;01mdef\u001b[39;00m \u001b[38;5;21manimal_sound1\u001b[39m(animal):  \u001b[38;5;66;03m# Same function works with different objects\u001b[39;00m\n\u001b[1;32m----> 3\u001b[0m     \u001b[38;5;28;01mreturn\u001b[39;00m animal\u001b[38;5;241m.\u001b[39mmake_sound()\n",
      "\u001b[1;31mAttributeError\u001b[0m: 'ElectricCar' object has no attribute 'make_sound'"
     ]
    }
   ],
   "source": [
    "animal_sound1(tesla)"
   ]
  },
  {
   "cell_type": "code",
   "execution_count": null,
   "id": "190f897f-2d39-4bcd-99be-40c1b4bc41cb",
   "metadata": {},
   "outputs": [],
   "source": []
  },
  {
   "cell_type": "markdown",
   "id": "23e52b1d-4ea4-4246-9349-923ea13fb7bd",
   "metadata": {},
   "source": [
    "#### Encapsulation"
   ]
  },
  {
   "cell_type": "code",
   "execution_count": 53,
   "id": "2e26915e-358e-4f9a-9566-cc8daa28623e",
   "metadata": {},
   "outputs": [],
   "source": [
    "class BankAccount:\n",
    "    def __init__(self, account_holder, initial_balance=0):\n",
    "        self.account_holder = account_holder\n",
    "        self.__balance = initial_balance  # Private attribute\n",
    "        self.__transaction_history = []   # Private attribute\n",
    "    \n",
    "    def deposit(self, amount):  # Public method\n",
    "        \"\"\"Deposit money to account\"\"\"\n",
    "        if amount > 0:\n",
    "            self.__balance += amount\n",
    "            self.__add_transaction(f\"Deposited ${amount}\")\n",
    "            return f\"Deposited ${amount}. New balance: ${self.__balance}\"\n",
    "        return \"Invalid deposit amount\"\n",
    "    \n",
    "    def withdraw(self, amount):  # Public method\n",
    "        \"\"\"Withdraw money from account\"\"\"\n",
    "        if 0 < amount <= self.__balance:\n",
    "            self.__balance -= amount\n",
    "            self.__add_transaction(f\"Withdrew ${amount}\")\n",
    "            return f\"Withdrew ${amount}. New balance: ${self.__balance}\"\n",
    "        return \"Insufficient funds or invalid amount\"\n",
    "    \n",
    "    def get_balance(self):  # Public method\n",
    "        \"\"\"Get current balance\"\"\"\n",
    "        return self.__balance\n",
    "    \n",
    "    def __add_transaction(self, transaction):  # Private method\n",
    "        \"\"\"Add transaction to history\"\"\"\n",
    "        from datetime import datetime\n",
    "        timestamp = datetime.now().strftime(\"%Y-%m-%d %H:%M:%S\")\n",
    "        self.__transaction_history.append(f\"{timestamp}: {transaction}\")\n",
    "    \n",
    "    def get_transaction_history(self):  # Public method\n",
    "        \"\"\"Get transaction history\"\"\"\n",
    "        return self.__transaction_history.copy()  # Return copy to prevent modification\n"
   ]
  },
  {
   "cell_type": "code",
   "execution_count": 54,
   "id": "28d500ce-d08a-493a-8bf4-866e26f20ef1",
   "metadata": {},
   "outputs": [],
   "source": [
    "# Usage - Encapsulation in action\n",
    "account = BankAccount(\"John Doe\", 1000)"
   ]
  },
  {
   "cell_type": "code",
   "execution_count": 55,
   "id": "92b70b6d-3384-46be-ad0e-f9ef88967e9d",
   "metadata": {},
   "outputs": [
    {
     "data": {
      "text/plain": [
       "[]"
      ]
     },
     "execution_count": 55,
     "metadata": {},
     "output_type": "execute_result"
    }
   ],
   "source": [
    "account.get_transaction_history()"
   ]
  },
  {
   "cell_type": "code",
   "execution_count": 60,
   "id": "41c11db9-1e6f-4412-b2c1-3736d2740223",
   "metadata": {},
   "outputs": [
    {
     "data": {
      "text/plain": [
       "'Deposited $10000. New balance: $11000'"
      ]
     },
     "execution_count": 60,
     "metadata": {},
     "output_type": "execute_result"
    }
   ],
   "source": [
    "account.deposit(10000)"
   ]
  },
  {
   "cell_type": "code",
   "execution_count": null,
   "id": "ab1c742e-e0f9-4816-aa1b-617f54a7c458",
   "metadata": {},
   "outputs": [],
   "source": []
  },
  {
   "cell_type": "code",
   "execution_count": null,
   "id": "1b308846-63a8-498e-adba-791ca6f41956",
   "metadata": {},
   "outputs": [],
   "source": []
  },
  {
   "cell_type": "code",
   "execution_count": 49,
   "id": "105ddfc3-89ee-4bcf-bb88-77f982b5a7b6",
   "metadata": {},
   "outputs": [
    {
     "name": "stdout",
     "output_type": "stream",
     "text": [
      "Alice\n"
     ]
    }
   ],
   "source": [
    "class Person:\n",
    "    def __init__(self, name, age):\n",
    "        self.__name = name   # private variable\n",
    "        self.__age = age\n",
    "\n",
    "    def get_name(self):      # public method to access private variable\n",
    "        return self.__name\n",
    "\n",
    "    def get_age(self):      # public method to access private variable\n",
    "        return self.__age\n",
    "\n",
    "p = Person(\"Alice\", 45)\n",
    "print(p.get_name())   # Output: Alice\n"
   ]
  },
  {
   "cell_type": "code",
   "execution_count": 63,
   "id": "20d5c65b-fa36-4372-9e25-f3b106ec8ebc",
   "metadata": {},
   "outputs": [
    {
     "data": {
      "text/plain": [
       "45"
      ]
     },
     "execution_count": 63,
     "metadata": {},
     "output_type": "execute_result"
    }
   ],
   "source": [
    "p._Person__age"
   ]
  },
  {
   "cell_type": "code",
   "execution_count": 47,
   "id": "9dad5f20-1fdf-4a8d-9583-49e3635343b1",
   "metadata": {},
   "outputs": [
    {
     "name": "stdout",
     "output_type": "stream",
     "text": [
      "Deposited $500. New balance: $1800\n",
      "Withdrew $200. New balance: $1600\n",
      "Balance: $1600\n",
      "Transaction History:\n",
      "  2025-07-22 19:26:47: Deposited $500\n",
      "  2025-07-22 19:26:47: Withdrew $200\n",
      "  2025-07-22 19:28:37: Deposited $500\n",
      "  2025-07-22 19:28:37: Withdrew $200\n"
     ]
    }
   ],
   "source": [
    "print(account.deposit(500))   # Deposited $500. New balance: $1500\n",
    "print(account.withdraw(200))  # Withdrew $200. New balance: $1300\n",
    "print(f\"Balance: ${account.get_balance()}\")  # Balance: $1300\n",
    "\n",
    "# Cannot directly access private attributes\n",
    "#print(account.__balance)  # AttributeError\n",
    "account._BankAccount__balance = 5000  # Doesn't work\n",
    "\n",
    "# Proper way to access data\n",
    "print(\"Transaction History:\")\n",
    "for transaction in account.get_transaction_history():\n",
    "    print(f\"  {transaction}\")"
   ]
  },
  {
   "cell_type": "code",
   "execution_count": null,
   "id": "c97c5489-04cc-40e9-8b1d-1add69414522",
   "metadata": {},
   "outputs": [],
   "source": []
  },
  {
   "cell_type": "code",
   "execution_count": null,
   "id": "5efd9504-396a-4b97-9b8e-36ffeab02341",
   "metadata": {},
   "outputs": [],
   "source": []
  },
  {
   "cell_type": "markdown",
   "id": "29d15a92-0f7e-47b9-98b2-00e72589baa5",
   "metadata": {},
   "source": [
    "### super()"
   ]
  },
  {
   "cell_type": "code",
   "execution_count": 66,
   "id": "a715e672-355e-4885-bed5-e5045445b2ff",
   "metadata": {},
   "outputs": [],
   "source": [
    "class Parent:\n",
    "    def show(self):\n",
    "        print(\"This is the Parent class\")\n",
    "\n",
    "class Child(Parent):\n",
    "    def show1(self):\n",
    "        super().show()      # calls Parent's show()\n",
    "        print(\"This is the Child class\")\n",
    "        super().show() "
   ]
  },
  {
   "cell_type": "code",
   "execution_count": 67,
   "id": "1ff3fe94-3b75-4156-aee8-9cd088e3ea97",
   "metadata": {},
   "outputs": [],
   "source": [
    "c = Child()\n",
    "#c.show()\n",
    "\n"
   ]
  },
  {
   "cell_type": "code",
   "execution_count": 68,
   "id": "9f0f4881-6afc-45dc-a08d-09fb2132382c",
   "metadata": {},
   "outputs": [
    {
     "name": "stdout",
     "output_type": "stream",
     "text": [
      "This is the Parent class\n",
      "This is the Child class\n",
      "This is the Parent class\n"
     ]
    }
   ],
   "source": [
    "c.show1()"
   ]
  },
  {
   "cell_type": "code",
   "execution_count": null,
   "id": "2d54e4a8-6bec-40d2-8942-f8b7a375a13f",
   "metadata": {},
   "outputs": [],
   "source": []
  },
  {
   "cell_type": "code",
   "execution_count": 69,
   "id": "820f2adb-f8a3-4f4f-8978-34b391a831e5",
   "metadata": {},
   "outputs": [],
   "source": [
    "class Parent:\n",
    "    \n",
    "    def show(self):\n",
    "        print(\"This is the Parent class\")\n",
    "\n",
    "class Child:\n",
    "    def show1(self):\n",
    "        super().show()      # calls Parent's show()\n",
    "        print(\"This is the Child class\")\n"
   ]
  },
  {
   "cell_type": "code",
   "execution_count": 70,
   "id": "11f32983-1f6f-4e31-8536-e84fd0bace43",
   "metadata": {},
   "outputs": [],
   "source": [
    "c = Child()"
   ]
  },
  {
   "cell_type": "code",
   "execution_count": 71,
   "id": "66f0cadc-5ef2-45a5-9a64-91008f836282",
   "metadata": {},
   "outputs": [
    {
     "ename": "AttributeError",
     "evalue": "'super' object has no attribute 'show'",
     "output_type": "error",
     "traceback": [
      "\u001b[1;31m---------------------------------------------------------------------------\u001b[0m",
      "\u001b[1;31mAttributeError\u001b[0m                            Traceback (most recent call last)",
      "Cell \u001b[1;32mIn[71], line 1\u001b[0m\n\u001b[1;32m----> 1\u001b[0m c\u001b[38;5;241m.\u001b[39mshow1()\n",
      "Cell \u001b[1;32mIn[69], line 7\u001b[0m, in \u001b[0;36mChild.show1\u001b[1;34m(self)\u001b[0m\n\u001b[0;32m      6\u001b[0m \u001b[38;5;28;01mdef\u001b[39;00m \u001b[38;5;21mshow1\u001b[39m(\u001b[38;5;28mself\u001b[39m):\n\u001b[1;32m----> 7\u001b[0m     \u001b[38;5;28msuper\u001b[39m()\u001b[38;5;241m.\u001b[39mshow()      \u001b[38;5;66;03m# calls Parent's show()\u001b[39;00m\n\u001b[0;32m      8\u001b[0m     \u001b[38;5;28mprint\u001b[39m(\u001b[38;5;124m\"\u001b[39m\u001b[38;5;124mThis is the Child class\u001b[39m\u001b[38;5;124m\"\u001b[39m)\n",
      "\u001b[1;31mAttributeError\u001b[0m: 'super' object has no attribute 'show'"
     ]
    }
   ],
   "source": [
    "c.show1()"
   ]
  },
  {
   "cell_type": "code",
   "execution_count": null,
   "id": "5079baa6-0ab7-4a0d-83e3-ecdc3b05aee1",
   "metadata": {},
   "outputs": [],
   "source": []
  }
 ],
 "metadata": {
  "kernelspec": {
   "display_name": "Python 3 (ipykernel)",
   "language": "python",
   "name": "python3"
  },
  "language_info": {
   "codemirror_mode": {
    "name": "ipython",
    "version": 3
   },
   "file_extension": ".py",
   "mimetype": "text/x-python",
   "name": "python",
   "nbconvert_exporter": "python",
   "pygments_lexer": "ipython3",
   "version": "3.11.7"
  }
 },
 "nbformat": 4,
 "nbformat_minor": 5
}
