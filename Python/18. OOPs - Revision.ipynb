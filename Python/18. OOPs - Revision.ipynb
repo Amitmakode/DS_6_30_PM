{
 "cells": [
  {
   "cell_type": "code",
   "execution_count": 7,
   "id": "25ced773-0781-406f-a601-ed9b91e98d13",
   "metadata": {},
   "outputs": [],
   "source": [
    "class Animal:  # Parent/Base class\n",
    "    \n",
    "    def speak(self):\n",
    "        return f\"  makes a sound\"\n",
    "    \n",
    "    def info(self):\n",
    "        return \"this is info class from animal class\"\n",
    "\n",
    "\n",
    "\n",
    "class Dog(Animal):  # Child/Derived class\n",
    "    \n",
    "    def speak(self):  # Method overriding\n",
    "        return \"this is speak class from dog\"\n",
    "    \n",
    "    def fetch(self):  # Additional method\n",
    "        return \"this is fetch class from dog\""
   ]
  },
  {
   "cell_type": "code",
   "execution_count": 9,
   "id": "9e455ebd-35c4-4747-9852-1b5f0b96d9ed",
   "metadata": {},
   "outputs": [],
   "source": [
    "obj = Dog()"
   ]
  },
  {
   "cell_type": "code",
   "execution_count": 10,
   "id": "d91abfdb-da69-4362-a0fc-c59af744017a",
   "metadata": {},
   "outputs": [
    {
     "data": {
      "text/plain": [
       "'this is fetch class from dog'"
      ]
     },
     "execution_count": 10,
     "metadata": {},
     "output_type": "execute_result"
    }
   ],
   "source": [
    "obj.fetch()"
   ]
  },
  {
   "cell_type": "code",
   "execution_count": 11,
   "id": "aca46f45-476f-4ed3-96d4-febf45d5adb9",
   "metadata": {},
   "outputs": [
    {
     "data": {
      "text/plain": [
       "'this is info class from animal class'"
      ]
     },
     "execution_count": 11,
     "metadata": {},
     "output_type": "execute_result"
    }
   ],
   "source": [
    "obj.info()"
   ]
  },
  {
   "cell_type": "code",
   "execution_count": 12,
   "id": "0b4d8a2a-0008-4b62-9209-3120a480579c",
   "metadata": {},
   "outputs": [
    {
     "data": {
      "text/plain": [
       "'this is speak class from dog'"
      ]
     },
     "execution_count": 12,
     "metadata": {},
     "output_type": "execute_result"
    }
   ],
   "source": [
    "obj.speak()"
   ]
  },
  {
   "cell_type": "code",
   "execution_count": 13,
   "id": "f8f05044-4aba-472a-b874-85dd20742802",
   "metadata": {},
   "outputs": [],
   "source": [
    "obj1 = Animal()"
   ]
  },
  {
   "cell_type": "code",
   "execution_count": 14,
   "id": "b33da3e4-8f93-4a12-bccf-e1854304f05f",
   "metadata": {},
   "outputs": [
    {
     "data": {
      "text/plain": [
       "'  makes a sound'"
      ]
     },
     "execution_count": 14,
     "metadata": {},
     "output_type": "execute_result"
    }
   ],
   "source": [
    "obj1.speak()"
   ]
  },
  {
   "cell_type": "code",
   "execution_count": null,
   "id": "39d1f090-175d-46f1-a6e5-da6dae3f509d",
   "metadata": {},
   "outputs": [],
   "source": []
  },
  {
   "cell_type": "code",
   "execution_count": null,
   "id": "00dc8aab-4723-46e8-807d-db038aa0ddf3",
   "metadata": {},
   "outputs": [],
   "source": []
  },
  {
   "cell_type": "code",
   "execution_count": 15,
   "id": "95c303cf-4454-41ba-9a8e-68910bd13f33",
   "metadata": {},
   "outputs": [],
   "source": [
    "class Animal:  # Parent/Base class\n",
    "    def __init__(self, name, species):\n",
    "        self.name = name\n",
    "        self.species = species\n",
    "    \n",
    "    def speak(self):\n",
    "        return f\"{self.name} makes a sound (animal class)\"\n",
    "    \n",
    "    def info(self):\n",
    "        return f\"{self.name} is a {self.species}\"\n",
    "\n",
    "class Flyable:  # First parent class\n",
    "    def fly(self):\n",
    "        return \"Flying high in the sky\"\n",
    "\n",
    "    def speak(self):\n",
    "        return f\"{self.name} makes a sound (flyable class)\"\n",
    "\n",
    "class Swimmable:  # Second parent class\n",
    "    def swim(self):\n",
    "        return \"Swimming in the water\"\n",
    "\n",
    "class Duck(Flyable, Animal,  Swimmable):  # Multiple inheritance\n",
    "    def __init__(self, name):\n",
    "        super().__init__(name, \"Duck\")"
   ]
  },
  {
   "cell_type": "code",
   "execution_count": 18,
   "id": "2ef6fb9d-64f5-4321-bd13-8a51aa4edc51",
   "metadata": {},
   "outputs": [],
   "source": [
    "obj = Animal(\"Donald\", \"dog\")"
   ]
  },
  {
   "cell_type": "code",
   "execution_count": 20,
   "id": "3bc626f1-4ecf-47b8-81f1-259334a614c3",
   "metadata": {},
   "outputs": [],
   "source": [
    "obj1 = Duck(\"rony\")"
   ]
  },
  {
   "cell_type": "code",
   "execution_count": 21,
   "id": "5cc483a6-5324-4a83-bbf3-a79b871c60de",
   "metadata": {},
   "outputs": [
    {
     "data": {
      "text/plain": [
       "'rony makes a sound (flyable class)'"
      ]
     },
     "execution_count": 21,
     "metadata": {},
     "output_type": "execute_result"
    }
   ],
   "source": [
    "obj1.speak()"
   ]
  },
  {
   "cell_type": "code",
   "execution_count": null,
   "id": "bd216d37-1494-4432-b4c6-e9d89c1bff29",
   "metadata": {},
   "outputs": [],
   "source": []
  },
  {
   "cell_type": "code",
   "execution_count": 22,
   "id": "1598902c-2fd9-40bd-98fe-10610228984b",
   "metadata": {},
   "outputs": [],
   "source": [
    "class RBI:\n",
    "    def control(self):\n",
    "        return \"RBI controls all the bank and financial institute of INDIA\"\n",
    "\n",
    "class SBI(RBI):\n",
    "    def psu_bank(self):\n",
    "        return \"this is a psu bank of the INDIA\"\n",
    "\n",
    "class HDFC(SBI):\n",
    "    def private_bank(self):\n",
    "        return \"this is largest private bank of INDIA\"\n",
    "\n",
    "\n",
    "class Co_operative(HDFC):\n",
    "    def local_bank(self):\n",
    "        return \"this is a regional bank of INDIA\"\n",
    "\n",
    "\n"
   ]
  },
  {
   "cell_type": "code",
   "execution_count": 23,
   "id": "c0769942-607b-472c-9c55-b53fb626787c",
   "metadata": {},
   "outputs": [],
   "source": [
    "obj = Co_operative()"
   ]
  },
  {
   "cell_type": "code",
   "execution_count": 24,
   "id": "83bb07ac-4d1e-4816-ac4d-9c0d3609d566",
   "metadata": {},
   "outputs": [
    {
     "data": {
      "text/plain": [
       "'this is a regional bank of INDIA'"
      ]
     },
     "execution_count": 24,
     "metadata": {},
     "output_type": "execute_result"
    }
   ],
   "source": [
    "obj.local_bank()"
   ]
  },
  {
   "cell_type": "code",
   "execution_count": null,
   "id": "bd2bc2c7-a8c8-48b2-aeb5-16e6f76c6db9",
   "metadata": {},
   "outputs": [],
   "source": []
  },
  {
   "cell_type": "code",
   "execution_count": null,
   "id": "471f8da4-0231-4f14-81cd-2c2cc118b9a3",
   "metadata": {},
   "outputs": [],
   "source": [
    "class Vehicle:  # Grandparent class\n",
    "    def __init__(self, brand):\n",
    "        self.brand = brand\n",
    "    \n",
    "    def start(self):\n",
    "        return f\"{self.brand} vehicle started\"\n",
    "\n",
    "class Car(Vehicle):  # Parent class\n",
    "    def __init__(self, brand, model):\n",
    "        super().__init__(brand)\n",
    "        self.model = model\n",
    "    \n",
    "    def drive(self):\n",
    "        return f\"Driving {self.brand} {self.model}\"\n",
    "\n",
    "class ElectricCar(Car):  # Child class\n",
    "    def __init__(self, brand, model, battery_capacity):\n",
    "        super().__init__(brand, model)\n",
    "        self.battery_capacity = battery_capacity\n",
    "    \n",
    "    def charge(self):\n",
    "        return f\"Charging {self.brand} {self.model} with {self.battery_capacity}kWh battery\""
   ]
  },
  {
   "cell_type": "code",
   "execution_count": 30,
   "id": "0351b4a5-8e98-4f3d-aa7a-2d3b72f3a961",
   "metadata": {},
   "outputs": [],
   "source": [
    "# Parent class\n",
    "class Bank:\n",
    "    def __init__(self, name):\n",
    "        self.name = name\n",
    "    \n",
    "    def info(self):\n",
    "        print(f\"Bank: {self.name}\")"
   ]
  },
  {
   "cell_type": "code",
   "execution_count": 31,
   "id": "ad0c4fd0-0ad6-4894-9c80-37224526850d",
   "metadata": {},
   "outputs": [],
   "source": [
    "# Child class 1\n",
    "class Savings(Bank):\n",
    "    def __init__(self, name, money):\n",
    "        self.name = name\n",
    "        self.money = money\n",
    "    \n",
    "    def show(self):\n",
    "        self.info()\n",
    "        print(f\"Savings: ${self.money}\")"
   ]
  },
  {
   "cell_type": "code",
   "execution_count": 33,
   "id": "1bc0cc1f-6369-4640-945c-d299e443786e",
   "metadata": {},
   "outputs": [],
   "source": [
    "# Child class 2\n",
    "class Checking(Bank):\n",
    "    def __init__(self, name, money):\n",
    "        self.name = name\n",
    "        self.money = money\n",
    "    \n",
    "    def show(self):\n",
    "        self.info()\n",
    "        print(f\"Checking: ${self.money}\")"
   ]
  },
  {
   "cell_type": "code",
   "execution_count": null,
   "id": "cadaf593-09f1-4435-8498-46a8889d9c3b",
   "metadata": {},
   "outputs": [],
   "source": []
  },
  {
   "cell_type": "code",
   "execution_count": 34,
   "id": "30c66f0c-cdd8-4e2e-ad71-3dfe477f05c5",
   "metadata": {},
   "outputs": [],
   "source": [
    "obj = Checking(\"SBI\", 50000)"
   ]
  },
  {
   "cell_type": "code",
   "execution_count": 35,
   "id": "445bbae3-67a8-416b-9863-89aa4da84077",
   "metadata": {},
   "outputs": [
    {
     "name": "stdout",
     "output_type": "stream",
     "text": [
      "Bank: SBI\n"
     ]
    }
   ],
   "source": [
    "obj.info()"
   ]
  },
  {
   "cell_type": "code",
   "execution_count": 36,
   "id": "189d3fcd-9caf-4031-948c-3b5ece57e67a",
   "metadata": {},
   "outputs": [],
   "source": [
    "obj1 = Savings(\"ICICI\",60000)"
   ]
  },
  {
   "cell_type": "code",
   "execution_count": 37,
   "id": "5d11df44-83d7-456d-9bd2-9b5449a96a31",
   "metadata": {},
   "outputs": [
    {
     "data": {
      "text/plain": [
       "60000"
      ]
     },
     "execution_count": 37,
     "metadata": {},
     "output_type": "execute_result"
    }
   ],
   "source": [
    "obj1.money"
   ]
  },
  {
   "cell_type": "code",
   "execution_count": 38,
   "id": "ebc37d0f-a1aa-426a-826e-ea045d2d713b",
   "metadata": {},
   "outputs": [
    {
     "name": "stdout",
     "output_type": "stream",
     "text": [
      "Bank: ICICI\n",
      "Savings: $60000\n"
     ]
    }
   ],
   "source": [
    "obj1.show()"
   ]
  },
  {
   "cell_type": "code",
   "execution_count": null,
   "id": "efc2f158-491d-462a-b4e3-8b6d94eb78d8",
   "metadata": {},
   "outputs": [],
   "source": [
    "# Parent class\n",
    "class Bank:\n",
    "    def __init__(self, name):\n",
    "        self.name = name\n",
    "    \n",
    "    def info(self):\n",
    "        print(f\"Bank: {self.name}\")\n",
    "\n",
    "# Child class 1\n",
    "class Savings(Bank):\n",
    "    def __init__(self, name, money):\n",
    "        self.name = name\n",
    "        self.money = money\n",
    "    \n",
    "    def show(self):\n",
    "        self.info()\n",
    "        print(f\"Savings: ${self.money}\")\n",
    "\n",
    "# Child class 2\n",
    "class Checking(Bank):\n",
    "    def __init__(self, name, money):\n",
    "        self.name = name\n",
    "        self.money = money\n",
    "    \n",
    "    def show(self):\n",
    "        self.info()\n",
    "        print(f\"Checking: ${self.money}\")\n",
    "\n",
    "# Usage\n",
    "s = Savings(\"ABC Bank\", 1000)\n",
    "c = Checking(\"ABC Bank\", 500)\n",
    "\n",
    "s.show()\n",
    "c.show()\n"
   ]
  },
  {
   "cell_type": "code",
   "execution_count": null,
   "id": "98c68130-b632-4d69-b481-c543802f4e01",
   "metadata": {},
   "outputs": [],
   "source": []
  },
  {
   "cell_type": "code",
   "execution_count": 39,
   "id": "53c97261-3fe2-4db8-9d34-58f417da061e",
   "metadata": {},
   "outputs": [],
   "source": [
    "# Parent class 1\n",
    "class Bank:\n",
    "    def __init__(self, bank_name):\n",
    "        self.bank_name = bank_name"
   ]
  },
  {
   "cell_type": "code",
   "execution_count": 40,
   "id": "3274f286-2d6f-4035-b2df-a784eeb001ac",
   "metadata": {},
   "outputs": [],
   "source": [
    "# Parent class 2\n",
    "class Person:\n",
    "    def __init__(self, name):\n",
    "        self.name = name"
   ]
  },
  {
   "cell_type": "code",
   "execution_count": 41,
   "id": "3d185fc0-8f2e-4971-8aec-86fc672bfa3d",
   "metadata": {},
   "outputs": [],
   "source": [
    "# Child inherits from both Bank and Person\n",
    "class Account(Bank, Person):\n",
    "    def __init__(self, bank_name, name, money):\n",
    "        self.bank_name = bank_name\n",
    "        self.name = name\n",
    "        self.money = money\n",
    "    \n",
    "    def show(self):\n",
    "        print(f\"Bank: {self.bank_name}\")\n",
    "        print(f\"Name: {self.name}\")\n",
    "        print(f\"Money: ${self.money}\")"
   ]
  },
  {
   "cell_type": "code",
   "execution_count": 42,
   "id": "aa3c023b-b2a1-45b7-95a1-62852aec9f20",
   "metadata": {},
   "outputs": [],
   "source": [
    "# Child of Account\n",
    "class MyAccount(Account):\n",
    "    def __init__(self, bank_name, name, money):\n",
    "        self.bank_name = bank_name\n",
    "        self.name = name\n",
    "        self.money = money\n",
    "        self.type = \"Personal\"\n",
    "    \n",
    "    def display(self):\n",
    "        self.show()\n",
    "        print(f\"Type: {self.type}\")"
   ]
  },
  {
   "cell_type": "code",
   "execution_count": null,
   "id": "0dad5dbe-d12b-447b-a539-c841f39b0a49",
   "metadata": {},
   "outputs": [],
   "source": []
  },
  {
   "cell_type": "code",
   "execution_count": 43,
   "id": "9a360fe8-6106-417c-89e2-ba83586539b0",
   "metadata": {},
   "outputs": [
    {
     "data": {
      "text/plain": [
       "[__main__.MyAccount, __main__.Account, __main__.Bank, __main__.Person, object]"
      ]
     },
     "execution_count": 43,
     "metadata": {},
     "output_type": "execute_result"
    }
   ],
   "source": [
    "MyAccount.mro()"
   ]
  },
  {
   "cell_type": "code",
   "execution_count": 44,
   "id": "1c70e7d0-d640-4fb2-a16f-4d55d6772247",
   "metadata": {},
   "outputs": [],
   "source": [
    "obj = MyAccount(\"HDFC\", \"rahul\", 25000)"
   ]
  },
  {
   "cell_type": "code",
   "execution_count": 45,
   "id": "24acef46-03cb-43a6-9f26-22206a7f30a6",
   "metadata": {},
   "outputs": [
    {
     "data": {
      "text/plain": [
       "'rahul'"
      ]
     },
     "execution_count": 45,
     "metadata": {},
     "output_type": "execute_result"
    }
   ],
   "source": [
    "obj.name"
   ]
  },
  {
   "cell_type": "code",
   "execution_count": 46,
   "id": "6dd7b1bd-1da4-4502-9446-dd88d7f50058",
   "metadata": {},
   "outputs": [
    {
     "name": "stdout",
     "output_type": "stream",
     "text": [
      "Bank: HDFC\n",
      "Name: rahul\n",
      "Money: $25000\n"
     ]
    }
   ],
   "source": [
    "obj.show()"
   ]
  },
  {
   "cell_type": "code",
   "execution_count": null,
   "id": "18e5a1f2-e0ce-42bc-9cb0-538ff81d6304",
   "metadata": {},
   "outputs": [],
   "source": []
  },
  {
   "cell_type": "code",
   "execution_count": null,
   "id": "5af63d26-d015-477f-8285-ed89eaca8b31",
   "metadata": {},
   "outputs": [],
   "source": [
    "# Parent class 1\n",
    "class Bank:\n",
    "    def __init__(self, bank_name):\n",
    "        self.bank_name = bank_name\n",
    "\n",
    "# Parent class 2\n",
    "class Person:\n",
    "    def __init__(self, name):\n",
    "        self.name = name\n",
    "\n",
    "# Child inherits from both Bank and Person\n",
    "class Account(Bank, Person):\n",
    "    def __init__(self, bank_name, name, money):\n",
    "        self.bank_name = bank_name\n",
    "        self.name = name\n",
    "        self.money = money\n",
    "    \n",
    "    def show(self):\n",
    "        print(f\"Bank: {self.bank_name}\")\n",
    "        print(f\"Name: {self.name}\")\n",
    "        print(f\"Money: ${self.money}\")\n",
    "\n",
    "# Child of Account\n",
    "class MyAccount(Account):\n",
    "    def __init__(self, bank_name, name, money):\n",
    "        self.bank_name = bank_name\n",
    "        self.name = name\n",
    "        self.money = money\n",
    "        self.type = \"Personal\"\n",
    "    \n",
    "    def display(self):\n",
    "        self.show()\n",
    "        print(f\"Type: {self.type}\")\n",
    "\n",
    "# Usage\n",
    "acc = MyAccount(\"XYZ Bank\", \"John\", 2000)\n",
    "acc.display()\n"
   ]
  },
  {
   "cell_type": "code",
   "execution_count": null,
   "id": "beb8df51-ba32-44f3-8223-14cf8fbe1dff",
   "metadata": {},
   "outputs": [],
   "source": []
  },
  {
   "cell_type": "code",
   "execution_count": null,
   "id": "e385db7c-b5ff-423b-8060-30d13d6edfc8",
   "metadata": {},
   "outputs": [],
   "source": []
  },
  {
   "cell_type": "code",
   "execution_count": 49,
   "id": "0d11f463-35a7-49ac-ba64-a2d43a40f2d8",
   "metadata": {},
   "outputs": [],
   "source": [
    "class Bird:\n",
    "    def sound(self):\n",
    "        return \"kuh-kuh\"\n",
    "\n",
    "class Cat:\n",
    "    def sound(self):   \n",
    "        return \"Meow!\"\n",
    "\n",
    "class Dog:\n",
    "    def sound(self):   \n",
    "        return \"Woof!\"\n",
    "\n",
    "class Cow:\n",
    "    def sound(self):   \n",
    "        return \"Moo!\""
   ]
  },
  {
   "cell_type": "code",
   "execution_count": 50,
   "id": "133313de-7f78-452b-92c7-da3cc7a223f1",
   "metadata": {},
   "outputs": [],
   "source": [
    "o1 = Bird()"
   ]
  },
  {
   "cell_type": "code",
   "execution_count": 51,
   "id": "b8e649a4-7aa4-4ad1-9155-a4726683ceb0",
   "metadata": {},
   "outputs": [],
   "source": [
    "o2 = Cat()\n",
    "o3 = Dog()\n",
    "o4 = Cow()"
   ]
  },
  {
   "cell_type": "code",
   "execution_count": 52,
   "id": "607c9f04-5ab3-4142-a8f5-eb1e5ef3ed33",
   "metadata": {},
   "outputs": [
    {
     "data": {
      "text/plain": [
       "'Woof!'"
      ]
     },
     "execution_count": 52,
     "metadata": {},
     "output_type": "execute_result"
    }
   ],
   "source": [
    "o3.sound()"
   ]
  },
  {
   "cell_type": "code",
   "execution_count": 54,
   "id": "cd9878c0-28d8-48c9-86bd-3f362e9ad5ef",
   "metadata": {},
   "outputs": [],
   "source": [
    "# Polymorphic behavior\n",
    "def animal_sound(cls):  # Same function works with different objects\n",
    "    return cls.sound()"
   ]
  },
  {
   "cell_type": "code",
   "execution_count": 55,
   "id": "860c2b00-716f-40b0-9ee1-4656e6406206",
   "metadata": {},
   "outputs": [
    {
     "data": {
      "text/plain": [
       "'kuh-kuh'"
      ]
     },
     "execution_count": 55,
     "metadata": {},
     "output_type": "execute_result"
    }
   ],
   "source": [
    "animal_sound(o1)"
   ]
  },
  {
   "cell_type": "code",
   "execution_count": 57,
   "id": "97d0aa1c-68c8-4a1a-9b09-9e00bf4d08b2",
   "metadata": {},
   "outputs": [
    {
     "data": {
      "text/plain": [
       "'Meow!'"
      ]
     },
     "execution_count": 57,
     "metadata": {},
     "output_type": "execute_result"
    }
   ],
   "source": [
    "animal_sound(Cat())"
   ]
  },
  {
   "cell_type": "code",
   "execution_count": null,
   "id": "46e4a155-14e6-4209-917b-0185d7849eec",
   "metadata": {},
   "outputs": [],
   "source": []
  },
  {
   "cell_type": "code",
   "execution_count": null,
   "id": "37e16442-cd83-4816-939c-0ef1e1da6c81",
   "metadata": {},
   "outputs": [],
   "source": []
  },
  {
   "cell_type": "code",
   "execution_count": null,
   "id": "1e11a938-4a85-45c6-b7e5-308e00ff450c",
   "metadata": {},
   "outputs": [],
   "source": []
  },
  {
   "cell_type": "code",
   "execution_count": null,
   "id": "b4f685d8-46d5-499a-bca0-d27c3f695036",
   "metadata": {},
   "outputs": [],
   "source": []
  },
  {
   "cell_type": "code",
   "execution_count": null,
   "id": "77ec0fa2-8883-42ba-9ed2-b43a71b37c7e",
   "metadata": {},
   "outputs": [],
   "source": []
  },
  {
   "cell_type": "code",
   "execution_count": null,
   "id": "b1168207-e326-4522-8b7e-4e6bec4c6fd7",
   "metadata": {},
   "outputs": [],
   "source": [
    "Enc"
   ]
  },
  {
   "cell_type": "code",
   "execution_count": 58,
   "id": "3abedde7-7bcc-4c46-bb03-3bb0a718396e",
   "metadata": {},
   "outputs": [],
   "source": [
    "class BankAccount:\n",
    "    def __init__(self, balance):\n",
    "        self.__balance = balance  # (private)  \n",
    "\n",
    "    def deposit(self, amount):\n",
    "        self.__balance += amount\n",
    "\n",
    "    def withdraw(self, amount):\n",
    "        if self.__balance >= amount:\n",
    "            self.__balance -= amount\n",
    "        else:\n",
    "            print(\"insufficient\")\n",
    "\n",
    "    def get_balance(self):\n",
    "        return self.__balance\n"
   ]
  },
  {
   "cell_type": "code",
   "execution_count": 59,
   "id": "ec82522d-3476-4f39-8c99-34b381dcd294",
   "metadata": {},
   "outputs": [],
   "source": [
    "obj = BankAccount(40000)"
   ]
  },
  {
   "cell_type": "code",
   "execution_count": 62,
   "id": "589e6f68-aa5e-4117-bf53-0b01bda272ec",
   "metadata": {},
   "outputs": [
    {
     "data": {
      "text/plain": [
       "70000"
      ]
     },
     "execution_count": 62,
     "metadata": {},
     "output_type": "execute_result"
    }
   ],
   "source": [
    "obj.get_balance()"
   ]
  },
  {
   "cell_type": "code",
   "execution_count": 61,
   "id": "dc46ce29-9329-4903-badc-a4a318616944",
   "metadata": {},
   "outputs": [],
   "source": [
    "obj.deposit(30000)"
   ]
  },
  {
   "cell_type": "code",
   "execution_count": 63,
   "id": "70d2adcc-c74d-4b69-8f0f-9c4dcfef2215",
   "metadata": {},
   "outputs": [
    {
     "name": "stdout",
     "output_type": "stream",
     "text": [
      "insufficient\n"
     ]
    }
   ],
   "source": [
    "obj.withdraw(80000)"
   ]
  },
  {
   "cell_type": "code",
   "execution_count": 64,
   "id": "bf10017d-709a-44ce-8ec6-66f598d95b54",
   "metadata": {},
   "outputs": [],
   "source": [
    "obj.withdraw(35000)"
   ]
  },
  {
   "cell_type": "code",
   "execution_count": 65,
   "id": "c8d04eb2-4e1d-473c-826e-1abbadc60c90",
   "metadata": {},
   "outputs": [
    {
     "data": {
      "text/plain": [
       "35000"
      ]
     },
     "execution_count": 65,
     "metadata": {},
     "output_type": "execute_result"
    }
   ],
   "source": [
    "obj.get_balance()"
   ]
  },
  {
   "cell_type": "code",
   "execution_count": null,
   "id": "2ecb3461-f889-45ff-9d25-825a9d541b05",
   "metadata": {},
   "outputs": [],
   "source": [
    "Poly"
   ]
  },
  {
   "cell_type": "code",
   "execution_count": null,
   "id": "17a5c5ff-d1e6-4068-a08f-9d82bfe378cb",
   "metadata": {},
   "outputs": [],
   "source": [
    "class Dog:\n",
    "    def make_sound(self):\n",
    "        print(\"भौ! भौ!\")\n",
    "\n",
    "class Cat:\n",
    "    def make_sound(self):\n",
    "        print(\"म्याऊँ!\")\n",
    "\n",
    "# एक ही फ़ंक्शन अलग-अलग ऑब्जेक्ट के साथ काम करता है\n",
    "def let_animal_speak(animal):\n",
    "    animal.make_sound()\n",
    "\n",
    "my_dog = Dog()\n",
    "my_cat = Cat()\n",
    "\n",
    "let_animal_speak(my_dog)  # आउटपुट: भौ! भौ!\n",
    "let_animal_speak(my_cat)  # आउटपुट: म्याऊँ!\n"
   ]
  }
 ],
 "metadata": {
  "kernelspec": {
   "display_name": "Python 3 (ipykernel)",
   "language": "python",
   "name": "python3"
  },
  "language_info": {
   "codemirror_mode": {
    "name": "ipython",
    "version": 3
   },
   "file_extension": ".py",
   "mimetype": "text/x-python",
   "name": "python",
   "nbconvert_exporter": "python",
   "pygments_lexer": "ipython3",
   "version": "3.11.7"
  }
 },
 "nbformat": 4,
 "nbformat_minor": 5
}
