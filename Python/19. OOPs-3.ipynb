{
 "cells": [
  {
   "cell_type": "code",
   "execution_count": null,
   "id": "083d914d-c8c3-4551-96a7-7a31f74ef665",
   "metadata": {},
   "outputs": [],
   "source": []
  },
  {
   "cell_type": "code",
   "execution_count": 8,
   "id": "c2c63953-de65-484e-9520-7f04f5c11518",
   "metadata": {},
   "outputs": [],
   "source": [
    "from abc import ABC, abstractmethod\n",
    "\n",
    "# Abstract base class\n",
    "class BankAccount(ABC):\n",
    "\n",
    "    def __init__(self, balance):\n",
    "        self.balance = balance\n",
    "\n",
    "    @abstractmethod\n",
    "    def calculate_interest(self):\n",
    "        pass\n"
   ]
  },
  {
   "cell_type": "code",
   "execution_count": 9,
   "id": "f0e02d4d-592c-4746-b223-18f1cb3bc133",
   "metadata": {},
   "outputs": [],
   "source": [
    "class SavingsAccount(BankAccount):\n",
    "    \n",
    "    def calculate_interest(self):\n",
    "        return self.balance * 0.04  # 4% interest\n"
   ]
  },
  {
   "cell_type": "code",
   "execution_count": 10,
   "id": "b50b53bf-8c61-44d0-ab29-8d8892794a57",
   "metadata": {},
   "outputs": [],
   "source": [
    "class FixedDepositAccount(BankAccount):\n",
    "    \n",
    "    def calculate_interest(self):\n",
    "        return self.balance * 0.07  # 7% interest\n"
   ]
  },
  {
   "cell_type": "code",
   "execution_count": 13,
   "id": "0bfc39b9-0b7f-4d33-a2ab-71aee6423d5a",
   "metadata": {},
   "outputs": [
    {
     "name": "stdout",
     "output_type": "stream",
     "text": [
      "Savings Interest: 400.0\n",
      "FD Interest: 700.0000000000001\n"
     ]
    }
   ],
   "source": [
    "savings = SavingsAccount(10000)\n",
    "print(\"Savings Interest:\", savings.calculate_interest())  # Output: 400.0\n",
    "\n",
    "fd = FixedDepositAccount(10000)\n",
    "print(\"FD Interest:\", fd.calculate_interest())            # Output: 700.0\n"
   ]
  },
  {
   "cell_type": "code",
   "execution_count": 15,
   "id": "d53c6c15-01f5-4401-a170-19c476d62b74",
   "metadata": {},
   "outputs": [
    {
     "ename": "TypeError",
     "evalue": "Can't instantiate abstract class BankAccount with abstract method calculate_interest",
     "output_type": "error",
     "traceback": [
      "\u001b[1;31m---------------------------------------------------------------------------\u001b[0m",
      "\u001b[1;31mTypeError\u001b[0m                                 Traceback (most recent call last)",
      "Cell \u001b[1;32mIn[15], line 1\u001b[0m\n\u001b[1;32m----> 1\u001b[0m obj \u001b[38;5;241m=\u001b[39m BankAccount(\u001b[38;5;241m20000\u001b[39m)\n",
      "\u001b[1;31mTypeError\u001b[0m: Can't instantiate abstract class BankAccount with abstract method calculate_interest"
     ]
    }
   ],
   "source": [
    "obj = BankAccount(20000)"
   ]
  },
  {
   "cell_type": "code",
   "execution_count": null,
   "id": "ff5bfe98-2004-4f2c-8147-28ddd58d2267",
   "metadata": {},
   "outputs": [],
   "source": []
  },
  {
   "cell_type": "code",
   "execution_count": null,
   "id": "9fdf4df1-3173-4823-96b9-447b50e6db18",
   "metadata": {},
   "outputs": [],
   "source": []
  },
  {
   "cell_type": "code",
   "execution_count": null,
   "id": "525fa580-d405-4dae-a24d-7f82d91bfc58",
   "metadata": {},
   "outputs": [],
   "source": []
  },
  {
   "cell_type": "code",
   "execution_count": 2,
   "id": "9f1014cd-b23e-497c-88b2-22524152385e",
   "metadata": {},
   "outputs": [],
   "source": [
    "from abc import ABC, abstractmethod  # Step 1: Import ABC and abstractmethod for abstraction\n",
    "\n",
    "# Step 2: Define an abstract base class\n",
    "class Shape(ABC):  # 'Shape' serves as the blueprint for all shapes\n",
    "\n",
    "    @abstractmethod\n",
    "    def area(self):\n",
    "        # Step 3: Declare an abstract method 'area'\n",
    "        # This method will force subclasses to implement their own version\n",
    "        pass\n",
    "\n",
    "# Step 4: Inherit from the abstract class to create a specific shape\n",
    "class Circle(Shape):\n",
    "    def __init__(self, radius):\n",
    "        # Step 5: Constructor to store radius (unique property for Circle)\n",
    "        self.radius = radius\n",
    "\n",
    "    def area(self):\n",
    "        # Step 6: Concrete implementation of the abstract 'area' method for Circle\n",
    "        return 3.14 * (self.radius ** 2)\n",
    "\n",
    "# Step 7: Inherit from the abstract class to create another shape\n",
    "class Rectangle(Shape):\n",
    "    def __init__(self, width, height):\n",
    "        # Step 8: Constructor to store width and height (unique property for Rectangle)\n",
    "        self.width = width\n",
    "        self.height = height\n",
    "\n",
    "    def area(self):\n",
    "        # Step 9: Concrete implementation of the abstract 'area' method for Rectangle\n",
    "        return self.width * self.height\n",
    "\n"
   ]
  },
  {
   "cell_type": "code",
   "execution_count": null,
   "id": "17b7e1df-d8ad-4f79-ba13-432c4ed0f4f9",
   "metadata": {},
   "outputs": [],
   "source": []
  },
  {
   "cell_type": "code",
   "execution_count": 16,
   "id": "287e27e8-0514-4ba0-b76e-734d4b01c551",
   "metadata": {},
   "outputs": [
    {
     "name": "stdout",
     "output_type": "stream",
     "text": [
      "Circle area: 78.5\n",
      "Rectangle area: 24\n"
     ]
    }
   ],
   "source": [
    "# Step 10: Create objects of subclasses and use the same interface\n",
    "circle = Circle(5)\n",
    "rectangle = Rectangle(4, 6)\n",
    "print(\"Circle area:\", circle.area())      # Output: Circle area: 78.5\n",
    "print(\"Rectangle area:\", rectangle.area())  # Output: Rectangle area: 24\n",
    "\n"
   ]
  },
  {
   "cell_type": "code",
   "execution_count": 17,
   "id": "e54c37ba-e64f-4f2c-a4e1-51577a970181",
   "metadata": {},
   "outputs": [
    {
     "ename": "TypeError",
     "evalue": "Can't instantiate abstract class Shape with abstract method area",
     "output_type": "error",
     "traceback": [
      "\u001b[1;31m---------------------------------------------------------------------------\u001b[0m",
      "\u001b[1;31mTypeError\u001b[0m                                 Traceback (most recent call last)",
      "Cell \u001b[1;32mIn[17], line 2\u001b[0m\n\u001b[0;32m      1\u001b[0m \u001b[38;5;66;03m# You cannot create an object of Shape directly, only its subclasses\u001b[39;00m\n\u001b[1;32m----> 2\u001b[0m shape \u001b[38;5;241m=\u001b[39m Shape()\n",
      "\u001b[1;31mTypeError\u001b[0m: Can't instantiate abstract class Shape with abstract method area"
     ]
    }
   ],
   "source": [
    "# You cannot create an object of Shape directly, only its subclasses\n",
    "shape = Shape()  # This line would raise an error if uncommented"
   ]
  },
  {
   "cell_type": "code",
   "execution_count": null,
   "id": "5a7a9309-bf76-4fb6-903f-5d75fecc1572",
   "metadata": {},
   "outputs": [],
   "source": []
  },
  {
   "cell_type": "code",
   "execution_count": null,
   "id": "a0afa705-134d-48fd-8b6c-8748c85cada8",
   "metadata": {},
   "outputs": [],
   "source": []
  },
  {
   "cell_type": "code",
   "execution_count": null,
   "id": "9d51c03d-8c98-4d25-9a66-836eaf4e52af",
   "metadata": {},
   "outputs": [],
   "source": []
  }
 ],
 "metadata": {
  "kernelspec": {
   "display_name": "Python 3 (ipykernel)",
   "language": "python",
   "name": "python3"
  },
  "language_info": {
   "codemirror_mode": {
    "name": "ipython",
    "version": 3
   },
   "file_extension": ".py",
   "mimetype": "text/x-python",
   "name": "python",
   "nbconvert_exporter": "python",
   "pygments_lexer": "ipython3",
   "version": "3.11.7"
  }
 },
 "nbformat": 4,
 "nbformat_minor": 5
}
