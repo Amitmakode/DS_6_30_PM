{
 "cells": [
  {
   "cell_type": "markdown",
   "id": "a54c3197-87ef-434b-9fca-2ca845e80c57",
   "metadata": {},
   "source": [
    "### loop"
   ]
  },
  {
   "cell_type": "code",
   "execution_count": null,
   "id": "ab982732-7d91-4c0e-9dac-f23f2061eb91",
   "metadata": {},
   "outputs": [],
   "source": [
    "for \n",
    "while"
   ]
  },
  {
   "cell_type": "code",
   "execution_count": 2,
   "id": "4f6a386b-5fba-4aed-81de-a3988a038a0f",
   "metadata": {},
   "outputs": [],
   "source": [
    "var = \"sting\""
   ]
  },
  {
   "cell_type": "code",
   "execution_count": 3,
   "id": "a5482d8c-0e81-450e-b528-35b6602281d9",
   "metadata": {},
   "outputs": [
    {
     "name": "stdout",
     "output_type": "stream",
     "text": [
      "s\n",
      "t\n",
      "i\n",
      "n\n",
      "g\n"
     ]
    }
   ],
   "source": [
    "for i in var:\n",
    "    print(i)"
   ]
  },
  {
   "cell_type": "code",
   "execution_count": 4,
   "id": "b727359b-ba53-41c5-9813-280e88560062",
   "metadata": {},
   "outputs": [
    {
     "name": "stdout",
     "output_type": "stream",
     "text": [
      "0\n",
      "1\n",
      "2\n",
      "3\n",
      "4\n"
     ]
    }
   ],
   "source": [
    "a = 5\n",
    "b = 0\n",
    "\n",
    "while a > b:\n",
    "    print(b)\n",
    "    b = b+1"
   ]
  },
  {
   "cell_type": "code",
   "execution_count": 5,
   "id": "f2fe698b-6491-4779-a70a-b1483d06dc37",
   "metadata": {},
   "outputs": [],
   "source": [
    "tup = (\"jan\", \"feb\", \"march\", \"april\")"
   ]
  },
  {
   "cell_type": "code",
   "execution_count": 6,
   "id": "fe41585f-ba8a-4911-a3d9-39dcc0096855",
   "metadata": {},
   "outputs": [
    {
     "name": "stdout",
     "output_type": "stream",
     "text": [
      "jan\n",
      "feb\n",
      "march\n",
      "april\n"
     ]
    }
   ],
   "source": [
    "for i in tup:\n",
    "    print(i)"
   ]
  },
  {
   "cell_type": "code",
   "execution_count": 7,
   "id": "0af090a8-3010-45f5-bfbb-12234c67f91b",
   "metadata": {},
   "outputs": [
    {
     "name": "stdout",
     "output_type": "stream",
     "text": [
      "jan\n",
      "feb\n",
      "march\n",
      "april\n"
     ]
    }
   ],
   "source": [
    "\n",
    "i = 0\n",
    "while i < len(tup):\n",
    "    print(tup[i])\n",
    "    i=i+1"
   ]
  },
  {
   "cell_type": "code",
   "execution_count": 11,
   "id": "5984db15-8e5f-4a1e-b4c6-a41ca8ba2363",
   "metadata": {},
   "outputs": [
    {
     "name": "stdout",
     "output_type": "stream",
     "text": [
      "month_name jan----month_name feb----month_name march----month_name april----"
     ]
    }
   ],
   "source": [
    "for i in tup:\n",
    "    print(\"month_name\", i, end = \"----\" )"
   ]
  },
  {
   "cell_type": "code",
   "execution_count": 13,
   "id": "9dd6720f-30c2-4f01-82ac-315dff98bca3",
   "metadata": {},
   "outputs": [
    {
     "name": "stdout",
     "output_type": "stream",
     "text": [
      "1 jan\n",
      "2 feb\n",
      "3 march\n",
      "4 april\n"
     ]
    }
   ],
   "source": [
    "for i, j in enumerate(tup):\n",
    "    print(i+1, j )"
   ]
  },
  {
   "cell_type": "code",
   "execution_count": 14,
   "id": "50369b2f-ba58-4969-bb99-48592be72a6e",
   "metadata": {},
   "outputs": [
    {
     "name": "stdout",
     "output_type": "stream",
     "text": [
      "1 jan\n",
      "2 feb\n",
      "3 march\n",
      "4 april\n"
     ]
    }
   ],
   "source": [
    "i = 0\n",
    "\n",
    "while i < len(tup):\n",
    "    print(i+1, tup[i])\n",
    "    i=i+1\n"
   ]
  },
  {
   "cell_type": "code",
   "execution_count": 18,
   "id": "e005b8ba-53a7-435e-a444-c498b382ad5c",
   "metadata": {},
   "outputs": [
    {
     "data": {
      "text/plain": [
       "4"
      ]
     },
     "execution_count": 18,
     "metadata": {},
     "output_type": "execute_result"
    }
   ],
   "source": [
    "len(tup)"
   ]
  },
  {
   "cell_type": "code",
   "execution_count": 19,
   "id": "3e8a9b3d-fe85-4e32-ab16-c07ba815fd94",
   "metadata": {},
   "outputs": [
    {
     "name": "stdout",
     "output_type": "stream",
     "text": [
      "1 jan\n",
      "2 feb\n",
      "3 march\n",
      "4 april\n"
     ]
    }
   ],
   "source": [
    "\n",
    "i = 0\n",
    "while True:\n",
    "    if i >= len(tup):\n",
    "        break\n",
    "    print(i+1, tup[i])\n",
    "    i = i+1\n"
   ]
  },
  {
   "cell_type": "code",
   "execution_count": 21,
   "id": "4bb19fd0-a372-4d9a-bdc8-de1430f7280b",
   "metadata": {},
   "outputs": [],
   "source": [
    "l1 = list(range(10))"
   ]
  },
  {
   "cell_type": "code",
   "execution_count": 23,
   "id": "fccf64fe-5426-44c7-9d49-c3b5ae00475b",
   "metadata": {},
   "outputs": [
    {
     "name": "stdout",
     "output_type": "stream",
     "text": [
      "0----<class 'int'>-----0\n",
      "1----<class 'int'>-----1\n",
      "2----<class 'int'>-----4\n",
      "3----<class 'int'>-----9\n",
      "4----<class 'int'>-----16\n",
      "5----<class 'int'>-----25\n",
      "6----<class 'int'>-----36\n",
      "7----<class 'int'>-----49\n",
      "8----<class 'int'>-----64\n",
      "9----<class 'int'>-----81\n"
     ]
    }
   ],
   "source": [
    "for i in l1:\n",
    "    print(f\"{i}----{type(i)}-----{i**2}\")"
   ]
  },
  {
   "cell_type": "code",
   "execution_count": 24,
   "id": "3a3847b4-073b-40be-98d1-f04b97ae8839",
   "metadata": {},
   "outputs": [
    {
     "name": "stdout",
     "output_type": "stream",
     "text": [
      "0----<class 'int'>-----0\n",
      "1----<class 'int'>-----1\n",
      "2----<class 'int'>-----4\n",
      "3----<class 'int'>-----9\n",
      "4----<class 'int'>-----16\n",
      "5----<class 'int'>-----25\n",
      "6----<class 'int'>-----36\n",
      "7----<class 'int'>-----49\n",
      "8----<class 'int'>-----64\n",
      "9----<class 'int'>-----81\n"
     ]
    }
   ],
   "source": [
    "i =0\n",
    "while i<len(l1):\n",
    "    print(f\"{i}----{type(i)}-----{i**2}\")\n",
    "    i=i+1"
   ]
  },
  {
   "cell_type": "code",
   "execution_count": 25,
   "id": "0aec4330-7594-41ea-819d-631bb9a7eec8",
   "metadata": {},
   "outputs": [
    {
     "data": {
      "text/plain": [
       "[0, 1, 2, 3, 4, 5, 6, 7, 8, 9]"
      ]
     },
     "execution_count": 25,
     "metadata": {},
     "output_type": "execute_result"
    }
   ],
   "source": [
    "l1"
   ]
  },
  {
   "cell_type": "code",
   "execution_count": 30,
   "id": "0664a14e-c406-44df-bb1f-050ea48b316c",
   "metadata": {},
   "outputs": [
    {
     "name": "stdout",
     "output_type": "stream",
     "text": [
      "0 1 2 3 4 5 6 7 8 9 \n",
      "0 1 2 3 4 5 6 7 8 9 \n",
      "0 1 2 3 4 5 6 7 8 9 \n"
     ]
    }
   ],
   "source": [
    "for i in range(3):\n",
    "    for j in l1:\n",
    "        print(j, end = \" \")\n",
    "    print()    "
   ]
  },
  {
   "cell_type": "code",
   "execution_count": 33,
   "id": "3ecc2326-44b6-4ad0-8839-c805a94ba327",
   "metadata": {},
   "outputs": [
    {
     "name": "stdout",
     "output_type": "stream",
     "text": [
      "2 4 6 8 10 12 14 16 18 20 "
     ]
    }
   ],
   "source": [
    "for i in range(1, 21):\n",
    "    if i%2==0:\n",
    "        print(i, end = \" \")"
   ]
  },
  {
   "cell_type": "code",
   "execution_count": 35,
   "id": "7270b314-5e94-4d26-8ed1-eb4e2e172517",
   "metadata": {},
   "outputs": [
    {
     "name": "stdout",
     "output_type": "stream",
     "text": [
      "2 4 6 8 10 12 14 16 18 20 "
     ]
    }
   ],
   "source": [
    "i = 1\n",
    "\n",
    "while i < 21:\n",
    "    if i%2==0:\n",
    "        print(i, end = \" \")\n",
    "    i=i+1    "
   ]
  },
  {
   "cell_type": "code",
   "execution_count": 37,
   "id": "76cec7ba-b89f-4a2e-a18b-6b7a1489867f",
   "metadata": {},
   "outputs": [
    {
     "name": "stdout",
     "output_type": "stream",
     "text": [
      "****\n",
      "****\n",
      "****\n",
      "****\n"
     ]
    }
   ],
   "source": [
    "for i in range(4):\n",
    "    for j in range(4):\n",
    "        print(\"*\", end=\"\")\n",
    "    print()    "
   ]
  },
  {
   "cell_type": "code",
   "execution_count": 39,
   "id": "bb89ca3f-0765-4774-b141-480885432936",
   "metadata": {},
   "outputs": [
    {
     "name": "stdout",
     "output_type": "stream",
     "text": [
      "****\n",
      "****\n",
      "****\n",
      "****\n"
     ]
    }
   ],
   "source": [
    "i = 0\n",
    "while i<4:\n",
    "    j = 0\n",
    "    while j<4:\n",
    "        print(\"*\", end=\"\")\n",
    "        j=j+1\n",
    "    print()\n",
    "    i=i+1    "
   ]
  },
  {
   "cell_type": "code",
   "execution_count": 40,
   "id": "55d938fb-0433-41c7-8e79-112ee1533e9f",
   "metadata": {},
   "outputs": [],
   "source": [
    "d = {1:\"A\", 2:\"B\", 3:\"C\",4:\"D\",5:\"E\"}"
   ]
  },
  {
   "cell_type": "code",
   "execution_count": 41,
   "id": "fc5ca893-d20c-4339-aec4-999f566b5987",
   "metadata": {},
   "outputs": [
    {
     "data": {
      "text/plain": [
       "{1: 'A', 2: 'B', 3: 'C', 4: 'D', 5: 'E'}"
      ]
     },
     "execution_count": 41,
     "metadata": {},
     "output_type": "execute_result"
    }
   ],
   "source": [
    "d"
   ]
  },
  {
   "cell_type": "code",
   "execution_count": 42,
   "id": "2d05840b-b243-4148-b7e5-df14efa6d238",
   "metadata": {},
   "outputs": [
    {
     "name": "stdout",
     "output_type": "stream",
     "text": [
      "1\n",
      "2\n",
      "3\n",
      "4\n",
      "5\n"
     ]
    }
   ],
   "source": [
    "for i in d:\n",
    "    print(i)"
   ]
  },
  {
   "cell_type": "code",
   "execution_count": 46,
   "id": "30b50c81-ddf4-4fa5-bbe2-655aa902b599",
   "metadata": {},
   "outputs": [
    {
     "name": "stdout",
     "output_type": "stream",
     "text": [
      "key: 1 --- value: A\n",
      "key: 2 --- value: B\n",
      "key: 3 --- value: C\n",
      "key: 4 --- value: D\n",
      "key: 5 --- value: E\n"
     ]
    }
   ],
   "source": [
    "for i,j in d.items():\n",
    "    print(f\"key: {i} --- value: {j}\")"
   ]
  },
  {
   "cell_type": "code",
   "execution_count": 47,
   "id": "7a09a7db-7bb1-4ccd-9abd-90f1dfc8c0d7",
   "metadata": {},
   "outputs": [
    {
     "name": "stdout",
     "output_type": "stream",
     "text": [
      "key: 1 --- value: A\n",
      "key: 2 --- value: B\n",
      "key: 4 --- value: D\n",
      "key: 5 --- value: E\n"
     ]
    }
   ],
   "source": [
    "for i, j in d.items():\n",
    "    if j == \"C\":\n",
    "        continue\n",
    "    print(f\"key: {i} --- value: {j}\")    "
   ]
  },
  {
   "cell_type": "code",
   "execution_count": 49,
   "id": "7458812c-4745-4573-9f71-19cec71fcd86",
   "metadata": {},
   "outputs": [],
   "source": [
    "d = {1:\"A\", 2:\"B\", 3:\"C\",4:\"D\",5:\"E\", 6:\"$\",7:\"@\", 8:\"F\", 9:\"G\", 10:\"&\"}"
   ]
  },
  {
   "cell_type": "code",
   "execution_count": 50,
   "id": "e202ad81-48a7-41bd-a02e-f97a28845620",
   "metadata": {},
   "outputs": [
    {
     "name": "stdout",
     "output_type": "stream",
     "text": [
      "key: 1 --- value: A\n",
      "key: 2 --- value: B\n",
      "key: 3 --- value: C\n",
      "key: 4 --- value: D\n",
      "key: 5 --- value: E\n",
      "key: 8 --- value: F\n",
      "key: 9 --- value: G\n"
     ]
    }
   ],
   "source": [
    "for i, j in d.items():\n",
    "    if j == \"$\"or j==\"@\" or j==\"&\":\n",
    "        continue\n",
    "    print(f\"key: {i} --- value: {j}\") "
   ]
  },
  {
   "cell_type": "code",
   "execution_count": 52,
   "id": "09d77f4c-8c7b-4d50-8421-f8f9cb6b959f",
   "metadata": {},
   "outputs": [],
   "source": [
    "a = \"C\""
   ]
  },
  {
   "cell_type": "code",
   "execution_count": 53,
   "id": "8f33e2d5-a2ed-4003-b911-3325d2fef8c8",
   "metadata": {},
   "outputs": [
    {
     "data": {
      "text/plain": [
       "True"
      ]
     },
     "execution_count": 53,
     "metadata": {},
     "output_type": "execute_result"
    }
   ],
   "source": [
    "a.isalpha()"
   ]
  },
  {
   "cell_type": "code",
   "execution_count": 54,
   "id": "31d40683-f64c-4874-955d-4cf25c2e6dfb",
   "metadata": {},
   "outputs": [
    {
     "name": "stdout",
     "output_type": "stream",
     "text": [
      "key: 1 --- value: A\n",
      "key: 2 --- value: B\n",
      "key: 3 --- value: C\n",
      "key: 4 --- value: D\n",
      "key: 5 --- value: E\n",
      "key: 8 --- value: F\n",
      "key: 9 --- value: G\n"
     ]
    }
   ],
   "source": [
    "for i, j in d.items():\n",
    "    if j.isalpha()==True:\n",
    "        print(f\"key: {i} --- value: {j}\") "
   ]
  },
  {
   "cell_type": "code",
   "execution_count": 56,
   "id": "5751c106-872a-4800-b100-f2c2b047ed9e",
   "metadata": {},
   "outputs": [
    {
     "name": "stdout",
     "output_type": "stream",
     "text": [
      "7\n",
      "7\n"
     ]
    }
   ],
   "source": [
    "for i in \"77\":\n",
    "    print(i)"
   ]
  },
  {
   "cell_type": "code",
   "execution_count": null,
   "id": "1ca4a70d-bc0d-41c0-9673-155ec1f90e68",
   "metadata": {},
   "outputs": [],
   "source": []
  }
 ],
 "metadata": {
  "kernelspec": {
   "display_name": "Python 3 (ipykernel)",
   "language": "python",
   "name": "python3"
  },
  "language_info": {
   "codemirror_mode": {
    "name": "ipython",
    "version": 3
   },
   "file_extension": ".py",
   "mimetype": "text/x-python",
   "name": "python",
   "nbconvert_exporter": "python",
   "pygments_lexer": "ipython3",
   "version": "3.11.7"
  }
 },
 "nbformat": 4,
 "nbformat_minor": 5
}
